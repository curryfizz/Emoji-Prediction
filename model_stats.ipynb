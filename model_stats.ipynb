{
 "cells": [
  {
   "cell_type": "code",
   "execution_count": 25,
   "metadata": {},
   "outputs": [],
   "source": [
    "import numpy as np\n",
    "import tensorflow as tf\n",
    "import emoji\n",
    "import pandas as pd\n",
    "import json\n",
    "\n",
    "from keras_preprocessing.text import Tokenizer\n",
    "from keras.models import load_model, model_from_json\n",
    "from keras_preprocessing.sequence import pad_sequences\n"
   ]
  },
  {
   "cell_type": "code",
   "execution_count": 26,
   "metadata": {},
   "outputs": [],
   "source": [
    "model_folder = \"models/training set v.1.0\"\n",
    "\n",
    "model_name = \"epochs_50_layers_256_16_4_2\"\n",
    "\n",
    "model_json_path = f\"{model_folder}/json/{model_name}.json\"\n",
    "\n",
    "model_weight_path = f\"{model_folder}/weights/{model_name}.h5\"\n"
   ]
  },
  {
   "cell_type": "markdown",
   "metadata": {},
   "source": [
    "Load the model"
   ]
  },
  {
   "cell_type": "code",
   "execution_count": 27,
   "metadata": {},
   "outputs": [
    {
     "name": "stdout",
     "output_type": "stream",
     "text": [
      "Loaded model from disk\n"
     ]
    }
   ],
   "source": [
    "# model = load_model(f\"{model_folder}{model_name}.{model_extension}\")\n",
    "# model = keras.models.model_from_json(f\"{model_folder}{model_name}.{model_extension}\")\n",
    "\n",
    "\n",
    "json_file = open(f\"{model_json_path}\", 'r')\n",
    "loaded_model_json = json_file.read()\n",
    "json_file.close()\n",
    "loaded_model = model_from_json(loaded_model_json)\n",
    "\n",
    "# load weights into new model\n",
    "loaded_model.load_weights(model_weight_path)\n",
    "print(\"Loaded model from disk\")"
   ]
  },
  {
   "cell_type": "markdown",
   "metadata": {},
   "source": [
    "Function to get emoji from class"
   ]
  },
  {
   "cell_type": "code",
   "execution_count": 28,
   "metadata": {},
   "outputs": [],
   "source": [
    "emoji_dictionary = {\n",
    "    0: \":red_heart:\",  # Love # X\n",
    "    1: \":face_with_tears_of_joy:\",  # Laughter X\n",
    "    2: \":grinning_face_with_big_eyes:\", # Happiness # X\n",
    "    3: \":loudly_crying_face:\",  # Sadness # X\n",
    "    4: \":smiling_face_with_heart-eyes:\",  # Adoration X\n",
    "    5: \":fire:\",  # Excitement X\n",
    "    6: \":thumbs_up:\",  # Approval\n",
    "    7: \":folded_hands:\",  # Gratitude X\n",
    "    8: \":angry_face:\",  # Anger X\n",
    "    9: \":thinking_face:\",  # Contemplation X\n",
    "}"
   ]
  },
  {
   "cell_type": "code",
   "execution_count": 29,
   "metadata": {},
   "outputs": [],
   "source": [
    "def label_to_emoji(label):\n",
    "    return emoji.emojize(emoji_dictionary[label])"
   ]
  },
  {
   "cell_type": "markdown",
   "metadata": {},
   "source": [
    "Add own data"
   ]
  },
  {
   "cell_type": "code",
   "execution_count": 30,
   "metadata": {},
   "outputs": [],
   "source": [
    "tokenizer = Tokenizer()"
   ]
  },
  {
   "cell_type": "code",
   "execution_count": 75,
   "metadata": {},
   "outputs": [],
   "source": [
    "test = [\n",
    "    \"I am seeing what is happening\",\n",
    "    \"Does loading and unloading even work?\",\n",
    "    \"Naniii\",\n",
    "    \"Wtf is happening\",\n",
    "    \"Im dying\",\n",
    "    \"AAAAAAAAAAAAAAAAAAAAAAAAAAAAAAAAAAAAAAAAAAAAAAAAAAAAAAAAAAAAAAA\",\n",
    "    \"I like your hoodie\",\n",
    "    \"Thank you for the help\",\n",
    "    \"Your jokes are so funny\",\n",
    "    \"I made it\",\n",
    "    \"You are so hot\",\n",
    "    \"I love you so much\",\n",
    "    \"Good job!\"\n",
    "]\n",
    "\n",
    "test_labels = [9,3,8,8,3,3,4,7,1,2,5,0,6]\n",
    "\n",
    "tokenizer.fit_on_texts(test)\n",
    "word_to_index = tokenizer.word_index\n",
    "\n",
    "\n",
    "test_seq = tokenizer.texts_to_sequences(test)\n",
    "Xtest = pad_sequences(test_seq, maxlen=loaded_model.layers[0].input_shape[1], padding='post', truncating='post')"
   ]
  },
  {
   "cell_type": "markdown",
   "metadata": {},
   "source": [
    "See Results"
   ]
  },
  {
   "cell_type": "code",
   "execution_count": 76,
   "metadata": {},
   "outputs": [
    {
     "name": "stdout",
     "output_type": "stream",
     "text": [
      "1/1 [==============================] - 0s 36ms/step\n"
     ]
    }
   ],
   "source": [
    "y_pred = loaded_model.predict(Xtest)\n",
    "y_pred = np.argmax(y_pred, axis=1)"
   ]
  },
  {
   "cell_type": "code",
   "execution_count": 77,
   "metadata": {},
   "outputs": [
    {
     "name": "stdout",
     "output_type": "stream",
     "text": [
      "I am seeing what is happening 😂\n",
      "Does loading and unloading even work? 😂\n",
      "Naniii 👍\n",
      "Wtf is happening 🤔\n",
      "Im dying 🔥\n",
      "AAAAAAAAAAAAAAAAAAAAAAAAAAAAAAAAAAAAAAAAAAAAAAAAAAAAAAAAAAAAAAAI like your hoodieThank you for the helpYour jokes are so funnyI made itYou are so hotI love you so muchGood job! 😂\n"
     ]
    }
   ],
   "source": [
    "for i in range(len(test)):\n",
    "    print(test[i], label_to_emoji(y_pred[i]))"
   ]
  },
  {
   "cell_type": "code",
   "execution_count": 74,
   "metadata": {},
   "outputs": [
    {
     "name": "stdout",
     "output_type": "stream",
     "text": [
      "Test loss (MSE): 1.0\n",
      "Test accuracy: 0.3333333333333333\n"
     ]
    }
   ],
   "source": [
    "# Calculate accuracy\n",
    "correct_predictions = np.sum(y_pred == test_labels)\n",
    "total_predictions = len(test_labels)\n",
    "accuracy = correct_predictions / total_predictions\n",
    "\n",
    "\n",
    "# Calculate loss\n",
    "# Assuming you have a loss function defined or you're using a standard loss function like categorical crossentropy\n",
    "loss = 0.0\n",
    "for i in range(len(test_labels)):\n",
    "    true_label = test_labels[i]\n",
    "    predicted_value = y_pred[i]  \n",
    "    loss += (true_label - predicted_value) ** 2\n",
    "loss /= len(test_labels)\n",
    "print(f'Test loss (MSE): {loss}')\n",
    "print(f'Test accuracy: {accuracy}')"
   ]
  }
 ],
 "metadata": {
  "kernelspec": {
   "display_name": "myenv",
   "language": "python",
   "name": "python3"
  },
  "language_info": {
   "codemirror_mode": {
    "name": "ipython",
    "version": 3
   },
   "file_extension": ".py",
   "mimetype": "text/x-python",
   "name": "python",
   "nbconvert_exporter": "python",
   "pygments_lexer": "ipython3",
   "version": "3.10.13"
  }
 },
 "nbformat": 4,
 "nbformat_minor": 2
}
