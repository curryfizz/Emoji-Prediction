{
 "cells": [
  {
   "cell_type": "code",
   "execution_count": 1,
   "metadata": {},
   "outputs": [],
   "source": [
    "import numpy as np\n",
    "import pandas as pd\n",
    "import emoji\n",
    "\n",
    "from keras.models import Sequential\n",
    "from keras.layers import Dense, LSTM, SimpleRNN, Embedding\n",
    "from keras_preprocessing.text import Tokenizer\n",
    "from keras_preprocessing.sequence import pad_sequences\n",
    "from keras.utils.np_utils import to_categorical"
   ]
  },
  {
   "cell_type": "code",
   "execution_count": 2,
   "metadata": {},
   "outputs": [
    {
     "data": {
      "text/html": [
       "<div>\n",
       "<style scoped>\n",
       "    .dataframe tbody tr th:only-of-type {\n",
       "        vertical-align: middle;\n",
       "    }\n",
       "\n",
       "    .dataframe tbody tr th {\n",
       "        vertical-align: top;\n",
       "    }\n",
       "\n",
       "    .dataframe thead th {\n",
       "        text-align: right;\n",
       "    }\n",
       "</style>\n",
       "<table border=\"1\" class=\"dataframe\">\n",
       "  <thead>\n",
       "    <tr style=\"text-align: right;\">\n",
       "      <th></th>\n",
       "      <th>0</th>\n",
       "      <th>1</th>\n",
       "    </tr>\n",
       "  </thead>\n",
       "  <tbody>\n",
       "    <tr>\n",
       "      <th>0</th>\n",
       "      <td>French macaroon is so tasty</td>\n",
       "      <td>4</td>\n",
       "    </tr>\n",
       "    <tr>\n",
       "      <th>1</th>\n",
       "      <td>work is horrible</td>\n",
       "      <td>3</td>\n",
       "    </tr>\n",
       "    <tr>\n",
       "      <th>2</th>\n",
       "      <td>I am upset</td>\n",
       "      <td>3</td>\n",
       "    </tr>\n",
       "    <tr>\n",
       "      <th>3</th>\n",
       "      <td>throw the ball</td>\n",
       "      <td>1</td>\n",
       "    </tr>\n",
       "    <tr>\n",
       "      <th>4</th>\n",
       "      <td>Good joke</td>\n",
       "      <td>2</td>\n",
       "    </tr>\n",
       "  </tbody>\n",
       "</table>\n",
       "</div>"
      ],
      "text/plain": [
       "                             0  1\n",
       "0  French macaroon is so tasty  4\n",
       "1             work is horrible  3\n",
       "2                   I am upset  3\n",
       "3               throw the ball  1\n",
       "4                    Good joke  2"
      ]
     },
     "execution_count": 2,
     "metadata": {},
     "output_type": "execute_result"
    }
   ],
   "source": [
    "data = pd.read_csv('data/emoji_data/emoji_data.csv', header=None)\n",
    "data.head()"
   ]
  },
  {
   "cell_type": "code",
   "execution_count": 3,
   "metadata": {},
   "outputs": [],
   "source": [
    "emoji_dictionary = {\n",
    "    0: \":red_heart:\",\n",
    "    1: \":baseball:\",\n",
    "    2: \":grinning_face_with_big_eyes:\",\n",
    "    3: \":disappointed_face:\",\n",
    "    4: \":fork_and_knife_with_plate:\"\n",
    "}\n",
    "\n",
    "def label_to_emoji(label):\n",
    "    return emoji.emojize(emoji_dictionary[label])"
   ]
  },
  {
   "cell_type": "code",
   "execution_count": 4,
   "metadata": {},
   "outputs": [
    {
     "data": {
      "text/plain": [
       "array([4, 3, 3, 1, 2, 1, 4, 3, 4, 1, 3, 3, 2, 2, 4, 3, 2, 3, 3, 1, 3, 2,\n",
       "       2, 2, 0, 1, 0, 4, 2, 0, 2, 0, 0, 3, 4, 0, 2, 1, 3, 1, 0, 4, 0, 3,\n",
       "       0, 4, 2, 3, 4, 2, 2, 3, 0, 2, 2, 3, 2, 3, 2, 2, 3, 3, 0, 2, 3, 0,\n",
       "       2, 0, 0, 2, 3, 2, 4, 1, 3, 3, 0, 0, 3, 2, 0, 3, 0, 2, 2, 4, 2, 2,\n",
       "       0, 0, 2, 3, 0, 4, 2, 1, 2, 3, 3, 2, 3, 0, 3, 0, 2, 0, 2, 3, 4, 3,\n",
       "       1, 3, 4, 3, 2, 3, 3, 3, 1, 4, 4, 2, 2, 1, 1, 2, 3, 2, 3, 4, 2, 3,\n",
       "       0, 2, 0, 0, 4, 3, 4, 2, 3, 2, 3, 4, 2, 1, 2, 4, 3, 1, 3, 2, 3, 2,\n",
       "       2, 3, 3, 2, 4, 0, 0, 0, 3, 0, 0, 1, 1, 2, 2, 2, 0, 3, 2, 3, 3, 1,\n",
       "       2, 2, 4, 2, 3, 1, 2], dtype=int64)"
      ]
     },
     "execution_count": 4,
     "metadata": {},
     "output_type": "execute_result"
    }
   ],
   "source": [
    "X = data[0].values\n",
    "Y = data[1].values\n",
    "\n",
    "Y"
   ]
  },
  {
   "cell_type": "markdown",
   "metadata": {},
   "source": [
    "Embeddings"
   ]
  },
  {
   "cell_type": "code",
   "execution_count": 5,
   "metadata": {},
   "outputs": [],
   "source": [
    "with open('data/glove_dataset/glove.6B.100d.txt','r', encoding='utf8') as file:\n",
    "    content = file.readlines()"
   ]
  },
  {
   "cell_type": "code",
   "execution_count": 6,
   "metadata": {},
   "outputs": [],
   "source": [
    "embeddings = {}\n",
    "\n",
    "for line in content:\n",
    "    line = line.split()\n",
    "    embeddings[line[0]] = np.array(line[1:], dtype=float)"
   ]
  },
  {
   "cell_type": "markdown",
   "metadata": {},
   "source": [
    "convert input text into tokens"
   ]
  },
  {
   "cell_type": "code",
   "execution_count": 7,
   "metadata": {},
   "outputs": [],
   "source": [
    "tokenizer = Tokenizer()\n",
    "tokenizer.fit_on_texts(X)\n",
    "word_to_index = tokenizer.word_index\n"
   ]
  },
  {
   "cell_type": "code",
   "execution_count": 8,
   "metadata": {},
   "outputs": [],
   "source": [
    "Xtokens = tokenizer.texts_to_sequences(X)\n"
   ]
  },
  {
   "cell_type": "code",
   "execution_count": 9,
   "metadata": {},
   "outputs": [],
   "source": [
    "def get_maxlen(data):\n",
    "    maxlen = 0\n",
    "    for sent in data:\n",
    "        maxlen = max(maxlen, len(sent))\n",
    "    \n",
    "    return maxlen\n",
    "maxlen = get_maxlen(Xtokens)"
   ]
  },
  {
   "cell_type": "code",
   "execution_count": 10,
   "metadata": {},
   "outputs": [],
   "source": [
    "Xtrain = pad_sequences(Xtokens, maxlen = maxlen, padding = 'post', truncating = 'post')"
   ]
  },
  {
   "cell_type": "code",
   "execution_count": 11,
   "metadata": {},
   "outputs": [],
   "source": [
    "Ytrain = to_categorical(Y)"
   ]
  },
  {
   "cell_type": "markdown",
   "metadata": {},
   "source": [
    "Model"
   ]
  },
  {
   "cell_type": "code",
   "execution_count": 12,
   "metadata": {},
   "outputs": [],
   "source": [
    "embed_size = 100"
   ]
  },
  {
   "cell_type": "code",
   "execution_count": 13,
   "metadata": {},
   "outputs": [],
   "source": [
    "embedding_matrix = np.zeros((len(word_to_index)+1, embed_size))\n",
    "\n",
    "for word, i in word_to_index.items():\n",
    "    embed_vector = embeddings[word]\n",
    "    embedding_matrix[i] = embed_vector"
   ]
  },
  {
   "cell_type": "code",
   "execution_count": 14,
   "metadata": {},
   "outputs": [],
   "source": [
    "model = Sequential([\n",
    "    Embedding(input_dim = len(word_to_index)+1,\n",
    "              output_dim = embed_size,\n",
    "              input_length=maxlen,\n",
    "              weights = [embedding_matrix],\n",
    "              trainable = True\n",
    "              ),\n",
    "    LSTM(units = 16, return_sequences=True),\n",
    "    LSTM(units = 4),\n",
    "    Dense(5, activation='softmax')\n",
    "])\n",
    "\n",
    "model.compile(optimizer='adam', loss='categorical_crossentropy', metrics=['accuracy'])"
   ]
  },
  {
   "cell_type": "code",
   "execution_count": 15,
   "metadata": {},
   "outputs": [
    {
     "name": "stdout",
     "output_type": "stream",
     "text": [
      "Epoch 1/1000\n",
      "6/6 [==============================] - 3s 8ms/step - loss: 1.6157 - accuracy: 0.1257\n",
      "Epoch 2/1000\n",
      "6/6 [==============================] - 0s 8ms/step - loss: 1.5897 - accuracy: 0.2732\n",
      "Epoch 3/1000\n",
      "6/6 [==============================] - 0s 9ms/step - loss: 1.5662 - accuracy: 0.3115\n",
      "Epoch 4/1000\n",
      "6/6 [==============================] - 0s 8ms/step - loss: 1.5460 - accuracy: 0.3224\n",
      "Epoch 5/1000\n",
      "6/6 [==============================] - 0s 15ms/step - loss: 1.5284 - accuracy: 0.3279\n",
      "Epoch 6/1000\n",
      "6/6 [==============================] - 0s 10ms/step - loss: 1.5095 - accuracy: 0.3388\n",
      "Epoch 7/1000\n",
      "6/6 [==============================] - 0s 9ms/step - loss: 1.4867 - accuracy: 0.3607\n",
      "Epoch 8/1000\n",
      "6/6 [==============================] - 0s 9ms/step - loss: 1.4574 - accuracy: 0.4481\n",
      "Epoch 9/1000\n",
      "6/6 [==============================] - 0s 9ms/step - loss: 1.4241 - accuracy: 0.5137\n",
      "Epoch 10/1000\n",
      "6/6 [==============================] - 0s 9ms/step - loss: 1.3835 - accuracy: 0.5410\n",
      "Epoch 11/1000\n",
      "6/6 [==============================] - 0s 9ms/step - loss: 1.3334 - accuracy: 0.5956\n",
      "Epoch 12/1000\n",
      "6/6 [==============================] - 0s 9ms/step - loss: 1.2759 - accuracy: 0.6448\n",
      "Epoch 13/1000\n",
      "6/6 [==============================] - 0s 9ms/step - loss: 1.2174 - accuracy: 0.6612\n",
      "Epoch 14/1000\n",
      "6/6 [==============================] - 0s 9ms/step - loss: 1.1423 - accuracy: 0.6995\n",
      "Epoch 15/1000\n",
      "6/6 [==============================] - 0s 9ms/step - loss: 1.0669 - accuracy: 0.7268\n",
      "Epoch 16/1000\n",
      "6/6 [==============================] - 0s 9ms/step - loss: 0.9836 - accuracy: 0.8087\n",
      "Epoch 17/1000\n",
      "6/6 [==============================] - 0s 10ms/step - loss: 0.8982 - accuracy: 0.8470\n",
      "Epoch 18/1000\n",
      "6/6 [==============================] - 0s 25ms/step - loss: 0.8159 - accuracy: 0.9235\n",
      "Epoch 19/1000\n",
      "6/6 [==============================] - 0s 16ms/step - loss: 0.7348 - accuracy: 0.9344\n",
      "Epoch 20/1000\n",
      "6/6 [==============================] - 0s 14ms/step - loss: 0.6766 - accuracy: 0.9617\n",
      "Epoch 21/1000\n",
      "6/6 [==============================] - 0s 13ms/step - loss: 0.6183 - accuracy: 0.9836\n",
      "Epoch 22/1000\n",
      "6/6 [==============================] - 0s 14ms/step - loss: 0.5742 - accuracy: 0.9836\n",
      "Epoch 23/1000\n",
      "6/6 [==============================] - 0s 13ms/step - loss: 0.5405 - accuracy: 0.9781\n",
      "Epoch 24/1000\n",
      "6/6 [==============================] - 0s 13ms/step - loss: 0.5119 - accuracy: 0.9836\n",
      "Epoch 25/1000\n",
      "6/6 [==============================] - 0s 13ms/step - loss: 0.4868 - accuracy: 0.9836\n",
      "Epoch 26/1000\n",
      "6/6 [==============================] - 0s 13ms/step - loss: 0.4664 - accuracy: 0.9891\n",
      "Epoch 27/1000\n",
      "6/6 [==============================] - 0s 13ms/step - loss: 0.4481 - accuracy: 0.9891\n",
      "Epoch 28/1000\n",
      "6/6 [==============================] - 0s 14ms/step - loss: 0.4318 - accuracy: 0.9891\n",
      "Epoch 29/1000\n",
      "6/6 [==============================] - 0s 25ms/step - loss: 0.4167 - accuracy: 0.9891\n",
      "Epoch 30/1000\n",
      "6/6 [==============================] - 0s 15ms/step - loss: 0.4026 - accuracy: 0.9891\n",
      "Epoch 31/1000\n",
      "6/6 [==============================] - 0s 13ms/step - loss: 0.3898 - accuracy: 0.9891\n",
      "Epoch 32/1000\n",
      "6/6 [==============================] - 0s 13ms/step - loss: 0.3781 - accuracy: 0.9891\n",
      "Epoch 33/1000\n",
      "6/6 [==============================] - 0s 14ms/step - loss: 0.3676 - accuracy: 0.9891\n",
      "Epoch 34/1000\n",
      "6/6 [==============================] - 0s 13ms/step - loss: 0.3578 - accuracy: 0.9891\n",
      "Epoch 35/1000\n",
      "6/6 [==============================] - 0s 13ms/step - loss: 0.3487 - accuracy: 0.9891\n",
      "Epoch 36/1000\n",
      "6/6 [==============================] - 0s 13ms/step - loss: 0.3405 - accuracy: 0.9891\n",
      "Epoch 37/1000\n",
      "6/6 [==============================] - 0s 13ms/step - loss: 0.3326 - accuracy: 0.9891\n",
      "Epoch 38/1000\n",
      "6/6 [==============================] - 0s 13ms/step - loss: 0.3251 - accuracy: 0.9891\n",
      "Epoch 39/1000\n",
      "6/6 [==============================] - 0s 14ms/step - loss: 0.3179 - accuracy: 0.9891\n",
      "Epoch 40/1000\n",
      "6/6 [==============================] - 0s 16ms/step - loss: 0.3112 - accuracy: 0.9891\n",
      "Epoch 41/1000\n",
      "6/6 [==============================] - 0s 16ms/step - loss: 0.3047 - accuracy: 0.9891\n",
      "Epoch 42/1000\n",
      "6/6 [==============================] - 0s 14ms/step - loss: 0.2984 - accuracy: 0.9891\n",
      "Epoch 43/1000\n",
      "6/6 [==============================] - 0s 14ms/step - loss: 0.2926 - accuracy: 0.9891\n",
      "Epoch 44/1000\n",
      "6/6 [==============================] - 0s 13ms/step - loss: 0.2864 - accuracy: 0.9891\n",
      "Epoch 45/1000\n",
      "6/6 [==============================] - 0s 13ms/step - loss: 0.2810 - accuracy: 0.9891\n",
      "Epoch 46/1000\n",
      "6/6 [==============================] - 0s 13ms/step - loss: 0.2755 - accuracy: 0.9891\n",
      "Epoch 47/1000\n",
      "6/6 [==============================] - 0s 13ms/step - loss: 0.2706 - accuracy: 0.9891\n",
      "Epoch 48/1000\n",
      "6/6 [==============================] - 0s 12ms/step - loss: 0.2593 - accuracy: 0.9945\n",
      "Epoch 49/1000\n",
      "6/6 [==============================] - 0s 14ms/step - loss: 0.2543 - accuracy: 0.9945\n",
      "Epoch 50/1000\n",
      "6/6 [==============================] - 0s 29ms/step - loss: 0.2500 - accuracy: 0.9945\n",
      "Epoch 51/1000\n",
      "6/6 [==============================] - 0s 14ms/step - loss: 0.2391 - accuracy: 0.9945\n",
      "Epoch 52/1000\n",
      "6/6 [==============================] - 0s 14ms/step - loss: 0.2322 - accuracy: 1.0000\n",
      "Epoch 53/1000\n",
      "6/6 [==============================] - 0s 13ms/step - loss: 0.2270 - accuracy: 1.0000\n",
      "Epoch 54/1000\n",
      "6/6 [==============================] - 0s 13ms/step - loss: 0.2210 - accuracy: 1.0000\n",
      "Epoch 55/1000\n",
      "6/6 [==============================] - 0s 14ms/step - loss: 0.2150 - accuracy: 1.0000\n",
      "Epoch 56/1000\n",
      "6/6 [==============================] - 0s 14ms/step - loss: 0.2097 - accuracy: 1.0000\n",
      "Epoch 57/1000\n",
      "6/6 [==============================] - 0s 13ms/step - loss: 0.2049 - accuracy: 1.0000\n",
      "Epoch 58/1000\n",
      "6/6 [==============================] - 0s 14ms/step - loss: 0.2004 - accuracy: 1.0000\n",
      "Epoch 59/1000\n",
      "6/6 [==============================] - 0s 13ms/step - loss: 0.1968 - accuracy: 1.0000\n",
      "Epoch 60/1000\n",
      "6/6 [==============================] - 0s 27ms/step - loss: 0.1930 - accuracy: 1.0000\n",
      "Epoch 61/1000\n",
      "6/6 [==============================] - 0s 15ms/step - loss: 0.1896 - accuracy: 1.0000\n",
      "Epoch 62/1000\n",
      "6/6 [==============================] - 0s 13ms/step - loss: 0.1864 - accuracy: 1.0000\n",
      "Epoch 63/1000\n",
      "6/6 [==============================] - 0s 14ms/step - loss: 0.1832 - accuracy: 1.0000\n",
      "Epoch 64/1000\n",
      "6/6 [==============================] - 0s 14ms/step - loss: 0.1802 - accuracy: 1.0000\n",
      "Epoch 65/1000\n",
      "6/6 [==============================] - 0s 13ms/step - loss: 0.1773 - accuracy: 1.0000\n",
      "Epoch 66/1000\n",
      "6/6 [==============================] - 0s 13ms/step - loss: 0.1745 - accuracy: 1.0000\n",
      "Epoch 67/1000\n",
      "6/6 [==============================] - 0s 13ms/step - loss: 0.1720 - accuracy: 1.0000\n",
      "Epoch 68/1000\n",
      "6/6 [==============================] - 0s 13ms/step - loss: 0.1693 - accuracy: 1.0000\n",
      "Epoch 69/1000\n",
      "6/6 [==============================] - 0s 13ms/step - loss: 0.1668 - accuracy: 1.0000\n",
      "Epoch 70/1000\n",
      "6/6 [==============================] - 0s 13ms/step - loss: 0.1643 - accuracy: 1.0000\n",
      "Epoch 71/1000\n",
      "6/6 [==============================] - 0s 16ms/step - loss: 0.1620 - accuracy: 1.0000\n",
      "Epoch 72/1000\n",
      "6/6 [==============================] - 0s 14ms/step - loss: 0.1597 - accuracy: 1.0000\n",
      "Epoch 73/1000\n",
      "6/6 [==============================] - 0s 21ms/step - loss: 0.1575 - accuracy: 1.0000\n",
      "Epoch 74/1000\n",
      "6/6 [==============================] - 0s 14ms/step - loss: 0.1553 - accuracy: 1.0000\n",
      "Epoch 75/1000\n",
      "6/6 [==============================] - 0s 13ms/step - loss: 0.1532 - accuracy: 1.0000\n",
      "Epoch 76/1000\n",
      "6/6 [==============================] - 0s 14ms/step - loss: 0.1511 - accuracy: 1.0000\n",
      "Epoch 77/1000\n",
      "6/6 [==============================] - 0s 13ms/step - loss: 0.1492 - accuracy: 1.0000\n",
      "Epoch 78/1000\n",
      "6/6 [==============================] - 0s 14ms/step - loss: 0.1472 - accuracy: 1.0000\n",
      "Epoch 79/1000\n",
      "6/6 [==============================] - 0s 32ms/step - loss: 0.1453 - accuracy: 1.0000\n",
      "Epoch 80/1000\n",
      "6/6 [==============================] - 0s 19ms/step - loss: 0.1434 - accuracy: 1.0000\n",
      "Epoch 81/1000\n",
      "6/6 [==============================] - 0s 16ms/step - loss: 0.1416 - accuracy: 1.0000\n",
      "Epoch 82/1000\n",
      "6/6 [==============================] - 0s 15ms/step - loss: 0.1398 - accuracy: 1.0000\n",
      "Epoch 83/1000\n",
      "6/6 [==============================] - 0s 27ms/step - loss: 0.1381 - accuracy: 1.0000\n",
      "Epoch 84/1000\n",
      "6/6 [==============================] - 0s 16ms/step - loss: 0.1364 - accuracy: 1.0000\n",
      "Epoch 85/1000\n",
      "6/6 [==============================] - 0s 14ms/step - loss: 0.1347 - accuracy: 1.0000\n",
      "Epoch 86/1000\n",
      "6/6 [==============================] - 0s 14ms/step - loss: 0.1331 - accuracy: 1.0000\n",
      "Epoch 87/1000\n",
      "6/6 [==============================] - 0s 14ms/step - loss: 0.1315 - accuracy: 1.0000\n",
      "Epoch 88/1000\n",
      "6/6 [==============================] - 0s 13ms/step - loss: 0.1299 - accuracy: 1.0000\n",
      "Epoch 89/1000\n",
      "6/6 [==============================] - 0s 24ms/step - loss: 0.1284 - accuracy: 1.0000\n",
      "Epoch 90/1000\n",
      "6/6 [==============================] - 0s 15ms/step - loss: 0.1269 - accuracy: 1.0000\n",
      "Epoch 91/1000\n",
      "6/6 [==============================] - 0s 14ms/step - loss: 0.1255 - accuracy: 1.0000\n",
      "Epoch 92/1000\n",
      "6/6 [==============================] - 0s 14ms/step - loss: 0.1241 - accuracy: 1.0000\n",
      "Epoch 93/1000\n",
      "1/6 [====>.........................] - ETA: 0s - loss: 0.1193 - accuracy: 1.0000"
     ]
    },
    {
     "ename": "KeyboardInterrupt",
     "evalue": "",
     "output_type": "error",
     "traceback": [
      "\u001b[1;31m---------------------------------------------------------------------------\u001b[0m",
      "\u001b[1;31mKeyboardInterrupt\u001b[0m                         Traceback (most recent call last)",
      "Cell \u001b[1;32mIn[15], line 1\u001b[0m\n\u001b[1;32m----> 1\u001b[0m \u001b[43mmodel\u001b[49m\u001b[38;5;241;43m.\u001b[39;49m\u001b[43mfit\u001b[49m\u001b[43m(\u001b[49m\u001b[43mXtrain\u001b[49m\u001b[43m,\u001b[49m\u001b[43m \u001b[49m\u001b[43mYtrain\u001b[49m\u001b[43m,\u001b[49m\u001b[43m \u001b[49m\u001b[43mepochs\u001b[49m\u001b[38;5;241;43m=\u001b[39;49m\u001b[38;5;241;43m1000\u001b[39;49m\u001b[43m)\u001b[49m\n",
      "File \u001b[1;32mc:\\Users\\nawsh\\miniconda3\\envs\\myenv\\lib\\site-packages\\keras\\utils\\traceback_utils.py:65\u001b[0m, in \u001b[0;36mfilter_traceback.<locals>.error_handler\u001b[1;34m(*args, **kwargs)\u001b[0m\n\u001b[0;32m     63\u001b[0m filtered_tb \u001b[38;5;241m=\u001b[39m \u001b[38;5;28;01mNone\u001b[39;00m\n\u001b[0;32m     64\u001b[0m \u001b[38;5;28;01mtry\u001b[39;00m:\n\u001b[1;32m---> 65\u001b[0m     \u001b[38;5;28;01mreturn\u001b[39;00m fn(\u001b[38;5;241m*\u001b[39margs, \u001b[38;5;241m*\u001b[39m\u001b[38;5;241m*\u001b[39mkwargs)\n\u001b[0;32m     66\u001b[0m \u001b[38;5;28;01mexcept\u001b[39;00m \u001b[38;5;167;01mException\u001b[39;00m \u001b[38;5;28;01mas\u001b[39;00m e:\n\u001b[0;32m     67\u001b[0m     filtered_tb \u001b[38;5;241m=\u001b[39m _process_traceback_frames(e\u001b[38;5;241m.\u001b[39m__traceback__)\n",
      "File \u001b[1;32mc:\\Users\\nawsh\\miniconda3\\envs\\myenv\\lib\\site-packages\\keras\\engine\\training.py:1564\u001b[0m, in \u001b[0;36mModel.fit\u001b[1;34m(self, x, y, batch_size, epochs, verbose, callbacks, validation_split, validation_data, shuffle, class_weight, sample_weight, initial_epoch, steps_per_epoch, validation_steps, validation_batch_size, validation_freq, max_queue_size, workers, use_multiprocessing)\u001b[0m\n\u001b[0;32m   1556\u001b[0m \u001b[38;5;28;01mwith\u001b[39;00m tf\u001b[38;5;241m.\u001b[39mprofiler\u001b[38;5;241m.\u001b[39mexperimental\u001b[38;5;241m.\u001b[39mTrace(\n\u001b[0;32m   1557\u001b[0m     \u001b[38;5;124m\"\u001b[39m\u001b[38;5;124mtrain\u001b[39m\u001b[38;5;124m\"\u001b[39m,\n\u001b[0;32m   1558\u001b[0m     epoch_num\u001b[38;5;241m=\u001b[39mepoch,\n\u001b[1;32m   (...)\u001b[0m\n\u001b[0;32m   1561\u001b[0m     _r\u001b[38;5;241m=\u001b[39m\u001b[38;5;241m1\u001b[39m,\n\u001b[0;32m   1562\u001b[0m ):\n\u001b[0;32m   1563\u001b[0m     callbacks\u001b[38;5;241m.\u001b[39mon_train_batch_begin(step)\n\u001b[1;32m-> 1564\u001b[0m     tmp_logs \u001b[38;5;241m=\u001b[39m \u001b[38;5;28;43mself\u001b[39;49m\u001b[38;5;241;43m.\u001b[39;49m\u001b[43mtrain_function\u001b[49m\u001b[43m(\u001b[49m\u001b[43miterator\u001b[49m\u001b[43m)\u001b[49m\n\u001b[0;32m   1565\u001b[0m     \u001b[38;5;28;01mif\u001b[39;00m data_handler\u001b[38;5;241m.\u001b[39mshould_sync:\n\u001b[0;32m   1566\u001b[0m         context\u001b[38;5;241m.\u001b[39masync_wait()\n",
      "File \u001b[1;32mc:\\Users\\nawsh\\miniconda3\\envs\\myenv\\lib\\site-packages\\tensorflow\\python\\util\\traceback_utils.py:150\u001b[0m, in \u001b[0;36mfilter_traceback.<locals>.error_handler\u001b[1;34m(*args, **kwargs)\u001b[0m\n\u001b[0;32m    148\u001b[0m filtered_tb \u001b[38;5;241m=\u001b[39m \u001b[38;5;28;01mNone\u001b[39;00m\n\u001b[0;32m    149\u001b[0m \u001b[38;5;28;01mtry\u001b[39;00m:\n\u001b[1;32m--> 150\u001b[0m   \u001b[38;5;28;01mreturn\u001b[39;00m fn(\u001b[38;5;241m*\u001b[39margs, \u001b[38;5;241m*\u001b[39m\u001b[38;5;241m*\u001b[39mkwargs)\n\u001b[0;32m    151\u001b[0m \u001b[38;5;28;01mexcept\u001b[39;00m \u001b[38;5;167;01mException\u001b[39;00m \u001b[38;5;28;01mas\u001b[39;00m e:\n\u001b[0;32m    152\u001b[0m   filtered_tb \u001b[38;5;241m=\u001b[39m _process_traceback_frames(e\u001b[38;5;241m.\u001b[39m__traceback__)\n",
      "File \u001b[1;32mc:\\Users\\nawsh\\miniconda3\\envs\\myenv\\lib\\site-packages\\tensorflow\\python\\eager\\def_function.py:915\u001b[0m, in \u001b[0;36mFunction.__call__\u001b[1;34m(self, *args, **kwds)\u001b[0m\n\u001b[0;32m    912\u001b[0m compiler \u001b[38;5;241m=\u001b[39m \u001b[38;5;124m\"\u001b[39m\u001b[38;5;124mxla\u001b[39m\u001b[38;5;124m\"\u001b[39m \u001b[38;5;28;01mif\u001b[39;00m \u001b[38;5;28mself\u001b[39m\u001b[38;5;241m.\u001b[39m_jit_compile \u001b[38;5;28;01melse\u001b[39;00m \u001b[38;5;124m\"\u001b[39m\u001b[38;5;124mnonXla\u001b[39m\u001b[38;5;124m\"\u001b[39m\n\u001b[0;32m    914\u001b[0m \u001b[38;5;28;01mwith\u001b[39;00m OptionalXlaContext(\u001b[38;5;28mself\u001b[39m\u001b[38;5;241m.\u001b[39m_jit_compile):\n\u001b[1;32m--> 915\u001b[0m   result \u001b[38;5;241m=\u001b[39m \u001b[38;5;28mself\u001b[39m\u001b[38;5;241m.\u001b[39m_call(\u001b[38;5;241m*\u001b[39margs, \u001b[38;5;241m*\u001b[39m\u001b[38;5;241m*\u001b[39mkwds)\n\u001b[0;32m    917\u001b[0m new_tracing_count \u001b[38;5;241m=\u001b[39m \u001b[38;5;28mself\u001b[39m\u001b[38;5;241m.\u001b[39mexperimental_get_tracing_count()\n\u001b[0;32m    918\u001b[0m without_tracing \u001b[38;5;241m=\u001b[39m (tracing_count \u001b[38;5;241m==\u001b[39m new_tracing_count)\n",
      "File \u001b[1;32mc:\\Users\\nawsh\\miniconda3\\envs\\myenv\\lib\\site-packages\\tensorflow\\python\\eager\\def_function.py:947\u001b[0m, in \u001b[0;36mFunction._call\u001b[1;34m(self, *args, **kwds)\u001b[0m\n\u001b[0;32m    944\u001b[0m   \u001b[38;5;28mself\u001b[39m\u001b[38;5;241m.\u001b[39m_lock\u001b[38;5;241m.\u001b[39mrelease()\n\u001b[0;32m    945\u001b[0m   \u001b[38;5;66;03m# In this case we have created variables on the first call, so we run the\u001b[39;00m\n\u001b[0;32m    946\u001b[0m   \u001b[38;5;66;03m# defunned version which is guaranteed to never create variables.\u001b[39;00m\n\u001b[1;32m--> 947\u001b[0m   \u001b[38;5;28;01mreturn\u001b[39;00m \u001b[38;5;28mself\u001b[39m\u001b[38;5;241m.\u001b[39m_stateless_fn(\u001b[38;5;241m*\u001b[39margs, \u001b[38;5;241m*\u001b[39m\u001b[38;5;241m*\u001b[39mkwds)  \u001b[38;5;66;03m# pylint: disable=not-callable\u001b[39;00m\n\u001b[0;32m    948\u001b[0m \u001b[38;5;28;01melif\u001b[39;00m \u001b[38;5;28mself\u001b[39m\u001b[38;5;241m.\u001b[39m_stateful_fn \u001b[38;5;129;01mis\u001b[39;00m \u001b[38;5;129;01mnot\u001b[39;00m \u001b[38;5;28;01mNone\u001b[39;00m:\n\u001b[0;32m    949\u001b[0m   \u001b[38;5;66;03m# Release the lock early so that multiple threads can perform the call\u001b[39;00m\n\u001b[0;32m    950\u001b[0m   \u001b[38;5;66;03m# in parallel.\u001b[39;00m\n\u001b[0;32m    951\u001b[0m   \u001b[38;5;28mself\u001b[39m\u001b[38;5;241m.\u001b[39m_lock\u001b[38;5;241m.\u001b[39mrelease()\n",
      "File \u001b[1;32mc:\\Users\\nawsh\\miniconda3\\envs\\myenv\\lib\\site-packages\\tensorflow\\python\\eager\\function.py:2496\u001b[0m, in \u001b[0;36mFunction.__call__\u001b[1;34m(self, *args, **kwargs)\u001b[0m\n\u001b[0;32m   2493\u001b[0m \u001b[38;5;28;01mwith\u001b[39;00m \u001b[38;5;28mself\u001b[39m\u001b[38;5;241m.\u001b[39m_lock:\n\u001b[0;32m   2494\u001b[0m   (graph_function,\n\u001b[0;32m   2495\u001b[0m    filtered_flat_args) \u001b[38;5;241m=\u001b[39m \u001b[38;5;28mself\u001b[39m\u001b[38;5;241m.\u001b[39m_maybe_define_function(args, kwargs)\n\u001b[1;32m-> 2496\u001b[0m \u001b[38;5;28;01mreturn\u001b[39;00m \u001b[43mgraph_function\u001b[49m\u001b[38;5;241;43m.\u001b[39;49m\u001b[43m_call_flat\u001b[49m\u001b[43m(\u001b[49m\n\u001b[0;32m   2497\u001b[0m \u001b[43m    \u001b[49m\u001b[43mfiltered_flat_args\u001b[49m\u001b[43m,\u001b[49m\u001b[43m \u001b[49m\u001b[43mcaptured_inputs\u001b[49m\u001b[38;5;241;43m=\u001b[39;49m\u001b[43mgraph_function\u001b[49m\u001b[38;5;241;43m.\u001b[39;49m\u001b[43mcaptured_inputs\u001b[49m\u001b[43m)\u001b[49m\n",
      "File \u001b[1;32mc:\\Users\\nawsh\\miniconda3\\envs\\myenv\\lib\\site-packages\\tensorflow\\python\\eager\\function.py:1862\u001b[0m, in \u001b[0;36mConcreteFunction._call_flat\u001b[1;34m(self, args, captured_inputs, cancellation_manager)\u001b[0m\n\u001b[0;32m   1858\u001b[0m possible_gradient_type \u001b[38;5;241m=\u001b[39m gradients_util\u001b[38;5;241m.\u001b[39mPossibleTapeGradientTypes(args)\n\u001b[0;32m   1859\u001b[0m \u001b[38;5;28;01mif\u001b[39;00m (possible_gradient_type \u001b[38;5;241m==\u001b[39m gradients_util\u001b[38;5;241m.\u001b[39mPOSSIBLE_GRADIENT_TYPES_NONE\n\u001b[0;32m   1860\u001b[0m     \u001b[38;5;129;01mand\u001b[39;00m executing_eagerly):\n\u001b[0;32m   1861\u001b[0m   \u001b[38;5;66;03m# No tape is watching; skip to running the function.\u001b[39;00m\n\u001b[1;32m-> 1862\u001b[0m   \u001b[38;5;28;01mreturn\u001b[39;00m \u001b[38;5;28mself\u001b[39m\u001b[38;5;241m.\u001b[39m_build_call_outputs(\u001b[38;5;28;43mself\u001b[39;49m\u001b[38;5;241;43m.\u001b[39;49m\u001b[43m_inference_function\u001b[49m\u001b[38;5;241;43m.\u001b[39;49m\u001b[43mcall\u001b[49m\u001b[43m(\u001b[49m\n\u001b[0;32m   1863\u001b[0m \u001b[43m      \u001b[49m\u001b[43mctx\u001b[49m\u001b[43m,\u001b[49m\u001b[43m \u001b[49m\u001b[43margs\u001b[49m\u001b[43m,\u001b[49m\u001b[43m \u001b[49m\u001b[43mcancellation_manager\u001b[49m\u001b[38;5;241;43m=\u001b[39;49m\u001b[43mcancellation_manager\u001b[49m\u001b[43m)\u001b[49m)\n\u001b[0;32m   1864\u001b[0m forward_backward \u001b[38;5;241m=\u001b[39m \u001b[38;5;28mself\u001b[39m\u001b[38;5;241m.\u001b[39m_select_forward_and_backward_functions(\n\u001b[0;32m   1865\u001b[0m     args,\n\u001b[0;32m   1866\u001b[0m     possible_gradient_type,\n\u001b[0;32m   1867\u001b[0m     executing_eagerly)\n\u001b[0;32m   1868\u001b[0m forward_function, args_with_tangents \u001b[38;5;241m=\u001b[39m forward_backward\u001b[38;5;241m.\u001b[39mforward()\n",
      "File \u001b[1;32mc:\\Users\\nawsh\\miniconda3\\envs\\myenv\\lib\\site-packages\\tensorflow\\python\\eager\\function.py:499\u001b[0m, in \u001b[0;36m_EagerDefinedFunction.call\u001b[1;34m(self, ctx, args, cancellation_manager)\u001b[0m\n\u001b[0;32m    497\u001b[0m \u001b[38;5;28;01mwith\u001b[39;00m _InterpolateFunctionError(\u001b[38;5;28mself\u001b[39m):\n\u001b[0;32m    498\u001b[0m   \u001b[38;5;28;01mif\u001b[39;00m cancellation_manager \u001b[38;5;129;01mis\u001b[39;00m \u001b[38;5;28;01mNone\u001b[39;00m:\n\u001b[1;32m--> 499\u001b[0m     outputs \u001b[38;5;241m=\u001b[39m \u001b[43mexecute\u001b[49m\u001b[38;5;241;43m.\u001b[39;49m\u001b[43mexecute\u001b[49m\u001b[43m(\u001b[49m\n\u001b[0;32m    500\u001b[0m \u001b[43m        \u001b[49m\u001b[38;5;28;43mstr\u001b[39;49m\u001b[43m(\u001b[49m\u001b[38;5;28;43mself\u001b[39;49m\u001b[38;5;241;43m.\u001b[39;49m\u001b[43msignature\u001b[49m\u001b[38;5;241;43m.\u001b[39;49m\u001b[43mname\u001b[49m\u001b[43m)\u001b[49m\u001b[43m,\u001b[49m\n\u001b[0;32m    501\u001b[0m \u001b[43m        \u001b[49m\u001b[43mnum_outputs\u001b[49m\u001b[38;5;241;43m=\u001b[39;49m\u001b[38;5;28;43mself\u001b[39;49m\u001b[38;5;241;43m.\u001b[39;49m\u001b[43m_num_outputs\u001b[49m\u001b[43m,\u001b[49m\n\u001b[0;32m    502\u001b[0m \u001b[43m        \u001b[49m\u001b[43minputs\u001b[49m\u001b[38;5;241;43m=\u001b[39;49m\u001b[43margs\u001b[49m\u001b[43m,\u001b[49m\n\u001b[0;32m    503\u001b[0m \u001b[43m        \u001b[49m\u001b[43mattrs\u001b[49m\u001b[38;5;241;43m=\u001b[39;49m\u001b[43mattrs\u001b[49m\u001b[43m,\u001b[49m\n\u001b[0;32m    504\u001b[0m \u001b[43m        \u001b[49m\u001b[43mctx\u001b[49m\u001b[38;5;241;43m=\u001b[39;49m\u001b[43mctx\u001b[49m\u001b[43m)\u001b[49m\n\u001b[0;32m    505\u001b[0m   \u001b[38;5;28;01melse\u001b[39;00m:\n\u001b[0;32m    506\u001b[0m     outputs \u001b[38;5;241m=\u001b[39m execute\u001b[38;5;241m.\u001b[39mexecute_with_cancellation(\n\u001b[0;32m    507\u001b[0m         \u001b[38;5;28mstr\u001b[39m(\u001b[38;5;28mself\u001b[39m\u001b[38;5;241m.\u001b[39msignature\u001b[38;5;241m.\u001b[39mname),\n\u001b[0;32m    508\u001b[0m         num_outputs\u001b[38;5;241m=\u001b[39m\u001b[38;5;28mself\u001b[39m\u001b[38;5;241m.\u001b[39m_num_outputs,\n\u001b[1;32m   (...)\u001b[0m\n\u001b[0;32m    511\u001b[0m         ctx\u001b[38;5;241m=\u001b[39mctx,\n\u001b[0;32m    512\u001b[0m         cancellation_manager\u001b[38;5;241m=\u001b[39mcancellation_manager)\n",
      "File \u001b[1;32mc:\\Users\\nawsh\\miniconda3\\envs\\myenv\\lib\\site-packages\\tensorflow\\python\\eager\\execute.py:54\u001b[0m, in \u001b[0;36mquick_execute\u001b[1;34m(op_name, num_outputs, inputs, attrs, ctx, name)\u001b[0m\n\u001b[0;32m     52\u001b[0m \u001b[38;5;28;01mtry\u001b[39;00m:\n\u001b[0;32m     53\u001b[0m   ctx\u001b[38;5;241m.\u001b[39mensure_initialized()\n\u001b[1;32m---> 54\u001b[0m   tensors \u001b[38;5;241m=\u001b[39m \u001b[43mpywrap_tfe\u001b[49m\u001b[38;5;241;43m.\u001b[39;49m\u001b[43mTFE_Py_Execute\u001b[49m\u001b[43m(\u001b[49m\u001b[43mctx\u001b[49m\u001b[38;5;241;43m.\u001b[39;49m\u001b[43m_handle\u001b[49m\u001b[43m,\u001b[49m\u001b[43m \u001b[49m\u001b[43mdevice_name\u001b[49m\u001b[43m,\u001b[49m\u001b[43m \u001b[49m\u001b[43mop_name\u001b[49m\u001b[43m,\u001b[49m\n\u001b[0;32m     55\u001b[0m \u001b[43m                                      \u001b[49m\u001b[43minputs\u001b[49m\u001b[43m,\u001b[49m\u001b[43m \u001b[49m\u001b[43mattrs\u001b[49m\u001b[43m,\u001b[49m\u001b[43m \u001b[49m\u001b[43mnum_outputs\u001b[49m\u001b[43m)\u001b[49m\n\u001b[0;32m     56\u001b[0m \u001b[38;5;28;01mexcept\u001b[39;00m core\u001b[38;5;241m.\u001b[39m_NotOkStatusException \u001b[38;5;28;01mas\u001b[39;00m e:\n\u001b[0;32m     57\u001b[0m   \u001b[38;5;28;01mif\u001b[39;00m name \u001b[38;5;129;01mis\u001b[39;00m \u001b[38;5;129;01mnot\u001b[39;00m \u001b[38;5;28;01mNone\u001b[39;00m:\n",
      "\u001b[1;31mKeyboardInterrupt\u001b[0m: "
     ]
    }
   ],
   "source": [
    "model.fit(Xtrain, Ytrain, epochs=1000)"
   ]
  },
  {
   "cell_type": "code",
   "execution_count": 16,
   "metadata": {},
   "outputs": [
    {
     "name": "stdout",
     "output_type": "stream",
     "text": [
      "1/1 [==============================] - 1s 678ms/step\n"
     ]
    },
    {
     "data": {
      "text/plain": [
       "array([2, 2, 0], dtype=int64)"
      ]
     },
     "execution_count": 16,
     "metadata": {},
     "output_type": "execute_result"
    }
   ],
   "source": [
    "test = [\"I am trying\", \"I want to cry\", \"This is just sad\"]\n",
    "\n",
    "test_seq = tokenizer.texts_to_sequences(test)\n",
    "Xtest = pad_sequences(test_seq, maxlen=maxlen, padding='post', truncating='post')\n",
    "\n",
    "\n",
    "y_pred = model.predict(Xtest)\n",
    "y_pred = np.argmax(y_pred, axis=1)\n",
    "y_pred"
   ]
  },
  {
   "cell_type": "code",
   "execution_count": 18,
   "metadata": {},
   "outputs": [
    {
     "name": "stdout",
     "output_type": "stream",
     "text": [
      "I am trying 😃\n",
      "I want to cry 😃\n",
      "This is just sad ❤️\n"
     ]
    }
   ],
   "source": [
    "for i in range(len(test)):\n",
    "    print(test[i], label_to_emoji(y_pred[i]))"
   ]
  }
 ],
 "metadata": {
  "kernelspec": {
   "display_name": "Python 3",
   "language": "python",
   "name": "python3"
  },
  "language_info": {
   "codemirror_mode": {
    "name": "ipython",
    "version": 3
   },
   "file_extension": ".py",
   "mimetype": "text/x-python",
   "name": "python",
   "nbconvert_exporter": "python",
   "pygments_lexer": "ipython3",
   "version": "3.10.13"
  }
 },
 "nbformat": 4,
 "nbformat_minor": 2
}
