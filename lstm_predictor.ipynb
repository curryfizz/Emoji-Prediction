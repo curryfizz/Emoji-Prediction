{
 "cells": [
  {
   "cell_type": "code",
   "execution_count": 1,
   "metadata": {},
   "outputs": [],
   "source": [
    "import numpy as np\n",
    "import pandas as pd\n",
    "import emoji\n",
    "\n",
    "from keras.models import Sequential\n",
    "from keras.layers import Dense, LSTM, SimpleRNN, Embedding\n",
    "from keras_preprocessing.text import Tokenizer\n",
    "from keras_preprocessing.sequence import pad_sequences\n",
    "from keras.utils.np_utils import to_categorical\n",
    "from sklearn.metrics import f1_score\n"
   ]
  },
  {
   "cell_type": "code",
   "execution_count": 2,
   "metadata": {},
   "outputs": [
    {
     "data": {
      "text/html": [
       "<div>\n",
       "<style scoped>\n",
       "    .dataframe tbody tr th:only-of-type {\n",
       "        vertical-align: middle;\n",
       "    }\n",
       "\n",
       "    .dataframe tbody tr th {\n",
       "        vertical-align: top;\n",
       "    }\n",
       "\n",
       "    .dataframe thead th {\n",
       "        text-align: right;\n",
       "    }\n",
       "</style>\n",
       "<table border=\"1\" class=\"dataframe\">\n",
       "  <thead>\n",
       "    <tr style=\"text-align: right;\">\n",
       "      <th></th>\n",
       "      <th>0</th>\n",
       "      <th>1</th>\n",
       "    </tr>\n",
       "  </thead>\n",
       "  <tbody>\n",
       "    <tr>\n",
       "      <th>0</th>\n",
       "      <td>French macaroon is so tasty</td>\n",
       "      <td>4</td>\n",
       "    </tr>\n",
       "    <tr>\n",
       "      <th>1</th>\n",
       "      <td>work is horrible</td>\n",
       "      <td>3</td>\n",
       "    </tr>\n",
       "    <tr>\n",
       "      <th>2</th>\n",
       "      <td>I am upset</td>\n",
       "      <td>3</td>\n",
       "    </tr>\n",
       "    <tr>\n",
       "      <th>3</th>\n",
       "      <td>throw the ball</td>\n",
       "      <td>1</td>\n",
       "    </tr>\n",
       "    <tr>\n",
       "      <th>4</th>\n",
       "      <td>Good joke</td>\n",
       "      <td>2</td>\n",
       "    </tr>\n",
       "  </tbody>\n",
       "</table>\n",
       "</div>"
      ],
      "text/plain": [
       "                             0  1\n",
       "0  French macaroon is so tasty  4\n",
       "1             work is horrible  3\n",
       "2                   I am upset  3\n",
       "3               throw the ball  1\n",
       "4                    Good joke  2"
      ]
     },
     "execution_count": 2,
     "metadata": {},
     "output_type": "execute_result"
    }
   ],
   "source": [
    "data = pd.read_csv(\"emoji_data.csv\", header=None)\n",
    "data.head()"
   ]
  },
  {
   "cell_type": "code",
   "execution_count": 3,
   "metadata": {},
   "outputs": [],
   "source": [
    "emoji_dictionary = {\n",
    "    0: \":red_heart:\",\n",
    "    1: \":baseball:\",\n",
    "    2: \":grinning_face_with_big_eyes:\",\n",
    "    3: \":disappointed_face:\",\n",
    "    4: \":fork_and_knife_with_plate:\"\n",
    "}\n",
    "\n",
    "def label_to_emoji(label):\n",
    "    return emoji.emojize(emoji_dictionary[label])"
   ]
  },
  {
   "cell_type": "code",
   "execution_count": 4,
   "metadata": {},
   "outputs": [
    {
     "data": {
      "text/plain": [
       "array([4, 3, 3, 1, 2, 1, 4, 3, 4, 1, 3, 3, 2, 2, 4, 3, 2, 3, 3, 1, 3, 2,\n",
       "       2, 2, 0, 1, 0, 4, 2, 0, 2, 0, 0, 3, 4, 0, 2, 1, 3, 1, 0, 4, 0, 3,\n",
       "       0, 4, 2, 3, 4, 2, 2, 3, 0, 2, 2, 3, 2, 3, 2, 2, 3, 3, 0, 2, 3, 0,\n",
       "       2, 0, 0, 2, 3, 2, 4, 1, 3, 3, 0, 0, 3, 2, 0, 3, 0, 2, 2, 4, 2, 2,\n",
       "       0, 0, 2, 3, 0, 4, 2, 1, 2, 3, 3, 2, 3, 0, 3, 0, 2, 0, 2, 3, 4, 3,\n",
       "       1, 3, 4, 3, 2, 3, 3, 3, 1, 4, 4, 2, 2, 1, 1, 2, 3, 2, 3, 4, 2, 3,\n",
       "       0, 2, 0, 0, 4, 3, 4, 2, 3, 2, 3, 4, 2, 1, 2, 4, 3, 1, 3, 2, 3, 2,\n",
       "       2, 3, 3, 2, 4, 0, 0, 0, 3, 0, 0, 1, 1, 2, 2, 2, 0, 3, 2, 3, 3, 1,\n",
       "       2, 2, 4, 2, 3, 1, 2], dtype=int64)"
      ]
     },
     "execution_count": 4,
     "metadata": {},
     "output_type": "execute_result"
    }
   ],
   "source": [
    "X = data[0].values\n",
    "Y = data[1].values\n",
    "\n",
    "Y"
   ]
  },
  {
   "cell_type": "markdown",
   "metadata": {},
   "source": [
    "Embeddings"
   ]
  },
  {
   "cell_type": "code",
   "execution_count": 5,
   "metadata": {},
   "outputs": [],
   "source": [
    "with open('data/glove_dataset/glove.6B.100d.txt','r', encoding='utf8') as file:\n",
    "    content = file.readlines()"
   ]
  },
  {
   "cell_type": "code",
   "execution_count": 6,
   "metadata": {},
   "outputs": [],
   "source": [
    "embeddings = {}\n",
    "\n",
    "for line in content:\n",
    "    line = line.split()\n",
    "    embeddings[line[0]] = np.array(line[1:], dtype=float)"
   ]
  },
  {
   "cell_type": "markdown",
   "metadata": {},
   "source": [
    "convert input text into tokens"
   ]
  },
  {
   "cell_type": "code",
   "execution_count": 7,
   "metadata": {},
   "outputs": [],
   "source": [
    "tokenizer = Tokenizer()\n",
    "tokenizer.fit_on_texts(X)\n",
    "word_to_index = tokenizer.word_index\n"
   ]
  },
  {
   "cell_type": "code",
   "execution_count": 8,
   "metadata": {},
   "outputs": [],
   "source": [
    "Xtokens = tokenizer.texts_to_sequences(X)\n"
   ]
  },
  {
   "cell_type": "code",
   "execution_count": 9,
   "metadata": {},
   "outputs": [],
   "source": [
    "def get_maxlen(data):\n",
    "    maxlen = 0\n",
    "    for sent in data:\n",
    "        maxlen = max(maxlen, len(sent))\n",
    "    \n",
    "    return maxlen\n",
    "maxlen = get_maxlen(Xtokens)"
   ]
  },
  {
   "cell_type": "code",
   "execution_count": 10,
   "metadata": {},
   "outputs": [],
   "source": [
    "Xtrain = pad_sequences(Xtokens, maxlen = maxlen, padding = 'post', truncating = 'post')"
   ]
  },
  {
   "cell_type": "code",
   "execution_count": 11,
   "metadata": {},
   "outputs": [],
   "source": [
    "Ytrain = to_categorical(Y)"
   ]
  },
  {
   "cell_type": "markdown",
   "metadata": {},
   "source": [
    "Model"
   ]
  },
  {
   "cell_type": "code",
   "execution_count": 12,
   "metadata": {},
   "outputs": [],
   "source": [
    "embed_size = 100"
   ]
  },
  {
   "cell_type": "code",
   "execution_count": 13,
   "metadata": {},
   "outputs": [],
   "source": [
    "embedding_matrix = np.zeros((len(word_to_index)+1, embed_size))\n",
    "\n",
    "for word, i in word_to_index.items():\n",
    "    embed_vector = embeddings[word]\n",
    "    embedding_matrix[i] = embed_vector"
   ]
  },
  {
   "cell_type": "code",
   "execution_count": 14,
   "metadata": {},
   "outputs": [],
   "source": [
    "model = Sequential([\n",
    "    Embedding(input_dim = len(word_to_index)+1,\n",
    "              output_dim = embed_size,\n",
    "              input_length=maxlen,\n",
    "              weights = [embedding_matrix],\n",
    "              trainable = False\n",
    "              ),\n",
    "    LSTM(units = 16, return_sequences=True),\n",
    "    LSTM(units = 4),\n",
    "    Dense(5, activation='softmax')\n",
    "])\n",
    "\n",
    "model.compile(optimizer='adam', loss='categorical_crossentropy', metrics=['accuracy'])"
   ]
  },
  {
   "cell_type": "code",
   "execution_count": 15,
   "metadata": {},
   "outputs": [
    {
     "name": "stdout",
     "output_type": "stream",
     "text": [
      "Epoch 1/100\n",
      "6/6 [==============================] - 10s 18ms/step - loss: 1.6275 - accuracy: 0.1475\n",
      "Epoch 2/100\n",
      "6/6 [==============================] - 0s 21ms/step - loss: 1.6053 - accuracy: 0.2350\n",
      "Epoch 3/100\n",
      "6/6 [==============================] - 0s 25ms/step - loss: 1.5873 - accuracy: 0.3443\n",
      "Epoch 4/100\n",
      "6/6 [==============================] - 0s 24ms/step - loss: 1.5711 - accuracy: 0.3880\n",
      "Epoch 5/100\n",
      "6/6 [==============================] - 0s 23ms/step - loss: 1.5560 - accuracy: 0.3825\n",
      "Epoch 6/100\n",
      "6/6 [==============================] - 0s 20ms/step - loss: 1.5427 - accuracy: 0.3607\n",
      "Epoch 7/100\n",
      "6/6 [==============================] - 0s 19ms/step - loss: 1.5285 - accuracy: 0.3716\n",
      "Epoch 8/100\n",
      "6/6 [==============================] - 0s 20ms/step - loss: 1.5131 - accuracy: 0.4044\n",
      "Epoch 9/100\n",
      "6/6 [==============================] - 0s 20ms/step - loss: 1.4973 - accuracy: 0.4481\n",
      "Epoch 10/100\n",
      "6/6 [==============================] - 0s 20ms/step - loss: 1.4794 - accuracy: 0.4481\n",
      "Epoch 11/100\n",
      "6/6 [==============================] - 0s 22ms/step - loss: 1.4577 - accuracy: 0.4536\n",
      "Epoch 12/100\n",
      "6/6 [==============================] - 0s 25ms/step - loss: 1.4320 - accuracy: 0.4699\n",
      "Epoch 13/100\n",
      "6/6 [==============================] - 0s 26ms/step - loss: 1.4026 - accuracy: 0.4863\n",
      "Epoch 14/100\n",
      "6/6 [==============================] - 0s 24ms/step - loss: 1.3664 - accuracy: 0.5082\n",
      "Epoch 15/100\n",
      "6/6 [==============================] - 0s 24ms/step - loss: 1.3323 - accuracy: 0.5082\n",
      "Epoch 16/100\n",
      "6/6 [==============================] - 0s 21ms/step - loss: 1.2921 - accuracy: 0.5246\n",
      "Epoch 17/100\n",
      "6/6 [==============================] - 0s 22ms/step - loss: 1.2492 - accuracy: 0.5574\n",
      "Epoch 18/100\n",
      "6/6 [==============================] - 0s 22ms/step - loss: 1.2093 - accuracy: 0.5738\n",
      "Epoch 19/100\n",
      "6/6 [==============================] - 0s 20ms/step - loss: 1.1750 - accuracy: 0.5847\n",
      "Epoch 20/100\n",
      "6/6 [==============================] - 0s 30ms/step - loss: 1.1338 - accuracy: 0.6230\n",
      "Epoch 21/100\n",
      "6/6 [==============================] - 0s 23ms/step - loss: 1.0971 - accuracy: 0.6339\n",
      "Epoch 22/100\n",
      "6/6 [==============================] - 0s 24ms/step - loss: 1.0718 - accuracy: 0.6503\n",
      "Epoch 23/100\n",
      "6/6 [==============================] - 0s 26ms/step - loss: 1.0566 - accuracy: 0.6721\n",
      "Epoch 24/100\n",
      "6/6 [==============================] - 0s 28ms/step - loss: 1.0081 - accuracy: 0.7213\n",
      "Epoch 25/100\n",
      "6/6 [==============================] - 0s 30ms/step - loss: 0.9765 - accuracy: 0.7049\n",
      "Epoch 26/100\n",
      "6/6 [==============================] - 0s 24ms/step - loss: 0.9412 - accuracy: 0.7596\n",
      "Epoch 27/100\n",
      "6/6 [==============================] - 0s 22ms/step - loss: 0.9116 - accuracy: 0.7760\n",
      "Epoch 28/100\n",
      "6/6 [==============================] - 0s 21ms/step - loss: 0.8760 - accuracy: 0.7978\n",
      "Epoch 29/100\n",
      "6/6 [==============================] - 0s 22ms/step - loss: 0.8514 - accuracy: 0.8033\n",
      "Epoch 30/100\n",
      "6/6 [==============================] - 0s 29ms/step - loss: 0.8234 - accuracy: 0.8087\n",
      "Epoch 31/100\n",
      "6/6 [==============================] - 0s 27ms/step - loss: 0.7986 - accuracy: 0.8142\n",
      "Epoch 32/100\n",
      "6/6 [==============================] - 0s 63ms/step - loss: 0.7737 - accuracy: 0.8142\n",
      "Epoch 33/100\n",
      "6/6 [==============================] - 0s 24ms/step - loss: 0.7535 - accuracy: 0.8251\n",
      "Epoch 34/100\n",
      "6/6 [==============================] - 0s 23ms/step - loss: 0.7389 - accuracy: 0.8251\n",
      "Epoch 35/100\n",
      "6/6 [==============================] - 0s 28ms/step - loss: 0.7169 - accuracy: 0.8361\n",
      "Epoch 36/100\n",
      "6/6 [==============================] - 0s 31ms/step - loss: 0.6911 - accuracy: 0.8415\n",
      "Epoch 37/100\n",
      "6/6 [==============================] - 0s 38ms/step - loss: 0.6732 - accuracy: 0.8415\n",
      "Epoch 38/100\n",
      "6/6 [==============================] - 0s 24ms/step - loss: 0.6549 - accuracy: 0.8470\n",
      "Epoch 39/100\n",
      "6/6 [==============================] - 0s 22ms/step - loss: 0.6419 - accuracy: 0.8470\n",
      "Epoch 40/100\n",
      "6/6 [==============================] - 0s 21ms/step - loss: 0.6294 - accuracy: 0.8470\n",
      "Epoch 41/100\n",
      "6/6 [==============================] - 0s 20ms/step - loss: 0.6147 - accuracy: 0.8470\n",
      "Epoch 42/100\n",
      "6/6 [==============================] - 0s 20ms/step - loss: 0.6038 - accuracy: 0.8470\n",
      "Epoch 43/100\n",
      "6/6 [==============================] - 0s 26ms/step - loss: 0.5897 - accuracy: 0.8470\n",
      "Epoch 44/100\n",
      "6/6 [==============================] - 0s 21ms/step - loss: 0.5799 - accuracy: 0.8415\n",
      "Epoch 45/100\n",
      "6/6 [==============================] - 0s 21ms/step - loss: 0.5665 - accuracy: 0.8470\n",
      "Epoch 46/100\n",
      "6/6 [==============================] - 0s 20ms/step - loss: 0.5599 - accuracy: 0.8689\n",
      "Epoch 47/100\n",
      "6/6 [==============================] - 0s 32ms/step - loss: 0.5460 - accuracy: 0.8962\n",
      "Epoch 48/100\n",
      "6/6 [==============================] - 0s 26ms/step - loss: 0.5368 - accuracy: 0.8907\n",
      "Epoch 49/100\n",
      "6/6 [==============================] - 0s 23ms/step - loss: 0.5248 - accuracy: 0.9016\n",
      "Epoch 50/100\n",
      "6/6 [==============================] - 0s 23ms/step - loss: 0.5144 - accuracy: 0.9071\n",
      "Epoch 51/100\n",
      "6/6 [==============================] - 0s 24ms/step - loss: 0.5040 - accuracy: 0.9290\n",
      "Epoch 52/100\n",
      "6/6 [==============================] - 0s 22ms/step - loss: 0.4935 - accuracy: 0.9508\n",
      "Epoch 53/100\n",
      "6/6 [==============================] - 0s 20ms/step - loss: 0.4840 - accuracy: 0.9563\n",
      "Epoch 54/100\n",
      "6/6 [==============================] - 0s 18ms/step - loss: 0.4794 - accuracy: 0.9399\n",
      "Epoch 55/100\n",
      "6/6 [==============================] - 0s 20ms/step - loss: 0.4707 - accuracy: 0.9563\n",
      "Epoch 56/100\n",
      "6/6 [==============================] - 0s 24ms/step - loss: 0.4600 - accuracy: 0.9399\n",
      "Epoch 57/100\n",
      "6/6 [==============================] - 0s 24ms/step - loss: 0.4508 - accuracy: 0.9563\n",
      "Epoch 58/100\n",
      "6/6 [==============================] - 0s 22ms/step - loss: 0.4453 - accuracy: 0.9563\n",
      "Epoch 59/100\n",
      "6/6 [==============================] - 0s 22ms/step - loss: 0.4364 - accuracy: 0.9563\n",
      "Epoch 60/100\n",
      "6/6 [==============================] - 0s 22ms/step - loss: 0.4321 - accuracy: 0.9563\n",
      "Epoch 61/100\n",
      "6/6 [==============================] - 0s 23ms/step - loss: 0.4255 - accuracy: 0.9563\n",
      "Epoch 62/100\n",
      "6/6 [==============================] - 0s 30ms/step - loss: 0.4185 - accuracy: 0.9617\n",
      "Epoch 63/100\n",
      "6/6 [==============================] - 0s 25ms/step - loss: 0.4147 - accuracy: 0.9563\n",
      "Epoch 64/100\n",
      "6/6 [==============================] - 0s 22ms/step - loss: 0.4146 - accuracy: 0.9563\n",
      "Epoch 65/100\n",
      "6/6 [==============================] - 0s 37ms/step - loss: 0.4088 - accuracy: 0.9563\n",
      "Epoch 66/100\n",
      "6/6 [==============================] - 0s 20ms/step - loss: 0.3984 - accuracy: 0.9617\n",
      "Epoch 67/100\n",
      "6/6 [==============================] - 0s 29ms/step - loss: 0.3934 - accuracy: 0.9563\n",
      "Epoch 68/100\n",
      "6/6 [==============================] - 0s 25ms/step - loss: 0.3932 - accuracy: 0.9563\n",
      "Epoch 69/100\n",
      "6/6 [==============================] - 0s 22ms/step - loss: 0.3815 - accuracy: 0.9617\n",
      "Epoch 70/100\n",
      "6/6 [==============================] - 0s 21ms/step - loss: 0.3779 - accuracy: 0.9617\n",
      "Epoch 71/100\n",
      "6/6 [==============================] - 0s 20ms/step - loss: 0.3741 - accuracy: 0.9617\n",
      "Epoch 72/100\n",
      "6/6 [==============================] - 0s 23ms/step - loss: 0.3693 - accuracy: 0.9617\n",
      "Epoch 73/100\n",
      "6/6 [==============================] - 0s 20ms/step - loss: 0.3633 - accuracy: 0.9563\n",
      "Epoch 74/100\n",
      "6/6 [==============================] - 0s 29ms/step - loss: 0.3588 - accuracy: 0.9617\n",
      "Epoch 75/100\n",
      "6/6 [==============================] - 0s 32ms/step - loss: 0.3551 - accuracy: 0.9617\n",
      "Epoch 76/100\n",
      "6/6 [==============================] - 0s 29ms/step - loss: 0.3508 - accuracy: 0.9617\n",
      "Epoch 77/100\n",
      "6/6 [==============================] - 0s 22ms/step - loss: 0.3466 - accuracy: 0.9617\n",
      "Epoch 78/100\n",
      "6/6 [==============================] - 0s 22ms/step - loss: 0.3431 - accuracy: 0.9617\n",
      "Epoch 79/100\n",
      "6/6 [==============================] - 0s 67ms/step - loss: 0.3398 - accuracy: 0.9672\n",
      "Epoch 80/100\n",
      "6/6 [==============================] - 0s 28ms/step - loss: 0.3355 - accuracy: 0.9617\n",
      "Epoch 81/100\n",
      "6/6 [==============================] - 0s 23ms/step - loss: 0.3326 - accuracy: 0.9672\n",
      "Epoch 82/100\n",
      "6/6 [==============================] - 0s 21ms/step - loss: 0.3281 - accuracy: 0.9672\n",
      "Epoch 83/100\n",
      "6/6 [==============================] - 0s 21ms/step - loss: 0.3235 - accuracy: 0.9727\n",
      "Epoch 84/100\n",
      "6/6 [==============================] - 0s 21ms/step - loss: 0.3192 - accuracy: 0.9727\n",
      "Epoch 85/100\n",
      "6/6 [==============================] - 0s 21ms/step - loss: 0.3139 - accuracy: 0.9727\n",
      "Epoch 86/100\n",
      "6/6 [==============================] - 0s 21ms/step - loss: 0.3110 - accuracy: 0.9727\n",
      "Epoch 87/100\n",
      "6/6 [==============================] - 0s 24ms/step - loss: 0.3074 - accuracy: 0.9727\n",
      "Epoch 88/100\n",
      "6/6 [==============================] - 0s 30ms/step - loss: 0.3038 - accuracy: 0.9727\n",
      "Epoch 89/100\n",
      "6/6 [==============================] - 0s 27ms/step - loss: 0.3009 - accuracy: 0.9727\n",
      "Epoch 90/100\n",
      "6/6 [==============================] - 0s 26ms/step - loss: 0.2979 - accuracy: 0.9727\n",
      "Epoch 91/100\n",
      "6/6 [==============================] - 0s 23ms/step - loss: 0.2952 - accuracy: 0.9727\n",
      "Epoch 92/100\n",
      "6/6 [==============================] - 0s 25ms/step - loss: 0.2924 - accuracy: 0.9727\n",
      "Epoch 93/100\n",
      "6/6 [==============================] - 0s 54ms/step - loss: 0.2895 - accuracy: 0.9727\n",
      "Epoch 94/100\n",
      "6/6 [==============================] - 0s 31ms/step - loss: 0.2871 - accuracy: 0.9727\n",
      "Epoch 95/100\n",
      "6/6 [==============================] - 0s 29ms/step - loss: 0.2845 - accuracy: 0.9727\n",
      "Epoch 96/100\n",
      "6/6 [==============================] - 0s 29ms/step - loss: 0.2820 - accuracy: 0.9727\n",
      "Epoch 97/100\n",
      "6/6 [==============================] - 0s 23ms/step - loss: 0.2798 - accuracy: 0.9727\n",
      "Epoch 98/100\n",
      "6/6 [==============================] - 0s 21ms/step - loss: 0.2775 - accuracy: 0.9727\n",
      "Epoch 99/100\n",
      "6/6 [==============================] - 0s 21ms/step - loss: 0.2752 - accuracy: 0.9727\n",
      "Epoch 100/100\n",
      "6/6 [==============================] - 0s 21ms/step - loss: 0.2730 - accuracy: 0.9727\n"
     ]
    },
    {
     "data": {
      "text/plain": [
       "<keras.callbacks.History at 0x1ff8d477b50>"
      ]
     },
     "execution_count": 15,
     "metadata": {},
     "output_type": "execute_result"
    }
   ],
   "source": [
    "model.fit(Xtrain, Ytrain, epochs=100)"
   ]
  },
  {
   "cell_type": "code",
   "execution_count": 16,
   "metadata": {},
   "outputs": [
    {
     "name": "stdout",
     "output_type": "stream",
     "text": [
      "1/1 [==============================] - 3s 3s/step\n"
     ]
    },
    {
     "data": {
      "text/plain": [
       "array([2, 2, 3], dtype=int64)"
      ]
     },
     "execution_count": 16,
     "metadata": {},
     "output_type": "execute_result"
    }
   ],
   "source": [
    "test = [\"I am trying\", \"I want to cry\", \"This is just sad\"]\n",
    "train_labels = [3,3,3]\n",
    "\n",
    "test_seq = tokenizer.texts_to_sequences(test)\n",
    "Xtest = pad_sequences(test_seq, maxlen=maxlen, padding='post', truncating='post')\n",
    "\n",
    "\n",
    "y_pred = model.predict(Xtest)\n",
    "y_pred = np.argmax(y_pred, axis=1)\n",
    "y_pred"
   ]
  },
  {
   "cell_type": "code",
   "execution_count": 17,
   "metadata": {},
   "outputs": [
    {
     "name": "stdout",
     "output_type": "stream",
     "text": [
      "I am trying 😃\n",
      "I want to cry 😃\n",
      "This is just sad 😞\n"
     ]
    }
   ],
   "source": [
    "for i in range(len(test)):\n",
    "    print(test[i], label_to_emoji(y_pred[i]))"
   ]
  },
  {
   "cell_type": "markdown",
   "metadata": {},
   "source": [
    "F1 Score\n"
   ]
  },
  {
   "cell_type": "code",
   "execution_count": 18,
   "metadata": {},
   "outputs": [
    {
     "name": "stdout",
     "output_type": "stream",
     "text": [
      "Test F1 Score: 0.5000\n"
     ]
    }
   ],
   "source": [
    "f1 = f1_score(train_labels,y_pred,average='weighted')\n",
    "print(f\"Test F1 Score: {f1:.4f}\")"
   ]
  }
 ],
 "metadata": {
  "kernelspec": {
   "display_name": "Python 3",
   "language": "python",
   "name": "python3"
  },
  "language_info": {
   "codemirror_mode": {
    "name": "ipython",
    "version": 3
   },
   "file_extension": ".py",
   "mimetype": "text/x-python",
   "name": "python",
   "nbconvert_exporter": "python",
   "pygments_lexer": "ipython3",
   "version": "0.0.0"
  }
 },
 "nbformat": 4,
 "nbformat_minor": 2
}
