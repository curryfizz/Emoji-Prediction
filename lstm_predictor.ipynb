{
 "cells": [
  {
   "cell_type": "code",
   "execution_count": 71,
   "metadata": {},
   "outputs": [],
   "source": [
    "import numpy as np\n",
    "import pandas as pd\n",
    "import emoji\n",
    "\n",
    "from keras.models import Sequential\n",
    "from keras.layers import Dense, LSTM, SimpleRNN, Embedding\n",
    "from keras_preprocessing.text import Tokenizer\n",
    "from keras_preprocessing.sequence import pad_sequences\n",
    "from keras.utils.np_utils import to_categorical\n",
    "from sklearn.metrics import f1_score\n"
   ]
  },
  {
   "cell_type": "code",
   "execution_count": 72,
   "metadata": {},
   "outputs": [
    {
     "data": {
      "text/html": [
       "<div>\n",
       "<style scoped>\n",
       "    .dataframe tbody tr th:only-of-type {\n",
       "        vertical-align: middle;\n",
       "    }\n",
       "\n",
       "    .dataframe tbody tr th {\n",
       "        vertical-align: top;\n",
       "    }\n",
       "\n",
       "    .dataframe thead th {\n",
       "        text-align: right;\n",
       "    }\n",
       "</style>\n",
       "<table border=\"1\" class=\"dataframe\">\n",
       "  <thead>\n",
       "    <tr style=\"text-align: right;\">\n",
       "      <th></th>\n",
       "      <th>0</th>\n",
       "      <th>1</th>\n",
       "    </tr>\n",
       "  </thead>\n",
       "  <tbody>\n",
       "    <tr>\n",
       "      <th>0</th>\n",
       "      <td>French macaroon is so tasty</td>\n",
       "      <td>4</td>\n",
       "    </tr>\n",
       "    <tr>\n",
       "      <th>1</th>\n",
       "      <td>work is horrible</td>\n",
       "      <td>3</td>\n",
       "    </tr>\n",
       "    <tr>\n",
       "      <th>2</th>\n",
       "      <td>I am upset</td>\n",
       "      <td>3</td>\n",
       "    </tr>\n",
       "    <tr>\n",
       "      <th>3</th>\n",
       "      <td>throw the ball</td>\n",
       "      <td>1</td>\n",
       "    </tr>\n",
       "    <tr>\n",
       "      <th>4</th>\n",
       "      <td>Good joke</td>\n",
       "      <td>2</td>\n",
       "    </tr>\n",
       "  </tbody>\n",
       "</table>\n",
       "</div>"
      ],
      "text/plain": [
       "                             0  1\n",
       "0  French macaroon is so tasty  4\n",
       "1             work is horrible  3\n",
       "2                   I am upset  3\n",
       "3               throw the ball  1\n",
       "4                    Good joke  2"
      ]
     },
     "execution_count": 72,
     "metadata": {},
     "output_type": "execute_result"
    }
   ],
   "source": [
    "data = pd.read_csv(\"emoji_data.csv\", header=None)\n",
    "data.head()"
   ]
  },
  {
   "cell_type": "code",
   "execution_count": 73,
   "metadata": {},
   "outputs": [],
   "source": [
    "emoji_dictionary = {\n",
    "    0: \":red_heart:\",\n",
    "    1: \":baseball:\",\n",
    "    2: \":grinning_face_with_big_eyes:\",\n",
    "    3: \":disappointed_face:\",\n",
    "    4: \":fork_and_knife_with_plate:\"\n",
    "}\n",
    "\n",
    "def label_to_emoji(label):\n",
    "    return emoji.emojize(emoji_dictionary[label])"
   ]
  },
  {
   "cell_type": "code",
   "execution_count": 74,
   "metadata": {},
   "outputs": [
    {
     "data": {
      "text/plain": [
       "array([4, 3, 3, 1, 2, 1, 4, 3, 4, 1, 3, 3, 2, 2, 4, 3, 2, 3, 3, 1, 3, 2,\n",
       "       2, 2, 0, 1, 0, 4, 2, 0, 2, 0, 0, 3, 4, 0, 2, 1, 3, 1, 0, 4, 0, 3,\n",
       "       0, 4, 2, 3, 4, 2, 2, 3, 0, 2, 2, 3, 2, 3, 2, 2, 3, 3, 0, 2, 3, 0,\n",
       "       2, 0, 0, 2, 3, 2, 4, 1, 3, 3, 0, 0, 3, 2, 0, 3, 0, 2, 2, 4, 2, 2,\n",
       "       0, 0, 2, 3, 0, 4, 2, 1, 2, 3, 3, 2, 3, 0, 3, 0, 2, 0, 2, 3, 4, 3,\n",
       "       1, 3, 4, 3, 2, 3, 3, 3, 1, 4, 4, 2, 2, 1, 1, 2, 3, 2, 3, 4, 2, 3,\n",
       "       0, 2, 0, 0, 4, 3, 4, 2, 3, 2, 3, 4, 2, 1, 2, 4, 3, 1, 3, 2, 3, 2,\n",
       "       2, 3, 3, 2, 4, 0, 0, 0, 3, 0, 0, 1, 1, 2, 2, 2, 0, 3, 2, 3, 3, 1,\n",
       "       2, 2, 4, 2, 3, 1, 2], dtype=int64)"
      ]
     },
     "execution_count": 74,
     "metadata": {},
     "output_type": "execute_result"
    }
   ],
   "source": [
    "X = data[0].values\n",
    "Y = data[1].values\n",
    "\n",
    "Y"
   ]
  },
  {
   "cell_type": "markdown",
   "metadata": {},
   "source": [
    "Embeddings"
   ]
  },
  {
   "cell_type": "code",
   "execution_count": 75,
   "metadata": {},
   "outputs": [],
   "source": [
    "with open('data/glove_dataset/glove.6B.100d.txt','r', encoding='utf8') as file:\n",
    "    content = file.readlines()"
   ]
  },
  {
   "cell_type": "code",
   "execution_count": 76,
   "metadata": {},
   "outputs": [],
   "source": [
    "embeddings = {}\n",
    "\n",
    "for line in content:\n",
    "    line = line.split()\n",
    "    embeddings[line[0]] = np.array(line[1:], dtype=float)"
   ]
  },
  {
   "cell_type": "markdown",
   "metadata": {},
   "source": [
    "convert input text into tokens"
   ]
  },
  {
   "cell_type": "code",
   "execution_count": 77,
   "metadata": {},
   "outputs": [],
   "source": [
    "tokenizer = Tokenizer()\n",
    "tokenizer.fit_on_texts(X)\n",
    "word_to_index = tokenizer.word_index\n"
   ]
  },
  {
   "cell_type": "code",
   "execution_count": 78,
   "metadata": {},
   "outputs": [],
   "source": [
    "Xtokens = tokenizer.texts_to_sequences(X)\n"
   ]
  },
  {
   "cell_type": "code",
   "execution_count": 79,
   "metadata": {},
   "outputs": [],
   "source": [
    "def get_maxlen(data):\n",
    "    maxlen = 0\n",
    "    for sent in data:\n",
    "        maxlen = max(maxlen, len(sent))\n",
    "    \n",
    "    return maxlen\n",
    "maxlen = get_maxlen(Xtokens)"
   ]
  },
  {
   "cell_type": "code",
   "execution_count": 80,
   "metadata": {},
   "outputs": [],
   "source": [
    "Xtrain = pad_sequences(Xtokens, maxlen = maxlen, padding = 'post', truncating = 'post')"
   ]
  },
  {
   "cell_type": "code",
   "execution_count": 81,
   "metadata": {},
   "outputs": [],
   "source": [
    "Ytrain = to_categorical(Y)"
   ]
  },
  {
   "cell_type": "markdown",
   "metadata": {},
   "source": [
    "Model"
   ]
  },
  {
   "cell_type": "code",
   "execution_count": 82,
   "metadata": {},
   "outputs": [],
   "source": [
    "embed_size = 100"
   ]
  },
  {
   "cell_type": "code",
   "execution_count": 83,
   "metadata": {},
   "outputs": [],
   "source": [
    "embedding_matrix = np.zeros((len(word_to_index)+1, embed_size))\n",
    "\n",
    "for word, i in word_to_index.items():\n",
    "    embed_vector = embeddings[word]\n",
    "    embedding_matrix[i] = embed_vector"
   ]
  },
  {
   "cell_type": "code",
   "execution_count": 84,
   "metadata": {},
   "outputs": [],
   "source": [
    "model = Sequential([\n",
    "    Embedding(input_dim = len(word_to_index)+1,\n",
    "              output_dim = embed_size,\n",
    "              input_length=maxlen,\n",
    "              weights = [embedding_matrix],\n",
    "              trainable = False\n",
    "              ),\n",
    "    LSTM(units = 16, return_sequences=True),\n",
    "    LSTM(units = 4),\n",
    "    Dense(5, activation='softmax')\n",
    "])\n",
    "\n",
    "model.compile(optimizer='adam', loss='categorical_crossentropy', metrics=['accuracy'])"
   ]
  },
  {
   "cell_type": "code",
   "execution_count": 85,
   "metadata": {},
   "outputs": [
    {
     "name": "stdout",
     "output_type": "stream",
     "text": [
      "Epoch 1/100\n"
     ]
    },
    {
     "name": "stdout",
     "output_type": "stream",
     "text": [
      "6/6 [==============================] - 50s 32ms/step - loss: 1.6245 - accuracy: 0.1913\n",
      "Epoch 2/100\n",
      "6/6 [==============================] - 0s 42ms/step - loss: 1.5912 - accuracy: 0.3115\n",
      "Epoch 3/100\n",
      "6/6 [==============================] - 0s 48ms/step - loss: 1.5702 - accuracy: 0.3607\n",
      "Epoch 4/100\n",
      "6/6 [==============================] - 0s 53ms/step - loss: 1.5512 - accuracy: 0.3497\n",
      "Epoch 5/100\n",
      "6/6 [==============================] - 0s 40ms/step - loss: 1.5297 - accuracy: 0.3770\n",
      "Epoch 6/100\n",
      "6/6 [==============================] - 1s 150ms/step - loss: 1.5086 - accuracy: 0.4153\n",
      "Epoch 7/100\n",
      "6/6 [==============================] - 0s 36ms/step - loss: 1.4834 - accuracy: 0.4317\n",
      "Epoch 8/100\n",
      "6/6 [==============================] - 0s 44ms/step - loss: 1.4573 - accuracy: 0.4262\n",
      "Epoch 9/100\n",
      "6/6 [==============================] - 0s 43ms/step - loss: 1.4261 - accuracy: 0.4754\n",
      "Epoch 10/100\n",
      "6/6 [==============================] - 0s 36ms/step - loss: 1.3922 - accuracy: 0.5027\n",
      "Epoch 11/100\n",
      "6/6 [==============================] - 0s 36ms/step - loss: 1.3540 - accuracy: 0.5246\n",
      "Epoch 12/100\n",
      "6/6 [==============================] - 0s 48ms/step - loss: 1.3107 - accuracy: 0.5519\n",
      "Epoch 13/100\n",
      "6/6 [==============================] - 0s 43ms/step - loss: 1.2658 - accuracy: 0.5792\n",
      "Epoch 14/100\n",
      "6/6 [==============================] - 0s 35ms/step - loss: 1.2159 - accuracy: 0.6339\n",
      "Epoch 15/100\n",
      "6/6 [==============================] - 0s 34ms/step - loss: 1.1614 - accuracy: 0.6503\n",
      "Epoch 16/100\n",
      "6/6 [==============================] - 1s 164ms/step - loss: 1.1143 - accuracy: 0.6721\n",
      "Epoch 17/100\n",
      "6/6 [==============================] - 0s 39ms/step - loss: 1.0691 - accuracy: 0.6995\n",
      "Epoch 18/100\n",
      "6/6 [==============================] - 0s 42ms/step - loss: 1.0242 - accuracy: 0.7158\n",
      "Epoch 19/100\n",
      "6/6 [==============================] - 0s 36ms/step - loss: 0.9947 - accuracy: 0.7268\n",
      "Epoch 20/100\n",
      "6/6 [==============================] - 0s 41ms/step - loss: 0.9646 - accuracy: 0.7268\n",
      "Epoch 21/100\n",
      "6/6 [==============================] - 0s 45ms/step - loss: 0.9340 - accuracy: 0.7650\n",
      "Epoch 22/100\n",
      "6/6 [==============================] - 0s 39ms/step - loss: 0.9054 - accuracy: 0.7760\n",
      "Epoch 23/100\n",
      "6/6 [==============================] - 0s 33ms/step - loss: 0.8782 - accuracy: 0.7377\n",
      "Epoch 24/100\n",
      "6/6 [==============================] - 0s 59ms/step - loss: 0.8778 - accuracy: 0.7978\n",
      "Epoch 25/100\n",
      "6/6 [==============================] - 0s 43ms/step - loss: 0.8189 - accuracy: 0.7869\n",
      "Epoch 26/100\n",
      "6/6 [==============================] - 1s 103ms/step - loss: 0.7992 - accuracy: 0.7869\n",
      "Epoch 27/100\n",
      "6/6 [==============================] - 0s 44ms/step - loss: 0.7552 - accuracy: 0.8197\n",
      "Epoch 28/100\n",
      "6/6 [==============================] - 0s 36ms/step - loss: 0.7360 - accuracy: 0.8142\n",
      "Epoch 29/100\n",
      "6/6 [==============================] - 0s 36ms/step - loss: 0.7146 - accuracy: 0.8251\n",
      "Epoch 30/100\n",
      "6/6 [==============================] - 0s 45ms/step - loss: 0.6975 - accuracy: 0.8197\n",
      "Epoch 31/100\n",
      "6/6 [==============================] - 0s 37ms/step - loss: 0.6947 - accuracy: 0.8251\n",
      "Epoch 32/100\n",
      "6/6 [==============================] - 0s 33ms/step - loss: 0.6787 - accuracy: 0.8197\n",
      "Epoch 33/100\n",
      "6/6 [==============================] - 0s 36ms/step - loss: 0.6487 - accuracy: 0.8361\n",
      "Epoch 34/100\n",
      "6/6 [==============================] - 0s 48ms/step - loss: 0.6291 - accuracy: 0.8306\n",
      "Epoch 35/100\n",
      "6/6 [==============================] - 0s 54ms/step - loss: 0.6153 - accuracy: 0.8361\n",
      "Epoch 36/100\n",
      "6/6 [==============================] - 0s 33ms/step - loss: 0.6026 - accuracy: 0.8361\n",
      "Epoch 37/100\n",
      "6/6 [==============================] - 1s 131ms/step - loss: 0.5966 - accuracy: 0.8361\n",
      "Epoch 38/100\n",
      "6/6 [==============================] - 0s 29ms/step - loss: 0.5851 - accuracy: 0.8415\n",
      "Epoch 39/100\n",
      "6/6 [==============================] - 0s 37ms/step - loss: 0.5756 - accuracy: 0.8415\n",
      "Epoch 40/100\n",
      "6/6 [==============================] - 0s 39ms/step - loss: 0.5626 - accuracy: 0.8415\n",
      "Epoch 41/100\n",
      "6/6 [==============================] - 0s 38ms/step - loss: 0.5552 - accuracy: 0.8470\n",
      "Epoch 42/100\n",
      "6/6 [==============================] - 0s 55ms/step - loss: 0.5423 - accuracy: 0.8634\n",
      "Epoch 43/100\n",
      "6/6 [==============================] - 0s 34ms/step - loss: 0.5541 - accuracy: 0.8415\n",
      "Epoch 44/100\n",
      "6/6 [==============================] - 0s 34ms/step - loss: 0.5295 - accuracy: 0.8579\n",
      "Epoch 45/100\n",
      "6/6 [==============================] - 0s 40ms/step - loss: 0.5145 - accuracy: 0.8634\n",
      "Epoch 46/100\n",
      "6/6 [==============================] - 0s 59ms/step - loss: 0.5032 - accuracy: 0.8579\n",
      "Epoch 47/100\n",
      "6/6 [==============================] - 0s 42ms/step - loss: 0.4953 - accuracy: 0.8634\n",
      "Epoch 48/100\n",
      "6/6 [==============================] - 0s 38ms/step - loss: 0.4840 - accuracy: 0.8689\n",
      "Epoch 49/100\n",
      "6/6 [==============================] - 0s 33ms/step - loss: 0.4780 - accuracy: 0.8689\n",
      "Epoch 50/100\n",
      "6/6 [==============================] - 0s 40ms/step - loss: 0.4690 - accuracy: 0.8689\n",
      "Epoch 51/100\n",
      "6/6 [==============================] - 0s 45ms/step - loss: 0.4633 - accuracy: 0.8689\n",
      "Epoch 52/100\n",
      "6/6 [==============================] - 0s 36ms/step - loss: 0.4492 - accuracy: 0.8798\n",
      "Epoch 53/100\n",
      "6/6 [==============================] - 1s 61ms/step - loss: 0.4436 - accuracy: 0.8852\n",
      "Epoch 54/100\n",
      "6/6 [==============================] - 0s 40ms/step - loss: 0.4352 - accuracy: 0.8798\n",
      "Epoch 55/100\n",
      "6/6 [==============================] - 0s 36ms/step - loss: 0.4296 - accuracy: 0.8798\n",
      "Epoch 56/100\n",
      "6/6 [==============================] - 0s 33ms/step - loss: 0.4244 - accuracy: 0.8852\n",
      "Epoch 57/100\n",
      "6/6 [==============================] - 0s 42ms/step - loss: 0.4196 - accuracy: 0.8852\n",
      "Epoch 58/100\n",
      "6/6 [==============================] - 0s 58ms/step - loss: 0.4155 - accuracy: 0.8852\n",
      "Epoch 59/100\n",
      "6/6 [==============================] - 0s 46ms/step - loss: 0.4125 - accuracy: 0.8852\n",
      "Epoch 60/100\n",
      "6/6 [==============================] - 0s 44ms/step - loss: 0.4102 - accuracy: 0.8852\n",
      "Epoch 61/100\n",
      "6/6 [==============================] - 0s 29ms/step - loss: 0.4060 - accuracy: 0.8852\n",
      "Epoch 62/100\n",
      "6/6 [==============================] - 0s 29ms/step - loss: 0.4018 - accuracy: 0.8852\n",
      "Epoch 63/100\n",
      "6/6 [==============================] - 0s 31ms/step - loss: 0.3990 - accuracy: 0.8852\n",
      "Epoch 64/100\n",
      "6/6 [==============================] - 0s 56ms/step - loss: 0.3973 - accuracy: 0.8852\n",
      "Epoch 65/100\n",
      "6/6 [==============================] - 0s 80ms/step - loss: 0.3952 - accuracy: 0.8852\n",
      "Epoch 66/100\n",
      "6/6 [==============================] - 0s 36ms/step - loss: 0.3913 - accuracy: 0.8852\n",
      "Epoch 67/100\n",
      "6/6 [==============================] - 0s 31ms/step - loss: 0.3884 - accuracy: 0.8852\n",
      "Epoch 68/100\n",
      "6/6 [==============================] - 0s 88ms/step - loss: 0.3854 - accuracy: 0.8852\n",
      "Epoch 69/100\n",
      "6/6 [==============================] - 1s 71ms/step - loss: 0.3833 - accuracy: 0.8852\n",
      "Epoch 70/100\n",
      "6/6 [==============================] - 0s 47ms/step - loss: 0.3817 - accuracy: 0.8852\n",
      "Epoch 71/100\n",
      "6/6 [==============================] - 0s 43ms/step - loss: 0.3798 - accuracy: 0.8852\n",
      "Epoch 72/100\n",
      "6/6 [==============================] - 0s 37ms/step - loss: 0.3768 - accuracy: 0.8852\n",
      "Epoch 73/100\n",
      "6/6 [==============================] - 0s 55ms/step - loss: 0.3749 - accuracy: 0.8852\n",
      "Epoch 74/100\n",
      "6/6 [==============================] - 0s 41ms/step - loss: 0.3720 - accuracy: 0.8852\n",
      "Epoch 75/100\n",
      "6/6 [==============================] - 0s 35ms/step - loss: 0.3707 - accuracy: 0.8852\n",
      "Epoch 76/100\n",
      "6/6 [==============================] - 0s 38ms/step - loss: 0.3685 - accuracy: 0.8852\n",
      "Epoch 77/100\n",
      "6/6 [==============================] - 0s 58ms/step - loss: 0.3657 - accuracy: 0.8852\n",
      "Epoch 78/100\n",
      "6/6 [==============================] - 0s 39ms/step - loss: 0.3658 - accuracy: 0.8852\n",
      "Epoch 79/100\n",
      "6/6 [==============================] - 1s 152ms/step - loss: 0.3676 - accuracy: 0.8852\n",
      "Epoch 80/100\n",
      "6/6 [==============================] - 0s 44ms/step - loss: 0.3667 - accuracy: 0.8852\n",
      "Epoch 81/100\n",
      "6/6 [==============================] - 0s 75ms/step - loss: 0.3613 - accuracy: 0.8852\n",
      "Epoch 82/100\n",
      "6/6 [==============================] - 0s 50ms/step - loss: 0.3598 - accuracy: 0.8852\n",
      "Epoch 83/100\n",
      "6/6 [==============================] - 0s 47ms/step - loss: 0.3564 - accuracy: 0.8852\n",
      "Epoch 84/100\n",
      "6/6 [==============================] - 0s 74ms/step - loss: 0.3544 - accuracy: 0.8852\n",
      "Epoch 85/100\n",
      "6/6 [==============================] - 0s 43ms/step - loss: 0.3528 - accuracy: 0.8852\n",
      "Epoch 86/100\n",
      "6/6 [==============================] - 0s 49ms/step - loss: 0.3507 - accuracy: 0.8852\n",
      "Epoch 87/100\n",
      "6/6 [==============================] - 0s 54ms/step - loss: 0.3498 - accuracy: 0.8852\n",
      "Epoch 88/100\n",
      "6/6 [==============================] - 0s 40ms/step - loss: 0.3473 - accuracy: 0.8852\n",
      "Epoch 89/100\n",
      "6/6 [==============================] - 1s 137ms/step - loss: 0.3459 - accuracy: 0.8852\n",
      "Epoch 90/100\n",
      "6/6 [==============================] - 0s 58ms/step - loss: 0.3448 - accuracy: 0.8852\n",
      "Epoch 91/100\n",
      "6/6 [==============================] - 0s 42ms/step - loss: 0.3426 - accuracy: 0.8852\n",
      "Epoch 92/100\n",
      "6/6 [==============================] - 0s 63ms/step - loss: 0.3392 - accuracy: 0.8852\n",
      "Epoch 93/100\n",
      "6/6 [==============================] - 0s 48ms/step - loss: 0.3372 - accuracy: 0.8852\n",
      "Epoch 94/100\n",
      "6/6 [==============================] - 0s 88ms/step - loss: 0.3339 - accuracy: 0.8852\n",
      "Epoch 95/100\n",
      "6/6 [==============================] - 0s 61ms/step - loss: 0.3321 - accuracy: 0.8852\n",
      "Epoch 96/100\n",
      "6/6 [==============================] - 0s 51ms/step - loss: 0.3290 - accuracy: 0.8852\n",
      "Epoch 97/100\n",
      "6/6 [==============================] - 0s 61ms/step - loss: 0.3272 - accuracy: 0.8852\n",
      "Epoch 98/100\n",
      "6/6 [==============================] - 0s 64ms/step - loss: 0.3259 - accuracy: 0.8852\n",
      "Epoch 99/100\n",
      "6/6 [==============================] - 0s 58ms/step - loss: 0.3235 - accuracy: 0.8852\n",
      "Epoch 100/100\n",
      "6/6 [==============================] - 0s 51ms/step - loss: 0.3225 - accuracy: 0.8852\n"
     ]
    },
    {
     "data": {
      "text/plain": [
       "<keras.callbacks.History at 0x1c24a74b820>"
      ]
     },
     "execution_count": 85,
     "metadata": {},
     "output_type": "execute_result"
    }
   ],
   "source": [
    "model.fit(Xtrain, Ytrain, epochs=100)"
   ]
  },
  {
   "cell_type": "code",
   "execution_count": 86,
   "metadata": {},
   "outputs": [
    {
     "name": "stdout",
     "output_type": "stream",
     "text": [
      "1/1 [==============================] - 10s 10s/step\n"
     ]
    },
    {
     "data": {
      "text/plain": [
       "array([2, 2, 3], dtype=int64)"
      ]
     },
     "execution_count": 86,
     "metadata": {},
     "output_type": "execute_result"
    }
   ],
   "source": [
    "test = [\"I am trying\", \"I want to cry\", \"This is just sad\"]\n",
    "train_labels = [3,3,3]\n",
    "\n",
    "test_seq = tokenizer.texts_to_sequences(test)\n",
    "Xtest = pad_sequences(test_seq, maxlen=maxlen, padding='post', truncating='post')\n",
    "\n",
    "\n",
    "y_pred = model.predict(Xtest)\n",
    "y_pred = np.argmax(y_pred, axis=1)\n",
    "y_pred"
   ]
  },
  {
   "cell_type": "code",
   "execution_count": 87,
   "metadata": {},
   "outputs": [
    {
     "name": "stdout",
     "output_type": "stream",
     "text": [
      "I am trying 😃\n",
      "I want to cry 😃\n",
      "This is just sad 😞\n"
     ]
    }
   ],
   "source": [
    "for i in range(len(test)):\n",
    "    print(test[i], label_to_emoji(y_pred[i]))"
   ]
  },
  {
   "cell_type": "markdown",
   "metadata": {},
   "source": [
    "F1 Score\n"
   ]
  },
  {
   "cell_type": "code",
   "execution_count": 88,
   "metadata": {},
   "outputs": [
    {
     "name": "stdout",
     "output_type": "stream",
     "text": [
      "Test F1 Score: 0.5000\n"
     ]
    }
   ],
   "source": [
    "f1 = f1_score(train_labels,y_pred,average='weighted')\n",
    "print(f\"Test F1 Score: {f1:.4f}\")"
   ]
  }
 ],
 "metadata": {
  "kernelspec": {
   "display_name": "Python 3",
   "language": "python",
   "name": "python3"
  },
  "language_info": {
   "codemirror_mode": {
    "name": "ipython",
    "version": 3
   },
   "file_extension": ".py",
   "mimetype": "text/x-python",
   "name": "python",
   "nbconvert_exporter": "python",
   "pygments_lexer": "ipython3",
   "version": "3.10.13"
  }
 },
 "nbformat": 4,
 "nbformat_minor": 2
}
