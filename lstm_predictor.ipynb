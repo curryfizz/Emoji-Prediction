{
 "cells": [
  {
   "cell_type": "code",
   "execution_count": 58,
   "metadata": {},
   "outputs": [],
   "source": [
    "import numpy as np\n",
    "import pandas as pd\n",
    "import emoji\n",
    "import seaborn as sns\n",
    "import matplotlib.pyplot as plt\n",
    "\n",
    "from keras.models import Sequential\n",
    "from keras.layers import Dense, LSTM, SimpleRNN, Embedding\n",
    "from keras_preprocessing.text import Tokenizer\n",
    "from keras_preprocessing.sequence import pad_sequences\n",
    "from keras.utils.np_utils import to_categorical\n",
    "from sklearn.metrics import confusion_matrix"
   ]
  },
  {
   "cell_type": "code",
   "execution_count": 59,
   "metadata": {},
   "outputs": [
    {
     "data": {
      "text/html": [
       "<div>\n",
       "<style scoped>\n",
       "    .dataframe tbody tr th:only-of-type {\n",
       "        vertical-align: middle;\n",
       "    }\n",
       "\n",
       "    .dataframe tbody tr th {\n",
       "        vertical-align: top;\n",
       "    }\n",
       "\n",
       "    .dataframe thead th {\n",
       "        text-align: right;\n",
       "    }\n",
       "</style>\n",
       "<table border=\"1\" class=\"dataframe\">\n",
       "  <thead>\n",
       "    <tr style=\"text-align: right;\">\n",
       "      <th></th>\n",
       "      <th>0</th>\n",
       "      <th>1</th>\n",
       "    </tr>\n",
       "  </thead>\n",
       "  <tbody>\n",
       "    <tr>\n",
       "      <th>0</th>\n",
       "      <td>French macaroon is so tasty</td>\n",
       "      <td>4</td>\n",
       "    </tr>\n",
       "    <tr>\n",
       "      <th>1</th>\n",
       "      <td>work is horrible</td>\n",
       "      <td>3</td>\n",
       "    </tr>\n",
       "    <tr>\n",
       "      <th>2</th>\n",
       "      <td>I am upset</td>\n",
       "      <td>3</td>\n",
       "    </tr>\n",
       "    <tr>\n",
       "      <th>3</th>\n",
       "      <td>throw the ball</td>\n",
       "      <td>1</td>\n",
       "    </tr>\n",
       "    <tr>\n",
       "      <th>4</th>\n",
       "      <td>Good joke</td>\n",
       "      <td>2</td>\n",
       "    </tr>\n",
       "  </tbody>\n",
       "</table>\n",
       "</div>"
      ],
      "text/plain": [
       "                             0  1\n",
       "0  French macaroon is so tasty  4\n",
       "1             work is horrible  3\n",
       "2                   I am upset  3\n",
       "3               throw the ball  1\n",
       "4                    Good joke  2"
      ]
     },
     "execution_count": 59,
     "metadata": {},
     "output_type": "execute_result"
    }
   ],
   "source": [
    "data = pd.read_csv(\"emoji_data.csv\", header=None)\n",
    "data.head()"
   ]
  },
  {
   "cell_type": "code",
   "execution_count": 60,
   "metadata": {},
   "outputs": [],
   "source": [
    "emoji_dictionary = {\n",
    "    0: \":red_heart:\",\n",
    "    1: \":baseball:\",\n",
    "    2: \":grinning_face_with_big_eyes:\",\n",
    "    3: \":disappointed_face:\",\n",
    "    4: \":fork_and_knife_with_plate:\"\n",
    "}\n",
    "\n",
    "def label_to_emoji(label):\n",
    "    return emoji.emojize(emoji_dictionary[label])"
   ]
  },
  {
   "cell_type": "code",
   "execution_count": 61,
   "metadata": {},
   "outputs": [
    {
     "data": {
      "text/plain": [
       "array([4, 3, 3, 1, 2, 1, 4, 3, 4, 1, 3, 3, 2, 2, 4, 3, 2, 3, 3, 1, 3, 2,\n",
       "       2, 2, 0, 1, 0, 4, 2, 0, 2, 0, 0, 3, 4, 0, 2, 1, 3, 1, 0, 4, 0, 3,\n",
       "       0, 4, 2, 3, 4, 2, 2, 3, 0, 2, 2, 3, 2, 3, 2, 2, 3, 3, 0, 2, 3, 0,\n",
       "       2, 0, 0, 2, 3, 2, 4, 1, 3, 3, 0, 0, 3, 2, 0, 3, 0, 2, 2, 4, 2, 2,\n",
       "       0, 0, 2, 3, 0, 4, 2, 1, 2, 3, 3, 2, 3, 0, 3, 0, 2, 0, 2, 3, 4, 3,\n",
       "       1, 3, 4, 3, 2, 3, 3, 3, 1, 4, 4, 2, 2, 1, 1, 2, 3, 2, 3, 4, 2, 3,\n",
       "       0, 2, 0, 0, 4, 3, 4, 2, 3, 2, 3, 4, 2, 1, 2, 4, 3, 1, 3, 2, 3, 2,\n",
       "       2, 3, 3, 2, 4, 0, 0, 0, 3, 0, 0, 1, 1, 2, 2, 2, 0, 3, 2, 3, 3, 1,\n",
       "       2, 2, 4, 2, 3, 1, 2], dtype=int64)"
      ]
     },
     "execution_count": 61,
     "metadata": {},
     "output_type": "execute_result"
    }
   ],
   "source": [
    "X = data[0].values\n",
    "Y = data[1].values\n",
    "\n",
    "Y"
   ]
  },
  {
   "cell_type": "markdown",
   "metadata": {},
   "source": [
    "Embeddings"
   ]
  },
  {
   "cell_type": "code",
   "execution_count": 62,
   "metadata": {},
   "outputs": [],
   "source": [
    "with open('data/glove_dataset/glove.6B.100d.txt','r', encoding='utf8') as file:\n",
    "    content = file.readlines()"
   ]
  },
  {
   "cell_type": "code",
   "execution_count": 46,
   "metadata": {},
   "outputs": [],
   "source": [
    "embeddings = {}\n",
    "\n",
    "for line in content:\n",
    "    line = line.split()\n",
    "    embeddings[line[0]] = np.array(line[1:], dtype=float)"
   ]
  },
  {
   "cell_type": "markdown",
   "metadata": {},
   "source": [
    "convert input text into tokens"
   ]
  },
  {
   "cell_type": "code",
   "execution_count": 47,
   "metadata": {},
   "outputs": [],
   "source": [
    "tokenizer = Tokenizer()\n",
    "tokenizer.fit_on_texts(X)\n",
    "word_to_index = tokenizer.word_index\n"
   ]
  },
  {
   "cell_type": "code",
   "execution_count": 48,
   "metadata": {},
   "outputs": [],
   "source": [
    "Xtokens = tokenizer.texts_to_sequences(X)\n"
   ]
  },
  {
   "cell_type": "code",
   "execution_count": 49,
   "metadata": {},
   "outputs": [],
   "source": [
    "def get_maxlen(data):\n",
    "    maxlen = 0\n",
    "    for sent in data:\n",
    "        maxlen = max(maxlen, len(sent))\n",
    "    \n",
    "    return maxlen\n",
    "maxlen = get_maxlen(Xtokens)"
   ]
  },
  {
   "cell_type": "code",
   "execution_count": 50,
   "metadata": {},
   "outputs": [],
   "source": [
    "Xtrain = pad_sequences(Xtokens, maxlen = maxlen, padding = 'post', truncating = 'post')"
   ]
  },
  {
   "cell_type": "code",
   "execution_count": 51,
   "metadata": {},
   "outputs": [],
   "source": [
    "Ytrain = to_categorical(Y)"
   ]
  },
  {
   "cell_type": "markdown",
   "metadata": {},
   "source": [
    "Model"
   ]
  },
  {
   "cell_type": "code",
   "execution_count": 52,
   "metadata": {},
   "outputs": [],
   "source": [
    "embed_size = 100"
   ]
  },
  {
   "cell_type": "code",
   "execution_count": 53,
   "metadata": {},
   "outputs": [],
   "source": [
    "embedding_matrix = np.zeros((len(word_to_index)+1, embed_size))\n",
    "\n",
    "for word, i in word_to_index.items():\n",
    "    embed_vector = embeddings[word]\n",
    "    embedding_matrix[i] = embed_vector"
   ]
  },
  {
   "cell_type": "code",
   "execution_count": 54,
   "metadata": {},
   "outputs": [],
   "source": [
    "model = Sequential([\n",
    "    Embedding(input_dim = len(word_to_index)+1,\n",
    "              output_dim = embed_size,\n",
    "              input_length=maxlen,\n",
    "              weights = [embedding_matrix],\n",
    "              trainable = False\n",
    "              ),\n",
    "    LSTM(units = 16, return_sequences=True),\n",
    "    LSTM(units = 4),\n",
    "    Dense(5, activation='softmax')\n",
    "])\n",
    "\n",
    "model.compile(optimizer='adam', loss='categorical_crossentropy', metrics=['accuracy'])"
   ]
  },
  {
   "cell_type": "code",
   "execution_count": 63,
   "metadata": {},
   "outputs": [
    {
     "name": "stdout",
     "output_type": "stream",
     "text": [
      "Epoch 1/100\n",
      "6/6 [==============================] - 12s 20ms/step - loss: 1.5868 - accuracy: 0.3497\n",
      "Epoch 2/100\n",
      "6/6 [==============================] - 0s 19ms/step - loss: 1.5647 - accuracy: 0.3005\n",
      "Epoch 3/100\n",
      "6/6 [==============================] - 0s 26ms/step - loss: 1.5459 - accuracy: 0.3115\n",
      "Epoch 4/100\n",
      "6/6 [==============================] - 0s 28ms/step - loss: 1.5306 - accuracy: 0.3115\n",
      "Epoch 5/100\n",
      "6/6 [==============================] - 0s 52ms/step - loss: 1.5132 - accuracy: 0.3169\n",
      "Epoch 6/100\n",
      "6/6 [==============================] - 0s 23ms/step - loss: 1.4954 - accuracy: 0.3333\n",
      "Epoch 7/100\n",
      "6/6 [==============================] - 0s 23ms/step - loss: 1.4740 - accuracy: 0.3825\n",
      "Epoch 8/100\n",
      "6/6 [==============================] - 0s 21ms/step - loss: 1.4478 - accuracy: 0.3989\n",
      "Epoch 9/100\n",
      "6/6 [==============================] - 0s 23ms/step - loss: 1.4170 - accuracy: 0.3934\n",
      "Epoch 10/100\n",
      "6/6 [==============================] - 0s 23ms/step - loss: 1.3852 - accuracy: 0.4754\n",
      "Epoch 11/100\n",
      "6/6 [==============================] - 0s 39ms/step - loss: 1.3471 - accuracy: 0.4863\n",
      "Epoch 12/100\n",
      "6/6 [==============================] - 0s 33ms/step - loss: 1.3118 - accuracy: 0.5191\n",
      "Epoch 13/100\n",
      "6/6 [==============================] - 0s 29ms/step - loss: 1.2755 - accuracy: 0.5574\n",
      "Epoch 14/100\n",
      "6/6 [==============================] - 0s 35ms/step - loss: 1.2423 - accuracy: 0.5410\n",
      "Epoch 15/100\n",
      "6/6 [==============================] - 0s 27ms/step - loss: 1.2062 - accuracy: 0.5738\n",
      "Epoch 16/100\n",
      "6/6 [==============================] - 0s 27ms/step - loss: 1.1742 - accuracy: 0.5847\n",
      "Epoch 17/100\n",
      "6/6 [==============================] - 0s 26ms/step - loss: 1.1430 - accuracy: 0.5902\n",
      "Epoch 18/100\n",
      "6/6 [==============================] - 0s 24ms/step - loss: 1.1142 - accuracy: 0.6448\n",
      "Epoch 19/100\n",
      "6/6 [==============================] - 0s 25ms/step - loss: 1.0715 - accuracy: 0.6230\n",
      "Epoch 20/100\n",
      "6/6 [==============================] - 0s 24ms/step - loss: 1.0412 - accuracy: 0.6667\n",
      "Epoch 21/100\n",
      "6/6 [==============================] - 0s 25ms/step - loss: 1.0112 - accuracy: 0.6831\n",
      "Epoch 22/100\n",
      "6/6 [==============================] - 0s 26ms/step - loss: 0.9719 - accuracy: 0.7158\n",
      "Epoch 23/100\n",
      "6/6 [==============================] - 0s 23ms/step - loss: 0.9417 - accuracy: 0.7432\n",
      "Epoch 24/100\n",
      "6/6 [==============================] - 0s 30ms/step - loss: 0.9077 - accuracy: 0.7705\n",
      "Epoch 25/100\n",
      "6/6 [==============================] - 0s 24ms/step - loss: 0.8815 - accuracy: 0.8033\n",
      "Epoch 26/100\n",
      "6/6 [==============================] - 0s 23ms/step - loss: 0.8541 - accuracy: 0.8197\n",
      "Epoch 27/100\n",
      "6/6 [==============================] - 0s 23ms/step - loss: 0.8277 - accuracy: 0.8525\n",
      "Epoch 28/100\n",
      "6/6 [==============================] - 0s 24ms/step - loss: 0.8050 - accuracy: 0.8634\n",
      "Epoch 29/100\n",
      "6/6 [==============================] - 0s 27ms/step - loss: 0.7802 - accuracy: 0.8852\n",
      "Epoch 30/100\n",
      "6/6 [==============================] - 0s 26ms/step - loss: 0.7642 - accuracy: 0.8852\n",
      "Epoch 31/100\n",
      "6/6 [==============================] - 0s 34ms/step - loss: 0.7313 - accuracy: 0.9016\n",
      "Epoch 32/100\n",
      "6/6 [==============================] - 0s 30ms/step - loss: 0.7100 - accuracy: 0.9071\n",
      "Epoch 33/100\n",
      "6/6 [==============================] - 0s 31ms/step - loss: 0.6896 - accuracy: 0.9290\n",
      "Epoch 34/100\n",
      "6/6 [==============================] - 0s 29ms/step - loss: 0.6716 - accuracy: 0.9344\n",
      "Epoch 35/100\n",
      "6/6 [==============================] - 0s 27ms/step - loss: 0.6536 - accuracy: 0.9290\n",
      "Epoch 36/100\n",
      "6/6 [==============================] - 0s 30ms/step - loss: 0.6411 - accuracy: 0.9399\n",
      "Epoch 37/100\n",
      "6/6 [==============================] - 0s 27ms/step - loss: 0.6245 - accuracy: 0.9508\n",
      "Epoch 38/100\n",
      "6/6 [==============================] - 0s 25ms/step - loss: 0.6061 - accuracy: 0.9399\n",
      "Epoch 39/100\n",
      "6/6 [==============================] - 0s 23ms/step - loss: 0.6036 - accuracy: 0.9399\n",
      "Epoch 40/100\n",
      "6/6 [==============================] - 0s 24ms/step - loss: 0.5885 - accuracy: 0.9454\n",
      "Epoch 41/100\n",
      "6/6 [==============================] - 0s 23ms/step - loss: 0.5776 - accuracy: 0.9508\n",
      "Epoch 42/100\n",
      "6/6 [==============================] - 0s 21ms/step - loss: 0.5564 - accuracy: 0.9672\n",
      "Epoch 43/100\n",
      "6/6 [==============================] - 0s 21ms/step - loss: 0.5484 - accuracy: 0.9727\n",
      "Epoch 44/100\n",
      "6/6 [==============================] - 0s 20ms/step - loss: 0.5401 - accuracy: 0.9617\n",
      "Epoch 45/100\n",
      "6/6 [==============================] - 0s 29ms/step - loss: 0.5312 - accuracy: 0.9727\n",
      "Epoch 46/100\n",
      "6/6 [==============================] - 0s 43ms/step - loss: 0.5109 - accuracy: 0.9727\n",
      "Epoch 47/100\n",
      "6/6 [==============================] - 0s 25ms/step - loss: 0.5025 - accuracy: 0.9781\n",
      "Epoch 48/100\n",
      "6/6 [==============================] - 0s 76ms/step - loss: 0.4967 - accuracy: 0.9727\n",
      "Epoch 49/100\n",
      "6/6 [==============================] - 0s 33ms/step - loss: 0.4869 - accuracy: 0.9781\n",
      "Epoch 50/100\n",
      "6/6 [==============================] - 0s 26ms/step - loss: 0.4766 - accuracy: 0.9781\n",
      "Epoch 51/100\n",
      "6/6 [==============================] - 0s 25ms/step - loss: 0.4693 - accuracy: 0.9781\n",
      "Epoch 52/100\n",
      "6/6 [==============================] - 0s 23ms/step - loss: 0.4628 - accuracy: 0.9781\n",
      "Epoch 53/100\n",
      "6/6 [==============================] - 0s 33ms/step - loss: 0.4565 - accuracy: 0.9781\n",
      "Epoch 54/100\n",
      "6/6 [==============================] - 0s 40ms/step - loss: 0.4494 - accuracy: 0.9781\n",
      "Epoch 55/100\n",
      "6/6 [==============================] - 0s 29ms/step - loss: 0.4428 - accuracy: 0.9781\n",
      "Epoch 56/100\n",
      "6/6 [==============================] - 0s 26ms/step - loss: 0.4373 - accuracy: 0.9781\n",
      "Epoch 57/100\n",
      "6/6 [==============================] - 0s 33ms/step - loss: 0.4304 - accuracy: 0.9781\n",
      "Epoch 58/100\n",
      "6/6 [==============================] - 0s 45ms/step - loss: 0.4247 - accuracy: 0.9781\n",
      "Epoch 59/100\n",
      "6/6 [==============================] - 0s 61ms/step - loss: 0.4192 - accuracy: 0.9781\n",
      "Epoch 60/100\n",
      "6/6 [==============================] - 0s 27ms/step - loss: 0.4138 - accuracy: 0.9781\n",
      "Epoch 61/100\n",
      "6/6 [==============================] - 0s 30ms/step - loss: 0.4084 - accuracy: 0.9781\n",
      "Epoch 62/100\n",
      "6/6 [==============================] - 0s 30ms/step - loss: 0.4033 - accuracy: 0.9781\n",
      "Epoch 63/100\n",
      "6/6 [==============================] - 0s 23ms/step - loss: 0.3981 - accuracy: 0.9781\n",
      "Epoch 64/100\n",
      "6/6 [==============================] - 0s 23ms/step - loss: 0.3931 - accuracy: 0.9781\n",
      "Epoch 65/100\n",
      "6/6 [==============================] - 0s 27ms/step - loss: 0.3883 - accuracy: 0.9781\n",
      "Epoch 66/100\n",
      "6/6 [==============================] - 0s 24ms/step - loss: 0.3834 - accuracy: 0.9781\n",
      "Epoch 67/100\n",
      "6/6 [==============================] - 0s 25ms/step - loss: 0.3786 - accuracy: 0.9781\n",
      "Epoch 68/100\n",
      "6/6 [==============================] - 0s 28ms/step - loss: 0.3741 - accuracy: 0.9781\n",
      "Epoch 69/100\n",
      "6/6 [==============================] - 0s 24ms/step - loss: 0.3697 - accuracy: 0.9781\n",
      "Epoch 70/100\n",
      "6/6 [==============================] - 0s 28ms/step - loss: 0.3647 - accuracy: 0.9781\n",
      "Epoch 71/100\n",
      "6/6 [==============================] - 0s 87ms/step - loss: 0.3602 - accuracy: 0.9781\n",
      "Epoch 72/100\n",
      "6/6 [==============================] - 0s 46ms/step - loss: 0.3554 - accuracy: 0.9781\n",
      "Epoch 73/100\n",
      "6/6 [==============================] - 0s 67ms/step - loss: 0.3484 - accuracy: 0.9836\n",
      "Epoch 74/100\n",
      "6/6 [==============================] - 0s 31ms/step - loss: 0.3470 - accuracy: 0.9781\n",
      "Epoch 75/100\n",
      "6/6 [==============================] - 0s 28ms/step - loss: 0.3428 - accuracy: 0.9836\n",
      "Epoch 76/100\n",
      "6/6 [==============================] - 0s 28ms/step - loss: 0.3361 - accuracy: 0.9836\n",
      "Epoch 77/100\n",
      "6/6 [==============================] - 0s 29ms/step - loss: 0.3326 - accuracy: 0.9781\n",
      "Epoch 78/100\n",
      "6/6 [==============================] - 0s 28ms/step - loss: 0.3269 - accuracy: 0.9836\n",
      "Epoch 79/100\n",
      "6/6 [==============================] - 0s 30ms/step - loss: 0.3222 - accuracy: 0.9836\n",
      "Epoch 80/100\n",
      "6/6 [==============================] - 0s 90ms/step - loss: 0.3182 - accuracy: 0.9836\n",
      "Epoch 81/100\n",
      "6/6 [==============================] - 0s 51ms/step - loss: 0.3140 - accuracy: 0.9836\n",
      "Epoch 82/100\n",
      "6/6 [==============================] - 0s 68ms/step - loss: 0.3102 - accuracy: 0.9836\n",
      "Epoch 83/100\n",
      "6/6 [==============================] - 0s 35ms/step - loss: 0.3066 - accuracy: 0.9836\n",
      "Epoch 84/100\n",
      "6/6 [==============================] - 0s 34ms/step - loss: 0.3029 - accuracy: 0.9836\n",
      "Epoch 85/100\n",
      "6/6 [==============================] - 0s 52ms/step - loss: 0.2995 - accuracy: 0.9836\n",
      "Epoch 86/100\n",
      "6/6 [==============================] - 0s 35ms/step - loss: 0.2960 - accuracy: 0.9836\n",
      "Epoch 87/100\n",
      "6/6 [==============================] - 1s 104ms/step - loss: 0.2929 - accuracy: 0.9836\n",
      "Epoch 88/100\n",
      "6/6 [==============================] - 0s 42ms/step - loss: 0.2896 - accuracy: 0.9836\n",
      "Epoch 89/100\n",
      "6/6 [==============================] - 0s 42ms/step - loss: 0.2866 - accuracy: 0.9836\n",
      "Epoch 90/100\n",
      "6/6 [==============================] - 0s 43ms/step - loss: 0.2836 - accuracy: 0.9836\n",
      "Epoch 91/100\n",
      "6/6 [==============================] - 0s 53ms/step - loss: 0.2807 - accuracy: 0.9836\n",
      "Epoch 92/100\n",
      "6/6 [==============================] - 0s 47ms/step - loss: 0.2778 - accuracy: 0.9836\n",
      "Epoch 93/100\n",
      "6/6 [==============================] - 0s 63ms/step - loss: 0.2750 - accuracy: 0.9836\n",
      "Epoch 94/100\n",
      "6/6 [==============================] - 0s 39ms/step - loss: 0.2723 - accuracy: 0.9836\n",
      "Epoch 95/100\n",
      "6/6 [==============================] - 0s 35ms/step - loss: 0.2697 - accuracy: 0.9836\n",
      "Epoch 96/100\n",
      "6/6 [==============================] - 1s 78ms/step - loss: 0.2670 - accuracy: 0.9836\n",
      "Epoch 97/100\n",
      "6/6 [==============================] - 0s 31ms/step - loss: 0.2644 - accuracy: 0.9836\n",
      "Epoch 98/100\n",
      "6/6 [==============================] - 0s 29ms/step - loss: 0.2619 - accuracy: 0.9836\n",
      "Epoch 99/100\n",
      "6/6 [==============================] - 0s 30ms/step - loss: 0.2594 - accuracy: 0.9836\n",
      "Epoch 100/100\n",
      "6/6 [==============================] - 0s 29ms/step - loss: 0.2570 - accuracy: 0.9836\n"
     ]
    },
    {
     "data": {
      "text/plain": [
       "<keras.callbacks.History at 0x1c24a146830>"
      ]
     },
     "execution_count": 63,
     "metadata": {},
     "output_type": "execute_result"
    }
   ],
   "source": [
    "model.fit(Xtrain, Ytrain, epochs=100)"
   ]
  },
  {
   "cell_type": "code",
   "execution_count": 55,
   "metadata": {},
   "outputs": [
    {
     "name": "stdout",
     "output_type": "stream",
     "text": [
      "1/1 [==============================] - 10s 10s/step\n"
     ]
    },
    {
     "data": {
      "text/plain": [
       "array([1, 2, 3], dtype=int64)"
      ]
     },
     "execution_count": 55,
     "metadata": {},
     "output_type": "execute_result"
    }
   ],
   "source": [
    "test = [\"I am trying\", \"I want to cry\", \"This is just sad\"]\n",
    "true_labels = [3,3,3]\n",
    "\n",
    "test_seq = tokenizer.texts_to_sequences(test)\n",
    "Xtest = pad_sequences(test_seq, maxlen=maxlen, padding='post', truncating='post')\n",
    "\n",
    "\n",
    "y_pred = model.predict(Xtest)\n",
    "y_pred = np.argmax(y_pred, axis=1)\n",
    "y_pred"
   ]
  },
  {
   "cell_type": "code",
   "execution_count": 56,
   "metadata": {},
   "outputs": [
    {
     "name": "stdout",
     "output_type": "stream",
     "text": [
      "I am trying ⚾\n",
      "I want to cry 😃\n",
      "This is just sad 😞\n"
     ]
    }
   ],
   "source": [
    "for i in range(len(test)):\n",
    "    print(test[i], label_to_emoji(y_pred[i]))"
   ]
  },
  {
   "cell_type": "markdown",
   "metadata": {},
   "source": [
    "Confusion Matrix"
   ]
  },
  {
   "cell_type": "code",
   "execution_count": 65,
   "metadata": {},
   "outputs": [
    {
     "data": {
      "image/png": "[encoded data removed]",
      "text/plain": [
       "<Figure size 800x800 with 2 Axes>"
      ]
     },
     "metadata": {},
     "output_type": "display_data"
    }
   ],
   "source": [
    "\n",
    "cm = confusion_matrix(true_labels, y_pred)\n",
    "\n",
    "emoji_labels = [label_to_emoji(i) for i in range(5)]\n",
    "\n",
    "plt.figure(figsize=(8, 8))\n",
    "sns.heatmap(cm, annot=True, cmap='Blues', fmt='g', xticklabels=emoji_dictionary, yticklabels=emoji_dictionary)\n",
    "plt.xlabel('Predicted')\n",
    "plt.ylabel('True')\n",
    "plt.title('Confusion Matrix')\n",
    "plt.show()"
   ]
  }
 ],
 "metadata": {
  "kernelspec": {
   "display_name": "Python 3",
   "language": "python",
   "name": "python3"
  },
  "language_info": {
   "codemirror_mode": {
    "name": "ipython",
    "version": 3
   },
   "file_extension": ".py",
   "mimetype": "text/x-python",
   "name": "python",
   "nbconvert_exporter": "python",
   "pygments_lexer": "ipython3",
   "version": "3.10.13"
  }
 },
 "nbformat": 4,
 "nbformat_minor": 2
}
