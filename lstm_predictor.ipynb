{
 "cells": [
  {
   "cell_type": "code",
   "execution_count": 41,
   "metadata": {
    "notebookRunGroups": {
     "groupValue": "2"
    }
   },
   "outputs": [],
   "source": [
    "import numpy as np\n",
    "import pandas as pd\n",
    "import emoji\n",
    "import re\n",
    "import pickle\n",
    "import matplotlib.pyplot as plt\n",
    "import matplotlib.colors as pltclrs\n",
    "import seaborn as sns\n",
    "\n",
    "\n",
    "from keras.models import Sequential\n",
    "from keras.layers import Dense, LSTM, SimpleRNN, Embedding\n",
    "from keras_preprocessing.text import Tokenizer\n",
    "from keras_preprocessing.sequence import pad_sequences\n",
    "from keras.utils import to_categorical\n",
    "from sklearn.model_selection import train_test_split  # Import for splitting the data\n",
    "from gensim.models import KeyedVectors\n",
    "from datetime import datetime\n",
    "from mlxtend.plotting import plot_confusion_matrix\n",
    "from sklearn.metrics import confusion_matrix, classification_report\n",
    "\n",
    "\n",
    "\n",
    "np.random.seed(0)\n"
   ]
  },
  {
   "cell_type": "code",
   "execution_count": 2,
   "metadata": {},
   "outputs": [
    {
     "data": {
      "text/html": [
       "<div>\n",
       "<style scoped>\n",
       "    .dataframe tbody tr th:only-of-type {\n",
       "        vertical-align: middle;\n",
       "    }\n",
       "\n",
       "    .dataframe tbody tr th {\n",
       "        vertical-align: top;\n",
       "    }\n",
       "\n",
       "    .dataframe thead th {\n",
       "        text-align: right;\n",
       "    }\n",
       "</style>\n",
       "<table border=\"1\" class=\"dataframe\">\n",
       "  <thead>\n",
       "    <tr style=\"text-align: right;\">\n",
       "      <th></th>\n",
       "      <th>0</th>\n",
       "      <th>1</th>\n",
       "    </tr>\n",
       "  </thead>\n",
       "  <tbody>\n",
       "    <tr>\n",
       "      <th>0</th>\n",
       "      <td>Woke up feelin' dangerous</td>\n",
       "      <td>5</td>\n",
       "    </tr>\n",
       "    <tr>\n",
       "      <th>1</th>\n",
       "      <td>Got my mind on my money</td>\n",
       "      <td>5</td>\n",
       "    </tr>\n",
       "    <tr>\n",
       "      <th>2</th>\n",
       "      <td>Haha that was hilarious</td>\n",
       "      <td>1</td>\n",
       "    </tr>\n",
       "    <tr>\n",
       "      <th>3</th>\n",
       "      <td>Feeling like Uptown Funk</td>\n",
       "      <td>5</td>\n",
       "    </tr>\n",
       "    <tr>\n",
       "      <th>4</th>\n",
       "      <td>Congratulations for having a baby</td>\n",
       "      <td>2</td>\n",
       "    </tr>\n",
       "  </tbody>\n",
       "</table>\n",
       "</div>"
      ],
      "text/plain": [
       "                                   0  1\n",
       "0          Woke up feelin' dangerous  5\n",
       "1            Got my mind on my money  5\n",
       "2            Haha that was hilarious  1\n",
       "3           Feeling like Uptown Funk  5\n",
       "4  Congratulations for having a baby  2"
      ]
     },
     "execution_count": 2,
     "metadata": {},
     "output_type": "execute_result"
    }
   ],
   "source": [
    "data = pd.read_csv(\"data/emoji_data/emoji_data.csv\", header=None)\n",
    "data.head()"
   ]
  },
  {
   "cell_type": "markdown",
   "metadata": {},
   "source": [
    "Emoji Dictionary"
   ]
  },
  {
   "cell_type": "code",
   "execution_count": 3,
   "metadata": {
    "tags": [
     "parameters"
    ]
   },
   "outputs": [],
   "source": [
    "emoji_dictionary = {\n",
    "    0: \":red_heart:\",  # Love #\n",
    "    1: \":face_with_tears_of_joy:\",  # Laughter\n",
    "    2: \":grinning_face_with_big_eyes:\", # Happiness #\n",
    "    3: \":loudly_crying_face:\",  # Sadness #\n",
    "    4: \":smiling_face_with_heart-eyes:\",  # Adoration\n",
    "    5: \":fire:\",  # Excitement\n",
    "    6: \":thumbs_up:\",  # Approval\n",
    "    7: \":folded_hands:\",  # Gratitude\n",
    "    8: \":angry_face:\",  # Anger\n",
    "    9: \":thinking_face:\",  # Contemplation\n",
    "}\n"
   ]
  },
  {
   "cell_type": "markdown",
   "metadata": {},
   "source": [
    "Function to get labels from CLDR names"
   ]
  },
  {
   "cell_type": "code",
   "execution_count": 4,
   "metadata": {},
   "outputs": [],
   "source": [
    "def label_to_emoji(label):\n",
    "    return emoji.emojize(emoji_dictionary[label])\n"
   ]
  },
  {
   "cell_type": "markdown",
   "metadata": {},
   "source": [
    "Reading data"
   ]
  },
  {
   "cell_type": "code",
   "execution_count": 5,
   "metadata": {},
   "outputs": [
    {
     "data": {
      "text/html": [
       "<div>\n",
       "<style scoped>\n",
       "    .dataframe tbody tr th:only-of-type {\n",
       "        vertical-align: middle;\n",
       "    }\n",
       "\n",
       "    .dataframe tbody tr th {\n",
       "        vertical-align: top;\n",
       "    }\n",
       "\n",
       "    .dataframe thead th {\n",
       "        text-align: right;\n",
       "    }\n",
       "</style>\n",
       "<table border=\"1\" class=\"dataframe\">\n",
       "  <thead>\n",
       "    <tr style=\"text-align: right;\">\n",
       "      <th></th>\n",
       "      <th>0</th>\n",
       "      <th>1</th>\n",
       "    </tr>\n",
       "  </thead>\n",
       "  <tbody>\n",
       "    <tr>\n",
       "      <th>0</th>\n",
       "      <td>Woke up feelin' dangerous</td>\n",
       "      <td>5</td>\n",
       "    </tr>\n",
       "    <tr>\n",
       "      <th>1</th>\n",
       "      <td>Got my mind on my money</td>\n",
       "      <td>5</td>\n",
       "    </tr>\n",
       "    <tr>\n",
       "      <th>2</th>\n",
       "      <td>Haha that was hilarious</td>\n",
       "      <td>1</td>\n",
       "    </tr>\n",
       "    <tr>\n",
       "      <th>3</th>\n",
       "      <td>Feeling like Uptown Funk</td>\n",
       "      <td>5</td>\n",
       "    </tr>\n",
       "    <tr>\n",
       "      <th>4</th>\n",
       "      <td>Congratulations for having a baby</td>\n",
       "      <td>2</td>\n",
       "    </tr>\n",
       "  </tbody>\n",
       "</table>\n",
       "</div>"
      ],
      "text/plain": [
       "                                   0  1\n",
       "0          Woke up feelin' dangerous  5\n",
       "1            Got my mind on my money  5\n",
       "2            Haha that was hilarious  1\n",
       "3           Feeling like Uptown Funk  5\n",
       "4  Congratulations for having a baby  2"
      ]
     },
     "execution_count": 5,
     "metadata": {},
     "output_type": "execute_result"
    }
   ],
   "source": [
    "data = pd.read_csv('data/emoji_data/emoji_data.csv', header=None)\n",
    "data.head()"
   ]
  },
  {
   "cell_type": "code",
   "execution_count": 6,
   "metadata": {},
   "outputs": [],
   "source": [
    "\n",
    "def label_to_emoji(label):\n",
    "    return emoji.emojize(emoji_dictionary[label])"
   ]
  },
  {
   "cell_type": "code",
   "execution_count": 7,
   "metadata": {},
   "outputs": [],
   "source": [
    "X = data[0].values\n",
    "Y = data[1].values\n"
   ]
  },
  {
   "cell_type": "markdown",
   "metadata": {},
   "source": [
    "Embeddings"
   ]
  },
  {
   "cell_type": "markdown",
   "metadata": {},
   "source": [
    "With glove dataset"
   ]
  },
  {
   "cell_type": "code",
   "execution_count": 8,
   "metadata": {
    "notebookRunGroups": {
     "groupValue": "1"
    }
   },
   "outputs": [],
   "source": [
    "# with open('data/glove_dataset/glove.6B.100d.txt','r', encoding='utf8') as file:\n",
    "#     content = file.readlines()"
   ]
  },
  {
   "cell_type": "code",
   "execution_count": 9,
   "metadata": {},
   "outputs": [],
   "source": [
    "# embeddings = {}\n",
    "\n",
    "# for line in content:\n",
    "#     line = line.split()\n",
    "#     embeddings[line[0]] = np.array(line[1:], dtype=float)"
   ]
  },
  {
   "cell_type": "markdown",
   "metadata": {},
   "source": [
    "With crawl dataset"
   ]
  },
  {
   "cell_type": "code",
   "execution_count": 10,
   "metadata": {},
   "outputs": [],
   "source": [
    "fasttext_model_path = \"data/fast_text/crawl_dataset/crawl-300d-2M-subword.vec\"\n",
    "fasttext_model = KeyedVectors.load_word2vec_format(fasttext_model_path)\n"
   ]
  },
  {
   "cell_type": "code",
   "execution_count": 11,
   "metadata": {},
   "outputs": [],
   "source": [
    "# Convert FastText embeddings to a dictionary\n",
    "embeddings = {}\n",
    "for word in fasttext_model.index_to_key:\n",
    "    embeddings[word] = fasttext_model.get_vector(word)\n",
    "    \n",
    "    "
   ]
  },
  {
   "cell_type": "markdown",
   "metadata": {},
   "source": [
    "Convert input text into tokens"
   ]
  },
  {
   "cell_type": "code",
   "execution_count": 12,
   "metadata": {},
   "outputs": [],
   "source": [
    "tokenizer = Tokenizer()\n",
    "tokenizer.fit_on_texts(X)\n",
    "word_to_index = tokenizer.word_index\n",
    "\n",
    "with open('tokenizer.pickle', 'wb') as handle:\n",
    "    pickle.dump(tokenizer, handle, protocol=pickle.HIGHEST_PROTOCOL)"
   ]
  },
  {
   "cell_type": "code",
   "execution_count": 13,
   "metadata": {},
   "outputs": [],
   "source": [
    "Xtokens = tokenizer.texts_to_sequences(X)\n"
   ]
  },
  {
   "cell_type": "code",
   "execution_count": 14,
   "metadata": {},
   "outputs": [],
   "source": [
    "def get_maxlen(data):\n",
    "    maxlen = 0\n",
    "    for sent in data:\n",
    "        maxlen = max(maxlen, len(sent))\n",
    "    \n",
    "    return maxlen\n",
    "maxlen = get_maxlen(Xtokens)\n",
    "\n"
   ]
  },
  {
   "cell_type": "code",
   "execution_count": 15,
   "metadata": {},
   "outputs": [],
   "source": [
    "Xtrain = pad_sequences(Xtokens, maxlen=maxlen, padding='post', truncating='post')\n"
   ]
  },
  {
   "cell_type": "code",
   "execution_count": 16,
   "metadata": {},
   "outputs": [],
   "source": [
    "Ytrain = to_categorical(Y)"
   ]
  },
  {
   "cell_type": "markdown",
   "metadata": {},
   "source": [
    "Split data into train and test set"
   ]
  },
  {
   "cell_type": "code",
   "execution_count": 17,
   "metadata": {},
   "outputs": [],
   "source": [
    "X_train, X_test, Y_train, Y_test = train_test_split(Xtrain, Ytrain, test_size=0.2, random_state=42)\n"
   ]
  },
  {
   "cell_type": "markdown",
   "metadata": {},
   "source": [
    "Model"
   ]
  },
  {
   "cell_type": "code",
   "execution_count": 18,
   "metadata": {},
   "outputs": [],
   "source": [
    "embed_size = 300"
   ]
  },
  {
   "cell_type": "code",
   "execution_count": 19,
   "metadata": {},
   "outputs": [],
   "source": [
    "embedding_matrix = np.zeros((len(word_to_index) + 1, embed_size))\n",
    "\n",
    "for word, i in word_to_index.items():\n",
    "    if word in embeddings:\n",
    "        embed_vector = embeddings[word]\n",
    "        embedding_matrix[i] = embed_vector\n",
    "    else:\n",
    "        # Handle out-of-vocabulary words or phrases by aggregating subword embeddings\n",
    "        phrase_embed_sum = None\n",
    "        clean_word = re.split(r'\\W+', word)\n",
    "        for subword in clean_word:\n",
    "            if subword in embeddings:\n",
    "                if phrase_embed_sum is None:\n",
    "                    phrase_embed_sum = embeddings[subword].copy()\n",
    "                else:\n",
    "                    phrase_embed_sum += embeddings[subword]\n",
    "        # Assign the aggregated embedding to a new array with the desired dtype\n",
    "        if phrase_embed_sum is not None:\n",
    "            embedding_matrix[i] = phrase_embed_sum / len(clean_word)\n",
    "            \n",
    "\n",
    "            "
   ]
  },
  {
   "cell_type": "markdown",
   "metadata": {},
   "source": [
    "In general more layers >>"
   ]
  },
  {
   "cell_type": "code",
   "execution_count": 20,
   "metadata": {
    "notebookRunGroups": {
     "groupValue": "2"
    }
   },
   "outputs": [],
   "source": [
    "\n",
    "epochs = 100\n",
    "\n",
    "\n",
    "#units\n",
    "layers = [256, 16, 4, 2]\n",
    "\n",
    "num_layers = len(layers)\n",
    "\n",
    "\n",
    "num_classes = len(emoji_dictionary)"
   ]
  },
  {
   "cell_type": "markdown",
   "metadata": {},
   "source": [
    "Code to generate file name for saving model"
   ]
  },
  {
   "cell_type": "code",
   "execution_count": 21,
   "metadata": {
    "notebookRunGroups": {
     "groupValue": "2"
    }
   },
   "outputs": [],
   "source": [
    "def returnfilename():\n",
    "    layers_str = '_'.join(map(str, layers))  # Convert layers to string and join them with '_'\n",
    "    return f\"epochs_{epochs}_layers_{layers_str}\"\n"
   ]
  },
  {
   "cell_type": "code",
   "execution_count": 22,
   "metadata": {
    "notebookRunGroups": {
     "groupValue": "2"
    }
   },
   "outputs": [],
   "source": [
    "model = Sequential()\n",
    "\n",
    "# Add Embedding layer\n",
    "model.add(Embedding(input_dim=len(word_to_index) + 1,\n",
    "                    output_dim=embed_size,\n",
    "                    input_length=maxlen,\n",
    "                    weights=[embedding_matrix],\n",
    "                    trainable=False))\n",
    "\n",
    "\n",
    "# Add LSTM layers\n",
    "for i in range(num_layers):\n",
    "    # For the last layer, return_sequences=False\n",
    "    if i == num_layers - 1:\n",
    "        model.add(LSTM(units=layers[i]))\n",
    "    else:\n",
    "        model.add(LSTM(units=layers[i], return_sequences=True))\n",
    "\n",
    "# Add output Dense layer\n",
    "model.add(Dense(num_classes, activation='softmax'))\n",
    "\n",
    "\n",
    "model.compile(optimizer='adam', loss='categorical_crossentropy', metrics=['accuracy'])\n"
   ]
  },
  {
   "cell_type": "code",
   "execution_count": 23,
   "metadata": {
    "notebookRunGroups": {
     "groupValue": "2"
    }
   },
   "outputs": [
    {
     "name": "stdout",
     "output_type": "stream",
     "text": [
      "Epoch 1/100\n",
      "24/24 [==============================] - 6s 21ms/step - loss: 2.2975 - accuracy: 0.1270\n",
      "Epoch 2/100\n",
      "24/24 [==============================] - 1s 21ms/step - loss: 2.2592 - accuracy: 0.1715\n",
      "Epoch 3/100\n",
      "24/24 [==============================] - 1s 22ms/step - loss: 2.2334 - accuracy: 0.1976\n",
      "Epoch 4/100\n",
      "24/24 [==============================] - 1s 21ms/step - loss: 2.2147 - accuracy: 0.2003\n",
      "Epoch 5/100\n",
      "24/24 [==============================] - 1s 21ms/step - loss: 2.1897 - accuracy: 0.2238\n",
      "Epoch 6/100\n",
      "24/24 [==============================] - 0s 21ms/step - loss: 2.1824 - accuracy: 0.2029\n",
      "Epoch 7/100\n",
      "24/24 [==============================] - 1s 22ms/step - loss: 2.1553 - accuracy: 0.2317\n",
      "Epoch 8/100\n",
      "24/24 [==============================] - 1s 22ms/step - loss: 2.1425 - accuracy: 0.2421\n",
      "Epoch 9/100\n",
      "24/24 [==============================] - 1s 21ms/step - loss: 2.1136 - accuracy: 0.2435\n",
      "Epoch 10/100\n",
      "24/24 [==============================] - 1s 21ms/step - loss: 2.0922 - accuracy: 0.2539\n",
      "Epoch 11/100\n",
      "24/24 [==============================] - 1s 21ms/step - loss: 2.0881 - accuracy: 0.2474\n",
      "Epoch 12/100\n",
      "24/24 [==============================] - 1s 22ms/step - loss: 2.0699 - accuracy: 0.2579\n",
      "Epoch 13/100\n",
      "24/24 [==============================] - 1s 21ms/step - loss: 2.0217 - accuracy: 0.2775\n",
      "Epoch 14/100\n",
      "24/24 [==============================] - 1s 21ms/step - loss: 2.0080 - accuracy: 0.2893\n",
      "Epoch 15/100\n",
      "24/24 [==============================] - 1s 21ms/step - loss: 1.9825 - accuracy: 0.3285\n",
      "Epoch 16/100\n",
      "24/24 [==============================] - 1s 21ms/step - loss: 1.9616 - accuracy: 0.3246\n",
      "Epoch 17/100\n",
      "24/24 [==============================] - 1s 21ms/step - loss: 1.9778 - accuracy: 0.2906\n",
      "Epoch 18/100\n",
      "24/24 [==============================] - 1s 22ms/step - loss: 2.0159 - accuracy: 0.2579\n",
      "Epoch 19/100\n",
      "24/24 [==============================] - 1s 22ms/step - loss: 1.9616 - accuracy: 0.3050\n",
      "Epoch 20/100\n",
      "24/24 [==============================] - 1s 22ms/step - loss: 1.9208 - accuracy: 0.3115\n",
      "Epoch 21/100\n",
      "24/24 [==============================] - 1s 21ms/step - loss: 1.9053 - accuracy: 0.3181\n",
      "Epoch 22/100\n",
      "24/24 [==============================] - 1s 21ms/step - loss: 1.8955 - accuracy: 0.3050\n",
      "Epoch 23/100\n",
      "24/24 [==============================] - 1s 23ms/step - loss: 1.8720 - accuracy: 0.3482\n",
      "Epoch 24/100\n",
      "24/24 [==============================] - 1s 21ms/step - loss: 1.8672 - accuracy: 0.3455\n",
      "Epoch 25/100\n",
      "24/24 [==============================] - 1s 21ms/step - loss: 1.8319 - accuracy: 0.3626\n",
      "Epoch 26/100\n",
      "24/24 [==============================] - 1s 22ms/step - loss: 1.8136 - accuracy: 0.3560\n",
      "Epoch 27/100\n",
      "24/24 [==============================] - 1s 21ms/step - loss: 1.7880 - accuracy: 0.3534\n",
      "Epoch 28/100\n",
      "24/24 [==============================] - 1s 21ms/step - loss: 1.7736 - accuracy: 0.3495\n",
      "Epoch 29/100\n",
      "24/24 [==============================] - 1s 21ms/step - loss: 1.7375 - accuracy: 0.3652\n",
      "Epoch 30/100\n",
      "24/24 [==============================] - 0s 21ms/step - loss: 1.7587 - accuracy: 0.3469\n",
      "Epoch 31/100\n",
      "24/24 [==============================] - 1s 23ms/step - loss: 1.7567 - accuracy: 0.3495\n",
      "Epoch 32/100\n",
      "24/24 [==============================] - 1s 21ms/step - loss: 1.7418 - accuracy: 0.3678\n",
      "Epoch 33/100\n",
      "24/24 [==============================] - 1s 22ms/step - loss: 1.7824 - accuracy: 0.3469\n",
      "Epoch 34/100\n",
      "24/24 [==============================] - 1s 21ms/step - loss: 1.7872 - accuracy: 0.3757\n",
      "Epoch 35/100\n",
      "24/24 [==============================] - 1s 22ms/step - loss: 1.7996 - accuracy: 0.3416\n",
      "Epoch 36/100\n",
      "24/24 [==============================] - 1s 21ms/step - loss: 1.8348 - accuracy: 0.3351\n",
      "Epoch 37/100\n",
      "24/24 [==============================] - 1s 22ms/step - loss: 1.7501 - accuracy: 0.3521\n",
      "Epoch 38/100\n",
      "24/24 [==============================] - 1s 22ms/step - loss: 1.7229 - accuracy: 0.3626\n",
      "Epoch 39/100\n",
      "24/24 [==============================] - 1s 21ms/step - loss: 1.6909 - accuracy: 0.3874\n",
      "Epoch 40/100\n",
      "24/24 [==============================] - 1s 21ms/step - loss: 1.6677 - accuracy: 0.3809\n",
      "Epoch 41/100\n",
      "24/24 [==============================] - 1s 21ms/step - loss: 1.6366 - accuracy: 0.4149\n",
      "Epoch 42/100\n",
      "24/24 [==============================] - 1s 23ms/step - loss: 1.6147 - accuracy: 0.4346\n",
      "Epoch 43/100\n",
      "24/24 [==============================] - 1s 22ms/step - loss: 1.5953 - accuracy: 0.4175\n",
      "Epoch 44/100\n",
      "24/24 [==============================] - 1s 21ms/step - loss: 1.6525 - accuracy: 0.4110\n",
      "Epoch 45/100\n",
      "24/24 [==============================] - 1s 22ms/step - loss: 1.6104 - accuracy: 0.4385\n",
      "Epoch 46/100\n",
      "24/24 [==============================] - 1s 21ms/step - loss: 1.6005 - accuracy: 0.4332\n",
      "Epoch 47/100\n",
      "24/24 [==============================] - 1s 21ms/step - loss: 1.5703 - accuracy: 0.4411\n",
      "Epoch 48/100\n",
      "24/24 [==============================] - 1s 22ms/step - loss: 1.5605 - accuracy: 0.4372\n",
      "Epoch 49/100\n",
      "24/24 [==============================] - 1s 22ms/step - loss: 1.5638 - accuracy: 0.4359\n",
      "Epoch 50/100\n",
      "24/24 [==============================] - 1s 22ms/step - loss: 1.5432 - accuracy: 0.4476\n",
      "Epoch 51/100\n",
      "24/24 [==============================] - 1s 21ms/step - loss: 1.5143 - accuracy: 0.4503\n",
      "Epoch 52/100\n",
      "24/24 [==============================] - 1s 22ms/step - loss: 1.5137 - accuracy: 0.4568\n",
      "Epoch 53/100\n",
      "24/24 [==============================] - 1s 21ms/step - loss: 1.5532 - accuracy: 0.4202\n",
      "Epoch 54/100\n",
      "24/24 [==============================] - 1s 22ms/step - loss: 1.6019 - accuracy: 0.4071\n",
      "Epoch 55/100\n",
      "24/24 [==============================] - 1s 21ms/step - loss: 1.5418 - accuracy: 0.4398\n",
      "Epoch 56/100\n",
      "24/24 [==============================] - 1s 21ms/step - loss: 1.6095 - accuracy: 0.4162\n",
      "Epoch 57/100\n",
      "24/24 [==============================] - 1s 22ms/step - loss: 1.5535 - accuracy: 0.4398\n",
      "Epoch 58/100\n",
      "24/24 [==============================] - 1s 21ms/step - loss: 1.5105 - accuracy: 0.4529\n",
      "Epoch 59/100\n",
      "24/24 [==============================] - 1s 21ms/step - loss: 1.5118 - accuracy: 0.4385\n",
      "Epoch 60/100\n",
      "24/24 [==============================] - 1s 23ms/step - loss: 1.4774 - accuracy: 0.4568\n",
      "Epoch 61/100\n",
      "24/24 [==============================] - 1s 22ms/step - loss: 1.4702 - accuracy: 0.4555\n",
      "Epoch 62/100\n",
      "24/24 [==============================] - 1s 21ms/step - loss: 1.4612 - accuracy: 0.4581\n",
      "Epoch 63/100\n",
      "24/24 [==============================] - 1s 22ms/step - loss: 1.4430 - accuracy: 0.4634\n",
      "Epoch 64/100\n",
      "24/24 [==============================] - 1s 22ms/step - loss: 1.4329 - accuracy: 0.4738\n",
      "Epoch 65/100\n",
      "24/24 [==============================] - 1s 22ms/step - loss: 1.4290 - accuracy: 0.4647\n",
      "Epoch 66/100\n",
      "24/24 [==============================] - 1s 23ms/step - loss: 1.4507 - accuracy: 0.4581\n",
      "Epoch 67/100\n",
      "24/24 [==============================] - 1s 22ms/step - loss: 1.5006 - accuracy: 0.4306\n",
      "Epoch 68/100\n",
      "24/24 [==============================] - 1s 22ms/step - loss: 1.4393 - accuracy: 0.4581\n",
      "Epoch 69/100\n",
      "24/24 [==============================] - 1s 22ms/step - loss: 1.5264 - accuracy: 0.4437\n",
      "Epoch 70/100\n",
      "24/24 [==============================] - 1s 21ms/step - loss: 1.4417 - accuracy: 0.4594\n",
      "Epoch 71/100\n",
      "24/24 [==============================] - 1s 21ms/step - loss: 1.4253 - accuracy: 0.4516\n",
      "Epoch 72/100\n",
      "24/24 [==============================] - 1s 21ms/step - loss: 1.4134 - accuracy: 0.4764\n",
      "Epoch 73/100\n",
      "24/24 [==============================] - 1s 21ms/step - loss: 1.4157 - accuracy: 0.4647\n",
      "Epoch 74/100\n",
      "24/24 [==============================] - 1s 22ms/step - loss: 1.3857 - accuracy: 0.4673\n",
      "Epoch 75/100\n",
      "24/24 [==============================] - 1s 21ms/step - loss: 1.4118 - accuracy: 0.4634\n",
      "Epoch 76/100\n",
      "24/24 [==============================] - 1s 22ms/step - loss: 1.3694 - accuracy: 0.4777\n",
      "Epoch 77/100\n",
      "24/24 [==============================] - 1s 21ms/step - loss: 1.3621 - accuracy: 0.4817\n",
      "Epoch 78/100\n",
      "24/24 [==============================] - 1s 23ms/step - loss: 1.3512 - accuracy: 0.4777\n",
      "Epoch 79/100\n",
      "24/24 [==============================] - 1s 21ms/step - loss: 1.3415 - accuracy: 0.4843\n",
      "Epoch 80/100\n",
      "24/24 [==============================] - 1s 21ms/step - loss: 1.3408 - accuracy: 0.4830\n",
      "Epoch 81/100\n",
      "24/24 [==============================] - 1s 22ms/step - loss: 1.3326 - accuracy: 0.4869\n",
      "Epoch 82/100\n",
      "24/24 [==============================] - 1s 21ms/step - loss: 1.3258 - accuracy: 0.4908\n",
      "Epoch 83/100\n",
      "24/24 [==============================] - 0s 21ms/step - loss: 1.3314 - accuracy: 0.4869\n",
      "Epoch 84/100\n",
      "24/24 [==============================] - 1s 21ms/step - loss: 1.3712 - accuracy: 0.4738\n",
      "Epoch 85/100\n",
      "24/24 [==============================] - 1s 21ms/step - loss: 1.3661 - accuracy: 0.4817\n",
      "Epoch 86/100\n",
      "24/24 [==============================] - 1s 23ms/step - loss: 1.3598 - accuracy: 0.4751\n",
      "Epoch 87/100\n",
      "24/24 [==============================] - 1s 22ms/step - loss: 1.3824 - accuracy: 0.4607\n",
      "Epoch 88/100\n",
      "24/24 [==============================] - 1s 21ms/step - loss: 1.3857 - accuracy: 0.4699\n",
      "Epoch 89/100\n",
      "24/24 [==============================] - 1s 22ms/step - loss: 1.4315 - accuracy: 0.4463\n",
      "Epoch 90/100\n",
      "24/24 [==============================] - 1s 21ms/step - loss: 1.4240 - accuracy: 0.4463\n",
      "Epoch 91/100\n",
      "24/24 [==============================] - 1s 21ms/step - loss: 1.3901 - accuracy: 0.4516\n",
      "Epoch 92/100\n",
      "24/24 [==============================] - 1s 23ms/step - loss: 1.3810 - accuracy: 0.4503\n",
      "Epoch 93/100\n",
      "24/24 [==============================] - 1s 21ms/step - loss: 1.3389 - accuracy: 0.4725\n",
      "Epoch 94/100\n",
      "24/24 [==============================] - 1s 21ms/step - loss: 1.3101 - accuracy: 0.4856\n",
      "Epoch 95/100\n",
      "24/24 [==============================] - 1s 21ms/step - loss: 1.2986 - accuracy: 0.4856\n",
      "Epoch 96/100\n",
      "24/24 [==============================] - 1s 23ms/step - loss: 1.3166 - accuracy: 0.4804\n",
      "Epoch 97/100\n",
      "24/24 [==============================] - 1s 21ms/step - loss: 1.3099 - accuracy: 0.4764\n",
      "Epoch 98/100\n",
      "24/24 [==============================] - 1s 21ms/step - loss: 1.3035 - accuracy: 0.4843\n",
      "Epoch 99/100\n",
      "24/24 [==============================] - 1s 21ms/step - loss: 1.2853 - accuracy: 0.4856\n",
      "Epoch 100/100\n",
      "24/24 [==============================] - 1s 21ms/step - loss: 1.2863 - accuracy: 0.4869\n"
     ]
    },
    {
     "data": {
      "text/plain": [
       "<keras.callbacks.History at 0x22b4c2cb790>"
      ]
     },
     "execution_count": 23,
     "metadata": {},
     "output_type": "execute_result"
    }
   ],
   "source": [
    "model.fit(Xtrain, Ytrain, epochs=epochs,  verbose = 1)"
   ]
  },
  {
   "cell_type": "code",
   "execution_count": 24,
   "metadata": {
    "notebookRunGroups": {
     "groupValue": "2"
    }
   },
   "outputs": [],
   "source": [
    "filename = returnfilename()"
   ]
  },
  {
   "cell_type": "code",
   "execution_count": 25,
   "metadata": {
    "notebookRunGroups": {
     "groupValue": "2"
    }
   },
   "outputs": [],
   "source": [
    "model_save_path = \"models/training set v.3.0/\""
   ]
  },
  {
   "cell_type": "code",
   "execution_count": 26,
   "metadata": {
    "notebookRunGroups": {
     "groupValue": "2"
    }
   },
   "outputs": [],
   "source": [
    "\n",
    "model_json = model.to_json()\n",
    "with open(f\"{model_save_path}/json/{filename}.json\", \"w\") as json_file:\n",
    "    json_file.write(model_json)\n",
    "    \n",
    "# serialize weights to HDF5\n",
    "model.save_weights(f\"{model_save_path}/weights/{filename}.h5\")\n",
    "\n"
   ]
  },
  {
   "cell_type": "code",
   "execution_count": 27,
   "metadata": {
    "notebookRunGroups": {
     "groupValue": "2"
    }
   },
   "outputs": [],
   "source": [
    "metrics_folder = f\"{model_save_path}/metrics\""
   ]
  },
  {
   "cell_type": "code",
   "execution_count": 28,
   "metadata": {
    "notebookRunGroups": {
     "groupValue": "2"
    }
   },
   "outputs": [
    {
     "name": "stdout",
     "output_type": "stream",
     "text": [
      "5/5 [==============================] - 1s 8ms/step - loss: 1.2837 - accuracy: 0.5163\n",
      "Test Loss: 1.2836791276931763\n",
      "Test Accuracy: 0.516339898109436\n"
     ]
    }
   ],
   "source": [
    "# Evaluate the model on the test set\n",
    "loss, accuracy = model.evaluate(X_test, Y_test)\n",
    "print(\"Test Loss:\", loss)\n",
    "print(\"Test Accuracy:\", accuracy)\n",
    "current_datetime = datetime.now()\n",
    "formatted_datetime = current_datetime.strftime('%d %B, %Y')\n",
    "\n",
    "# Write model architecture and details to file\n",
    "with open(f\"{metrics_folder}/{filename}.md\", \"w\", encoding=\"utf-8\") as file:\n",
    "    file.write(\"# Model description:<br>\\n\")\n",
    "    file.write(f\"Date generated: {formatted_datetime}<br>\\n\")\n",
    "    file.write(f\"Number of classes: {num_classes}<br>\\n\")\n",
    "    file.write(f\"Number of samples: {len(X)}<br>\\n\")\n",
    "    file.write(f\"Training set size: {len(X_train)}<br>\\n\")\n",
    "    file.write(f\"Test set size: {len(X_test)}<br>\\n\")\n",
    "    file.write(f\"Epochs used: {epochs}<br>\\n\")\n",
    "    file.write(f\"Number of layers: {num_layers}<br>\\n\")\n",
    "    file.write(f\"Layers used: {layers}<br>\\n\")\n",
    "    file.write(\"Optimizer: Adam<br>\\n\")\n",
    "    file.write(\"Loss function: Categorical Crossentropy<br>\\n\")\n",
    "    file.write(\"# Evaluation Results<br>\\n\")\n",
    "    file.write(f\"Test Loss: {loss:.4f}<br>\\n\")\n",
    "    file.write(f\"Test Accuracy: {accuracy:.4f}<br><br>\\n\")\n"
   ]
  },
  {
   "cell_type": "code",
   "execution_count": 29,
   "metadata": {
    "notebookRunGroups": {
     "groupValue": "2"
    }
   },
   "outputs": [
    {
     "name": "stdout",
     "output_type": "stream",
     "text": [
      "5/5 [==============================] - 1s 8ms/step\n",
      "Accuracy: 0.5163398692810458\n",
      "Predicted: 😭 Actual: 🔥\n",
      "Predicted: ❤️ Actual: 👍\n",
      "Predicted: 😭 Actual: 🙏\n",
      "Predicted: 😭 Actual: 🙏\n",
      "Predicted: 😭 Actual: 🙏\n",
      "Predicted: 🤔 Actual: 😠\n",
      "Predicted: ❤️ Actual: 😃\n",
      "Predicted: 😭 Actual: 🔥\n",
      "Predicted: 😭 Actual: 🙏\n",
      "Predicted: ❤️ Actual: 😍\n",
      "Predicted: ❤️ Actual: 😍\n",
      "Predicted: 🤔 Actual: 😠\n",
      "Predicted: ❤️ Actual: 🙏\n",
      "Predicted: 🤔 Actual: 🙏\n",
      "Predicted: ❤️ Actual: 😍\n",
      "Predicted: 😭 Actual: 🔥\n",
      "Predicted: 😭 Actual: 🙏\n",
      "Predicted: 😭 Actual: 🔥\n",
      "Predicted: 😭 Actual: 🔥\n",
      "Predicted: ❤️ Actual: 😍\n",
      "Predicted: ❤️ Actual: 😃\n",
      "Predicted: 😭 Actual: 🔥\n",
      "Predicted: 😭 Actual: 🙏\n",
      "Predicted: 🤔 Actual: 😠\n",
      "Predicted: ❤️ Actual: 🙏\n",
      "Predicted: 😭 Actual: 🙏\n",
      "Predicted: 😭 Actual: 🔥\n",
      "Predicted: ❤️ Actual: 🔥\n",
      "Predicted: 🤔 Actual: 😠\n",
      "Predicted: ❤️ Actual: 👍\n",
      "Predicted: ❤️ Actual: 👍\n",
      "Predicted: 😭 Actual: ❤️\n",
      "Predicted: ❤️ Actual: 😍\n",
      "Predicted: ❤️ Actual: 😍\n",
      "Predicted: 🤔 Actual: 😠\n",
      "Predicted: 😭 Actual: 🙏\n",
      "Predicted: 🤔 Actual: 😠\n",
      "Predicted: 😭 Actual: 🙏\n",
      "Predicted: 🤔 Actual: 😠\n",
      "Predicted: 😭 Actual: 🔥\n",
      "Predicted: ❤️ Actual: 👍\n",
      "Predicted: ❤️ Actual: 👍\n",
      "Predicted: 😭 Actual: 🙏\n",
      "Predicted: 😭 Actual: 🔥\n",
      "Predicted: ❤️ Actual: 😃\n",
      "Predicted: 🤔 Actual: 😠\n",
      "Predicted: 🤔 Actual: 😠\n",
      "Predicted: 😃 Actual: 😂\n",
      "Predicted: 😭 Actual: 🙏\n",
      "Predicted: 😭 Actual: 🔥\n",
      "Predicted: 🤔 Actual: 😠\n",
      "Predicted: 🤔 Actual: 😠\n",
      "Predicted: 😭 Actual: 🔥\n",
      "Predicted: 🤔 Actual: 😠\n",
      "Predicted: 😭 Actual: 🙏\n",
      "Predicted: ❤️ Actual: 👍\n",
      "Predicted: ❤️ Actual: 😍\n",
      "Predicted: 😭 Actual: 🙏\n",
      "Predicted: ❤️ Actual: 🙏\n",
      "Predicted: 😂 Actual: ❤️\n",
      "Predicted: 🤔 Actual: 😠\n",
      "Predicted: ❤️ Actual: 😍\n",
      "Predicted: 😭 Actual: 🔥\n",
      "Predicted: ❤️ Actual: 😍\n",
      "Predicted: 😭 Actual: 🔥\n",
      "Predicted: 🤔 Actual: 😂\n",
      "Predicted: 😭 Actual: 🔥\n",
      "Predicted: 😭 Actual: 🔥\n",
      "Predicted: 😭 Actual: 😠\n",
      "Predicted: ❤️ Actual: 😃\n",
      "Predicted: ❤️ Actual: 😍\n",
      "Predicted: 😭 Actual: 🔥\n",
      "Predicted: ❤️ Actual: 😍\n",
      "Predicted: 🤔 Actual: 😠\n"
     ]
    }
   ],
   "source": [
    "# Make predictions on the test set\n",
    "y_pred = model.predict(X_test)\n",
    "\n",
    "# Convert predicted and actual labels from one-hot encoded format to integer labels\n",
    "Y_pred_labels = np.argmax(y_pred, axis=1)\n",
    "Y_test_labels = np.argmax(Y_test, axis=1)\n",
    "\n",
    "# Compare predicted labels with actual labels\n",
    "correct_predictions = np.sum(Y_pred_labels == Y_test_labels)\n",
    "total_predictions = len(Y_test_labels)\n",
    "accuracy = correct_predictions / total_predictions\n",
    "\n",
    "# Print accuracy\n",
    "print(\"Accuracy:\", accuracy)\n",
    "# Write accuracy to file\n",
    "with open(f\"{metrics_folder}/{filename}.md\", \"a\", encoding=\"utf-8\") as file:\n",
    "    file.write(\"Accuracy: {:.4f}\\n\\n\".format(accuracy))\n",
    "\n",
    "\n",
    "# Write misclassified samples to file\n",
    "with open(f\"{metrics_folder}/{filename}.md\", \"a\", encoding=\"utf-8\") as file:\n",
    "    file.write(\"## Misclassified samples:<br>\\n\")\n",
    "    for i in range(len(Y_pred_labels)):\n",
    "        if Y_pred_labels[i] != Y_test_labels[i]:\n",
    "            file.write(\n",
    "                f\"Predicted: {label_to_emoji(Y_pred_labels[i])} Actual: {label_to_emoji(Y_test_labels[i])}<br>\\n\"\n",
    "            )\n",
    "\n",
    "\n",
    "\n",
    "for i in range(len(Y_pred_labels)):\n",
    "    if Y_pred_labels[i]!=Y_test_labels[i]:\n",
    "        print(\"Predicted:\", label_to_emoji(Y_pred_labels[i]), \"Actual:\", label_to_emoji(Y_test_labels[i]))\n"
   ]
  },
  {
   "cell_type": "code",
   "execution_count": 30,
   "metadata": {
    "notebookRunGroups": {
     "groupValue": "21"
    }
   },
   "outputs": [
    {
     "name": "stdout",
     "output_type": "stream",
     "text": [
      "1/1 [==============================] - 0s 25ms/step\n"
     ]
    }
   ],
   "source": [
    "test = [\"I am trying\", \"I want to cry\", \"This is just sad\"]\n",
    "actual_outputs = np.array([3,3,3])\n",
    "\n",
    "test_seq = tokenizer.texts_to_sequences(test)\n",
    "Xtest = pad_sequences(test_seq, maxlen=maxlen, padding='post', truncating='post')\n",
    "y_pred = model.predict(Xtest)\n",
    "y_pred = np.argmax(y_pred, axis=1)\n",
    "\n",
    "# Write predictions to file\n",
    "with open(f\"{metrics_folder}/{filename}.md\", \"a\", encoding=\"utf-8\") as file:\n",
    "    file.write(\"\\n## Random test predictions: (accuracy based on discussion)<br>\\n\")\n",
    "    for i in range(len(test)):\n",
    "        file.write(f\"{test[i]} {label_to_emoji(y_pred[i])}<br>\\n\")"
   ]
  },
  {
   "cell_type": "code",
   "execution_count": 31,
   "metadata": {
    "notebookRunGroups": {
     "groupValue": "21"
    }
   },
   "outputs": [
    {
     "name": "stdout",
     "output_type": "stream",
     "text": [
      "I am trying 😭\n",
      "I want to cry 😭\n",
      "This is just sad 😭\n"
     ]
    }
   ],
   "source": [
    "for i in range(len(test)):\n",
    "    print(test[i], label_to_emoji(y_pred[i]))"
   ]
  },
  {
   "cell_type": "code",
   "execution_count": 32,
   "metadata": {},
   "outputs": [
    {
     "data": {
      "text/plain": [
       "['❤️', '😂', '😃', '😭', '😍', '🔥', '👍', '🙏', '😠', '🤔']"
      ]
     },
     "execution_count": 32,
     "metadata": {},
     "output_type": "execute_result"
    }
   ],
   "source": [
    "class_names = []\n",
    "\n",
    "for i in range(len(emoji_dictionary)):\n",
    "    class_names.append(label_to_emoji(i))\n",
    "    \n",
    "class_names"
   ]
  },
  {
   "cell_type": "code",
   "execution_count": 42,
   "metadata": {},
   "outputs": [
    {
     "name": "stderr",
     "output_type": "stream",
     "text": [
      "c:\\Users\\nawsh\\miniconda3\\envs\\myenv\\lib\\site-packages\\mlxtend\\plotting\\plot_confusion_matrix.py:102: RuntimeWarning: invalid value encountered in divide\n",
      "  normed_conf_mat = conf_mat.astype(\"float\") / total_samples\n"
     ]
    },
    {
     "data": {
      "image/png": "[encoded data removed]",
      "text/plain": [
       "<Figure size 640x480 with 2 Axes>"
      ]
     },
     "metadata": {},
     "output_type": "display_data"
    }
   ],
   "source": [
    "\n",
    "color = \"Purples\"\n",
    "\n",
    "plt.rcParams['font.family'] = 'Segoe UI Emoji'\n",
    "\n",
    "\n",
    "cf_matrix = confusion_matrix(Y_pred_labels, Y_test_labels)\n",
    "\n",
    "# Plot confusion matrix\n",
    "fig, ax = plot_confusion_matrix(conf_mat=cf_matrix,\n",
    "                                colorbar=True,\n",
    "                                show_absolute=True,\n",
    "                                show_normed=False,\n",
    "                                class_names=class_names,\n",
    "                                cmap=color,\n",
    "                                norm_colormap=pltclrs.LogNorm())\n",
    "\n",
    "# Add border around the entire matrix\n",
    "ax.add_patch(plt.Rectangle((-0.5, -0.5), len(cf_matrix[0]), len(cf_matrix), color='black', fill=False, linewidth=1))\n",
    "\n",
    "# Set custom axis labels\n",
    "plt.ylabel('Predicted label', fontsize=14)  # Change the label for the x-axis\n",
    "plt.xlabel('True label', fontsize=14)       # Change the label for the y-axis\n",
    "\n",
    "\n",
    "# Draw outline around each cell\n",
    "for i in range(len(cf_matrix)):\n",
    "    for j in range(len(cf_matrix[i])):\n",
    "        ax.add_patch(plt.Rectangle((j - 0.5, i - 0.5), 1, 1, color='black', fill=False, linewidth=0.1))\n",
    "\n",
    "# Adjust font size of the confusion matrix cells\n",
    "for text in ax.texts:\n",
    "    text.set_fontsize(8)  \n",
    "    \n",
    "plt.savefig(f\"{model_save_path}/confusion_matrices/{filename}.png\")\n",
    "\n",
    "plt.show()\n"
   ]
  },
  {
   "cell_type": "code",
   "execution_count": null,
   "metadata": {},
   "outputs": [],
   "source": [
    "print(classification_report())"
   ]
  }
 ],
 "metadata": {
  "kernelspec": {
   "display_name": "Python 3",
   "language": "python",
   "name": "python3"
  },
  "language_info": {
   "codemirror_mode": {
    "name": "ipython",
    "version": 3
   },
   "file_extension": ".py",
   "mimetype": "text/x-python",
   "name": "python",
   "nbconvert_exporter": "python",
   "pygments_lexer": "ipython3",
   "version": "3.10.13"
  }
 },
 "nbformat": 4,
 "nbformat_minor": 2
}
