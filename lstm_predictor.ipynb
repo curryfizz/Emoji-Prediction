{
 "cells": [
  {
   "cell_type": "code",
   "execution_count": 19,
   "metadata": {},
   "outputs": [],
   "source": [
    "import numpy as np\n",
    "import pandas as pd\n",
    "import emoji\n",
    "\n",
    "from keras.models import Sequential\n",
    "from keras.layers import Dense, LSTM, SimpleRNN, Embedding\n",
    "from keras_preprocessing.text import Tokenizer\n",
    "from keras_preprocessing.sequence import pad_sequences\n",
    "from keras.utils.np_utils import to_categorical"
   ]
  },
  {
   "cell_type": "code",
   "execution_count": 20,
   "metadata": {},
   "outputs": [
    {
     "data": {
      "text/html": [
       "<div>\n",
       "<style scoped>\n",
       "    .dataframe tbody tr th:only-of-type {\n",
       "        vertical-align: middle;\n",
       "    }\n",
       "\n",
       "    .dataframe tbody tr th {\n",
       "        vertical-align: top;\n",
       "    }\n",
       "\n",
       "    .dataframe thead th {\n",
       "        text-align: right;\n",
       "    }\n",
       "</style>\n",
       "<table border=\"1\" class=\"dataframe\">\n",
       "  <thead>\n",
       "    <tr style=\"text-align: right;\">\n",
       "      <th></th>\n",
       "      <th>0</th>\n",
       "      <th>1</th>\n",
       "    </tr>\n",
       "  </thead>\n",
       "  <tbody>\n",
       "    <tr>\n",
       "      <th>0</th>\n",
       "      <td>French macaroon is so tasty</td>\n",
       "      <td>4</td>\n",
       "    </tr>\n",
       "    <tr>\n",
       "      <th>1</th>\n",
       "      <td>work is horrible</td>\n",
       "      <td>3</td>\n",
       "    </tr>\n",
       "    <tr>\n",
       "      <th>2</th>\n",
       "      <td>I am upset</td>\n",
       "      <td>3</td>\n",
       "    </tr>\n",
       "    <tr>\n",
       "      <th>3</th>\n",
       "      <td>throw the ball</td>\n",
       "      <td>1</td>\n",
       "    </tr>\n",
       "    <tr>\n",
       "      <th>4</th>\n",
       "      <td>Good joke</td>\n",
       "      <td>2</td>\n",
       "    </tr>\n",
       "  </tbody>\n",
       "</table>\n",
       "</div>"
      ],
      "text/plain": [
       "                             0  1\n",
       "0  French macaroon is so tasty  4\n",
       "1             work is horrible  3\n",
       "2                   I am upset  3\n",
       "3               throw the ball  1\n",
       "4                    Good joke  2"
      ]
     },
     "execution_count": 20,
     "metadata": {},
     "output_type": "execute_result"
    }
   ],
   "source": [
    "data = pd.read_csv(\"emoji_data.csv\", header=None)\n",
    "data.head()"
   ]
  },
  {
   "cell_type": "code",
   "execution_count": 21,
   "metadata": {},
   "outputs": [],
   "source": [
    "emoji_dictionary = {\n",
    "    0: \":red_heart:\",\n",
    "    1: \":baseball:\",\n",
    "    2: \":grinning_face_with_big_eyes:\",\n",
    "    3: \":disappointed_face:\",\n",
    "    4: \":fork_and_knife_with_plate:\"\n",
    "}\n",
    "\n",
    "def label_to_emoji(label):\n",
    "    return emoji.emojize(emoji_dictionary[label])"
   ]
  },
  {
   "cell_type": "code",
   "execution_count": 22,
   "metadata": {},
   "outputs": [
    {
     "data": {
      "text/plain": [
       "array([4, 3, 3, 1, 2, 1, 4, 3, 4, 1, 3, 3, 2, 2, 4, 3, 2, 3, 3, 1, 3, 2,\n",
       "       2, 2, 0, 1, 0, 4, 2, 0, 2, 0, 0, 3, 4, 0, 2, 1, 3, 1, 0, 4, 0, 3,\n",
       "       0, 4, 2, 3, 4, 2, 2, 3, 0, 2, 2, 3, 2, 3, 2, 2, 3, 3, 0, 2, 3, 0,\n",
       "       2, 0, 0, 2, 3, 2, 4, 1, 3, 3, 0, 0, 3, 2, 0, 3, 0, 2, 2, 4, 2, 2,\n",
       "       0, 0, 2, 3, 0, 4, 2, 1, 2, 3, 3, 2, 3, 0, 3, 0, 2, 0, 2, 3, 4, 3,\n",
       "       1, 3, 4, 3, 2, 3, 3, 3, 1, 4, 4, 2, 2, 1, 1, 2, 3, 2, 3, 4, 2, 3,\n",
       "       0, 2, 0, 0, 4, 3, 4, 2, 3, 2, 3, 4, 2, 1, 2, 4, 3, 1, 3, 2, 3, 2,\n",
       "       2, 3, 3, 2, 4, 0, 0, 0, 3, 0, 0, 1, 1, 2, 2, 2, 0, 3, 2, 3, 3, 1,\n",
       "       2, 2, 4, 2, 3, 1, 2], dtype=int64)"
      ]
     },
     "execution_count": 22,
     "metadata": {},
     "output_type": "execute_result"
    }
   ],
   "source": [
    "X = data[0].values\n",
    "Y = data[1].values\n",
    "\n",
    "Y"
   ]
  },
  {
   "cell_type": "markdown",
   "metadata": {},
   "source": [
    "Embeddings"
   ]
  },
  {
   "cell_type": "code",
   "execution_count": 23,
   "metadata": {},
   "outputs": [],
   "source": [
    "with open('data/glove_dataset/glove.6B.100d.txt','r', encoding='utf8') as file:\n",
    "    content = file.readlines()"
   ]
  },
  {
   "cell_type": "code",
   "execution_count": 24,
   "metadata": {},
   "outputs": [],
   "source": [
    "embeddings = {}\n",
    "\n",
    "for line in content:\n",
    "    line = line.split()\n",
    "    embeddings[line[0]] = np.array(line[1:], dtype=float)"
   ]
  },
  {
   "cell_type": "markdown",
   "metadata": {},
   "source": [
    "convert input text into tokens"
   ]
  },
  {
   "cell_type": "code",
   "execution_count": 25,
   "metadata": {},
   "outputs": [],
   "source": [
    "tokenizer = Tokenizer()\n",
    "tokenizer.fit_on_texts(X)\n",
    "word_to_index = tokenizer.word_index\n"
   ]
  },
  {
   "cell_type": "code",
   "execution_count": 26,
   "metadata": {},
   "outputs": [],
   "source": [
    "Xtokens = tokenizer.texts_to_sequences(X)\n"
   ]
  },
  {
   "cell_type": "code",
   "execution_count": 27,
   "metadata": {},
   "outputs": [],
   "source": [
    "def get_maxlen(data):\n",
    "    maxlen = 0\n",
    "    for sent in data:\n",
    "        maxlen = max(maxlen, len(sent))\n",
    "    \n",
    "    return maxlen\n",
    "maxlen = get_maxlen(Xtokens)"
   ]
  },
  {
   "cell_type": "code",
   "execution_count": 28,
   "metadata": {},
   "outputs": [],
   "source": [
    "Xtrain = pad_sequences(Xtokens, maxlen = maxlen, padding = 'post', truncating = 'post')"
   ]
  },
  {
   "cell_type": "code",
   "execution_count": 29,
   "metadata": {},
   "outputs": [],
   "source": [
    "Ytrain = to_categorical(Y)"
   ]
  },
  {
   "cell_type": "markdown",
   "metadata": {},
   "source": [
    "Model"
   ]
  },
  {
   "cell_type": "code",
   "execution_count": 30,
   "metadata": {},
   "outputs": [],
   "source": [
    "embed_size = 100"
   ]
  },
  {
   "cell_type": "code",
   "execution_count": 31,
   "metadata": {},
   "outputs": [],
   "source": [
    "embedding_matrix = np.zeros((len(word_to_index)+1, embed_size))\n",
    "\n",
    "for word, i in word_to_index.items():\n",
    "    embed_vector = embeddings[word]\n",
    "    embedding_matrix[i] = embed_vector"
   ]
  },
  {
   "cell_type": "code",
   "execution_count": 32,
   "metadata": {},
   "outputs": [],
   "source": [
    "model = Sequential([\n",
    "    Embedding(input_dim = len(word_to_index)+1,\n",
    "              output_dim = embed_size,\n",
    "              input_length=maxlen,\n",
    "              weights = [embedding_matrix],\n",
    "              trainable = False\n",
    "              ),\n",
    "    LSTM(units = 16, return_sequences=True),\n",
    "    LSTM(units = 4),\n",
    "    Dense(5, activation='softmax')\n",
    "])\n",
    "\n",
    "model.compile(optimizer='adam', loss='categorical_crossentropy', metrics=['accuracy'])"
   ]
  },
  {
   "cell_type": "code",
   "execution_count": 33,
   "metadata": {},
   "outputs": [
    {
     "name": "stdout",
     "output_type": "stream",
     "text": [
      "Epoch 1/100\n",
      "6/6 [==============================] - 3s 6ms/step - loss: 1.6020 - accuracy: 0.2514\n",
      "Epoch 2/100\n",
      "6/6 [==============================] - 0s 10ms/step - loss: 1.5757 - accuracy: 0.3169\n",
      "Epoch 3/100\n",
      "6/6 [==============================] - 0s 7ms/step - loss: 1.5570 - accuracy: 0.3279\n",
      "Epoch 4/100\n",
      "6/6 [==============================] - 0s 7ms/step - loss: 1.5415 - accuracy: 0.3279\n",
      "Epoch 5/100\n",
      "6/6 [==============================] - 0s 8ms/step - loss: 1.5269 - accuracy: 0.3443\n",
      "Epoch 6/100\n",
      "6/6 [==============================] - 0s 7ms/step - loss: 1.5150 - accuracy: 0.3934\n",
      "Epoch 7/100\n",
      "6/6 [==============================] - 0s 8ms/step - loss: 1.4992 - accuracy: 0.4372\n",
      "Epoch 8/100\n",
      "6/6 [==============================] - 0s 10ms/step - loss: 1.4818 - accuracy: 0.4590\n",
      "Epoch 9/100\n",
      "6/6 [==============================] - 0s 9ms/step - loss: 1.4604 - accuracy: 0.4863\n",
      "Epoch 10/100\n",
      "6/6 [==============================] - 0s 12ms/step - loss: 1.4363 - accuracy: 0.4863\n",
      "Epoch 11/100\n",
      "6/6 [==============================] - 0s 11ms/step - loss: 1.4052 - accuracy: 0.4973\n",
      "Epoch 12/100\n",
      "6/6 [==============================] - 0s 13ms/step - loss: 1.3704 - accuracy: 0.5246\n",
      "Epoch 13/100\n",
      "6/6 [==============================] - 0s 12ms/step - loss: 1.3308 - accuracy: 0.5464\n",
      "Epoch 14/100\n",
      "6/6 [==============================] - 0s 13ms/step - loss: 1.2843 - accuracy: 0.5628\n",
      "Epoch 15/100\n",
      "6/6 [==============================] - 0s 12ms/step - loss: 1.2292 - accuracy: 0.5847\n",
      "Epoch 16/100\n",
      "6/6 [==============================] - 0s 12ms/step - loss: 1.1828 - accuracy: 0.6612\n",
      "Epoch 17/100\n",
      "6/6 [==============================] - 0s 11ms/step - loss: 1.1402 - accuracy: 0.6667\n",
      "Epoch 18/100\n",
      "6/6 [==============================] - 0s 11ms/step - loss: 1.0797 - accuracy: 0.7158\n",
      "Epoch 19/100\n",
      "6/6 [==============================] - 0s 14ms/step - loss: 1.0375 - accuracy: 0.7377\n",
      "Epoch 20/100\n",
      "6/6 [==============================] - 0s 14ms/step - loss: 0.9999 - accuracy: 0.7322\n",
      "Epoch 21/100\n",
      "6/6 [==============================] - 0s 12ms/step - loss: 0.9647 - accuracy: 0.7650\n",
      "Epoch 22/100\n",
      "6/6 [==============================] - 0s 13ms/step - loss: 0.9214 - accuracy: 0.7923\n",
      "Epoch 23/100\n",
      "6/6 [==============================] - 0s 11ms/step - loss: 0.8749 - accuracy: 0.8361\n",
      "Epoch 24/100\n",
      "6/6 [==============================] - 0s 11ms/step - loss: 0.8384 - accuracy: 0.8525\n",
      "Epoch 25/100\n",
      "6/6 [==============================] - 0s 12ms/step - loss: 0.8036 - accuracy: 0.8634\n",
      "Epoch 26/100\n",
      "6/6 [==============================] - 0s 12ms/step - loss: 0.7712 - accuracy: 0.8798\n",
      "Epoch 27/100\n",
      "6/6 [==============================] - 0s 12ms/step - loss: 0.7371 - accuracy: 0.8907\n",
      "Epoch 28/100\n",
      "6/6 [==============================] - 0s 10ms/step - loss: 0.7094 - accuracy: 0.9016\n",
      "Epoch 29/100\n",
      "6/6 [==============================] - 0s 12ms/step - loss: 0.6918 - accuracy: 0.9016\n",
      "Epoch 30/100\n",
      "6/6 [==============================] - 0s 16ms/step - loss: 0.6609 - accuracy: 0.9290\n",
      "Epoch 31/100\n",
      "6/6 [==============================] - 0s 10ms/step - loss: 0.6333 - accuracy: 0.9344\n",
      "Epoch 32/100\n",
      "6/6 [==============================] - 0s 12ms/step - loss: 0.6148 - accuracy: 0.9344\n",
      "Epoch 33/100\n",
      "6/6 [==============================] - 0s 8ms/step - loss: 0.5906 - accuracy: 0.9344\n",
      "Epoch 34/100\n",
      "6/6 [==============================] - 0s 10ms/step - loss: 0.5744 - accuracy: 0.9290\n",
      "Epoch 35/100\n",
      "6/6 [==============================] - 0s 12ms/step - loss: 0.5538 - accuracy: 0.9344\n",
      "Epoch 36/100\n",
      "6/6 [==============================] - 0s 11ms/step - loss: 0.5517 - accuracy: 0.9126\n",
      "Epoch 37/100\n",
      "6/6 [==============================] - 0s 13ms/step - loss: 0.5184 - accuracy: 0.9508\n",
      "Epoch 38/100\n",
      "6/6 [==============================] - 0s 11ms/step - loss: 0.4951 - accuracy: 0.9563\n",
      "Epoch 39/100\n",
      "6/6 [==============================] - 0s 11ms/step - loss: 0.4740 - accuracy: 0.9672\n",
      "Epoch 40/100\n",
      "6/6 [==============================] - 0s 21ms/step - loss: 0.4582 - accuracy: 0.9781\n",
      "Epoch 41/100\n",
      "6/6 [==============================] - 0s 14ms/step - loss: 0.4392 - accuracy: 0.9836\n",
      "Epoch 42/100\n",
      "6/6 [==============================] - 0s 13ms/step - loss: 0.4244 - accuracy: 0.9836\n",
      "Epoch 43/100\n",
      "6/6 [==============================] - 0s 14ms/step - loss: 0.4120 - accuracy: 0.9836\n",
      "Epoch 44/100\n",
      "6/6 [==============================] - 0s 13ms/step - loss: 0.4000 - accuracy: 0.9836\n",
      "Epoch 45/100\n",
      "6/6 [==============================] - 0s 13ms/step - loss: 0.3885 - accuracy: 0.9836\n",
      "Epoch 46/100\n",
      "6/6 [==============================] - 0s 14ms/step - loss: 0.3788 - accuracy: 0.9836\n",
      "Epoch 47/100\n",
      "6/6 [==============================] - 0s 13ms/step - loss: 0.3698 - accuracy: 0.9836\n",
      "Epoch 48/100\n",
      "6/6 [==============================] - 0s 14ms/step - loss: 0.3637 - accuracy: 0.9836\n",
      "Epoch 49/100\n",
      "6/6 [==============================] - 0s 25ms/step - loss: 0.3536 - accuracy: 0.9836\n",
      "Epoch 50/100\n",
      "6/6 [==============================] - 0s 13ms/step - loss: 0.3452 - accuracy: 0.9836\n",
      "Epoch 51/100\n",
      "6/6 [==============================] - 0s 13ms/step - loss: 0.3373 - accuracy: 0.9836\n",
      "Epoch 52/100\n",
      "6/6 [==============================] - 0s 15ms/step - loss: 0.3308 - accuracy: 0.9836\n",
      "Epoch 53/100\n",
      "6/6 [==============================] - 0s 13ms/step - loss: 0.3226 - accuracy: 0.9836\n",
      "Epoch 54/100\n",
      "6/6 [==============================] - 0s 13ms/step - loss: 0.3166 - accuracy: 0.9836\n",
      "Epoch 55/100\n",
      "6/6 [==============================] - 0s 13ms/step - loss: 0.3118 - accuracy: 0.9836\n",
      "Epoch 56/100\n",
      "6/6 [==============================] - 0s 13ms/step - loss: 0.3053 - accuracy: 0.9836\n",
      "Epoch 57/100\n",
      "6/6 [==============================] - 0s 13ms/step - loss: 0.3024 - accuracy: 0.9836\n",
      "Epoch 58/100\n",
      "6/6 [==============================] - 0s 24ms/step - loss: 0.2969 - accuracy: 0.9836\n",
      "Epoch 59/100\n",
      "6/6 [==============================] - 0s 14ms/step - loss: 0.2926 - accuracy: 0.9836\n",
      "Epoch 60/100\n",
      "6/6 [==============================] - 0s 13ms/step - loss: 0.2855 - accuracy: 0.9891\n",
      "Epoch 61/100\n",
      "6/6 [==============================] - 0s 15ms/step - loss: 0.2804 - accuracy: 0.9891\n",
      "Epoch 62/100\n",
      "6/6 [==============================] - 0s 13ms/step - loss: 0.2801 - accuracy: 0.9891\n",
      "Epoch 63/100\n",
      "6/6 [==============================] - 0s 14ms/step - loss: 0.2709 - accuracy: 0.9891\n",
      "Epoch 64/100\n",
      "6/6 [==============================] - 0s 13ms/step - loss: 0.2700 - accuracy: 0.9891\n",
      "Epoch 65/100\n",
      "6/6 [==============================] - 0s 13ms/step - loss: 0.2672 - accuracy: 0.9891\n",
      "Epoch 66/100\n",
      "6/6 [==============================] - 0s 12ms/step - loss: 0.2586 - accuracy: 0.9891\n",
      "Epoch 67/100\n",
      "6/6 [==============================] - 0s 24ms/step - loss: 0.2610 - accuracy: 0.9891\n",
      "Epoch 68/100\n",
      "6/6 [==============================] - 0s 14ms/step - loss: 0.2504 - accuracy: 0.9891\n",
      "Epoch 69/100\n",
      "6/6 [==============================] - 0s 13ms/step - loss: 0.2459 - accuracy: 0.9891\n",
      "Epoch 70/100\n",
      "6/6 [==============================] - 0s 12ms/step - loss: 0.2441 - accuracy: 0.9891\n",
      "Epoch 71/100\n",
      "6/6 [==============================] - 0s 13ms/step - loss: 0.2460 - accuracy: 0.9891\n",
      "Epoch 72/100\n",
      "6/6 [==============================] - 0s 13ms/step - loss: 0.2375 - accuracy: 0.9891\n",
      "Epoch 73/100\n",
      "6/6 [==============================] - 0s 13ms/step - loss: 0.2336 - accuracy: 0.9891\n",
      "Epoch 74/100\n",
      "6/6 [==============================] - 0s 13ms/step - loss: 0.2318 - accuracy: 0.9891\n",
      "Epoch 75/100\n",
      "6/6 [==============================] - 0s 14ms/step - loss: 0.2269 - accuracy: 0.9891\n",
      "Epoch 76/100\n",
      "6/6 [==============================] - 0s 18ms/step - loss: 0.2317 - accuracy: 0.9891\n",
      "Epoch 77/100\n",
      "6/6 [==============================] - 0s 14ms/step - loss: 0.2217 - accuracy: 0.9891\n",
      "Epoch 78/100\n",
      "6/6 [==============================] - 0s 13ms/step - loss: 0.2181 - accuracy: 0.9891\n",
      "Epoch 79/100\n",
      "6/6 [==============================] - 0s 13ms/step - loss: 0.2159 - accuracy: 0.9891\n",
      "Epoch 80/100\n",
      "6/6 [==============================] - 0s 13ms/step - loss: 0.2125 - accuracy: 0.9891\n",
      "Epoch 81/100\n",
      "6/6 [==============================] - 0s 13ms/step - loss: 0.2099 - accuracy: 0.9891\n",
      "Epoch 82/100\n",
      "6/6 [==============================] - 0s 13ms/step - loss: 0.2075 - accuracy: 0.9891\n",
      "Epoch 83/100\n",
      "6/6 [==============================] - 0s 13ms/step - loss: 0.2047 - accuracy: 0.9891\n",
      "Epoch 84/100\n",
      "6/6 [==============================] - 0s 14ms/step - loss: 0.2022 - accuracy: 0.9891\n",
      "Epoch 85/100\n",
      "6/6 [==============================] - 0s 23ms/step - loss: 0.1995 - accuracy: 0.9891\n",
      "Epoch 86/100\n",
      "6/6 [==============================] - 0s 14ms/step - loss: 0.1971 - accuracy: 0.9891\n",
      "Epoch 87/100\n",
      "6/6 [==============================] - 0s 13ms/step - loss: 0.1948 - accuracy: 0.9891\n",
      "Epoch 88/100\n",
      "6/6 [==============================] - 0s 13ms/step - loss: 0.1919 - accuracy: 0.9891\n",
      "Epoch 89/100\n",
      "6/6 [==============================] - 0s 13ms/step - loss: 0.1894 - accuracy: 0.9891\n",
      "Epoch 90/100\n",
      "6/6 [==============================] - 0s 11ms/step - loss: 0.1870 - accuracy: 0.9891\n",
      "Epoch 91/100\n",
      "6/6 [==============================] - 0s 14ms/step - loss: 0.1848 - accuracy: 0.9891\n",
      "Epoch 92/100\n",
      "6/6 [==============================] - 0s 12ms/step - loss: 0.1825 - accuracy: 0.9891\n",
      "Epoch 93/100\n",
      "6/6 [==============================] - 0s 11ms/step - loss: 0.1804 - accuracy: 0.9891\n",
      "Epoch 94/100\n",
      "6/6 [==============================] - 0s 13ms/step - loss: 0.1782 - accuracy: 0.9891\n",
      "Epoch 95/100\n",
      "6/6 [==============================] - 0s 12ms/step - loss: 0.1762 - accuracy: 0.9891\n",
      "Epoch 96/100\n",
      "6/6 [==============================] - 0s 11ms/step - loss: 0.1741 - accuracy: 0.9891\n",
      "Epoch 97/100\n",
      "6/6 [==============================] - 0s 14ms/step - loss: 0.1720 - accuracy: 0.9891\n",
      "Epoch 98/100\n",
      "6/6 [==============================] - 0s 13ms/step - loss: 0.1697 - accuracy: 0.9891\n",
      "Epoch 99/100\n",
      "6/6 [==============================] - 0s 13ms/step - loss: 0.1680 - accuracy: 0.9891\n",
      "Epoch 100/100\n",
      "6/6 [==============================] - 0s 13ms/step - loss: 0.1639 - accuracy: 0.9891\n"
     ]
    },
    {
     "data": {
      "text/plain": [
       "<keras.callbacks.History at 0x1f6479032e0>"
      ]
     },
     "execution_count": 33,
     "metadata": {},
     "output_type": "execute_result"
    }
   ],
   "source": [
    "model.fit(Xtrain, Ytrain, epochs=100)"
   ]
  },
  {
   "cell_type": "code",
   "execution_count": 34,
   "metadata": {},
   "outputs": [],
   "source": [
    "test = [\"I am trying\", \"I want to cry\", \"This is just sad\"]"
   ]
  }
 ],
 "metadata": {
  "kernelspec": {
   "display_name": "Python 3",
   "language": "python",
   "name": "python3"
  },
  "language_info": {
   "codemirror_mode": {
    "name": "ipython",
    "version": 3
   },
   "file_extension": ".py",
   "mimetype": "text/x-python",
   "name": "python",
   "nbconvert_exporter": "python",
   "pygments_lexer": "ipython3",
   "version": "3.10.13"
  }
 },
 "nbformat": 4,
 "nbformat_minor": 2
}
