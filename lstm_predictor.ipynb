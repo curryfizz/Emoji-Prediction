{
 "cells": [
  {
   "cell_type": "code",
   "execution_count": 62,
   "metadata": {
    "notebookRunGroups": {
     "groupValue": "2"
    }
   },
   "outputs": [],
   "source": [
    "import numpy as np\n",
    "import pandas as pd\n",
    "import emoji\n",
    "import re\n",
    "import pickle\n",
    "import matplotlib.pyplot as plt\n",
    "import matplotlib.colors as pltclrs\n",
    "import seaborn as sns\n",
    "\n",
    "\n",
    "from keras.models import Sequential\n",
    "from keras.layers import Dense, LSTM, SimpleRNN, Embedding\n",
    "from keras_preprocessing.text import Tokenizer\n",
    "from keras_preprocessing.sequence import pad_sequences\n",
    "from keras.utils import to_categorical\n",
    "from sklearn.model_selection import train_test_split  # Import for splitting the data\n",
    "from gensim.models import KeyedVectors\n",
    "from datetime import datetime\n",
    "from mlxtend.plotting import plot_confusion_matrix\n",
    "from sklearn.metrics import confusion_matrix, classification_report\n",
    "\n",
    "\n",
    "\n",
    "np.random.seed(0)\n"
   ]
  },
  {
   "cell_type": "code",
   "execution_count": 2,
   "metadata": {},
   "outputs": [
    {
     "data": {
      "text/html": [
       "<div>\n",
       "<style scoped>\n",
       "    .dataframe tbody tr th:only-of-type {\n",
       "        vertical-align: middle;\n",
       "    }\n",
       "\n",
       "    .dataframe tbody tr th {\n",
       "        vertical-align: top;\n",
       "    }\n",
       "\n",
       "    .dataframe thead th {\n",
       "        text-align: right;\n",
       "    }\n",
       "</style>\n",
       "<table border=\"1\" class=\"dataframe\">\n",
       "  <thead>\n",
       "    <tr style=\"text-align: right;\">\n",
       "      <th></th>\n",
       "      <th>0</th>\n",
       "      <th>1</th>\n",
       "    </tr>\n",
       "  </thead>\n",
       "  <tbody>\n",
       "    <tr>\n",
       "      <th>0</th>\n",
       "      <td>Woke up feelin' dangerous</td>\n",
       "      <td>5</td>\n",
       "    </tr>\n",
       "    <tr>\n",
       "      <th>1</th>\n",
       "      <td>Got my mind on my money</td>\n",
       "      <td>5</td>\n",
       "    </tr>\n",
       "    <tr>\n",
       "      <th>2</th>\n",
       "      <td>Haha that was hilarious</td>\n",
       "      <td>1</td>\n",
       "    </tr>\n",
       "    <tr>\n",
       "      <th>3</th>\n",
       "      <td>Feeling like Uptown Funk</td>\n",
       "      <td>5</td>\n",
       "    </tr>\n",
       "    <tr>\n",
       "      <th>4</th>\n",
       "      <td>Congratulations for having a baby</td>\n",
       "      <td>2</td>\n",
       "    </tr>\n",
       "  </tbody>\n",
       "</table>\n",
       "</div>"
      ],
      "text/plain": [
       "                                   0  1\n",
       "0          Woke up feelin' dangerous  5\n",
       "1            Got my mind on my money  5\n",
       "2            Haha that was hilarious  1\n",
       "3           Feeling like Uptown Funk  5\n",
       "4  Congratulations for having a baby  2"
      ]
     },
     "execution_count": 2,
     "metadata": {},
     "output_type": "execute_result"
    }
   ],
   "source": [
    "data = pd.read_csv(\"data/emoji_data/emoji_data.csv\", header=None)\n",
    "data.head()"
   ]
  },
  {
   "cell_type": "markdown",
   "metadata": {},
   "source": [
    "Emoji Dictionary"
   ]
  },
  {
   "cell_type": "code",
   "execution_count": 3,
   "metadata": {
    "tags": [
     "parameters"
    ]
   },
   "outputs": [],
   "source": [
    "emoji_dictionary = {\n",
    "    0: \":red_heart:\",  # Love #\n",
    "    1: \":face_with_tears_of_joy:\",  # Laughter\n",
    "    2: \":grinning_face_with_big_eyes:\", # Happiness #\n",
    "    3: \":loudly_crying_face:\",  # Sadness #\n",
    "    4: \":smiling_face_with_heart-eyes:\",  # Adoration\n",
    "    5: \":fire:\",  # Excitement\n",
    "    6: \":thumbs_up:\",  # Approval\n",
    "    7: \":folded_hands:\",  # Gratitude\n",
    "    8: \":angry_face:\",  # Anger\n",
    "    9: \":thinking_face:\",  # Contemplation\n",
    "}\n"
   ]
  },
  {
   "cell_type": "markdown",
   "metadata": {},
   "source": [
    "Function to get labels from CLDR names"
   ]
  },
  {
   "cell_type": "code",
   "execution_count": 4,
   "metadata": {},
   "outputs": [],
   "source": [
    "def label_to_emoji(label):\n",
    "    return emoji.emojize(emoji_dictionary[label])\n"
   ]
  },
  {
   "cell_type": "markdown",
   "metadata": {},
   "source": [
    "Reading data"
   ]
  },
  {
   "cell_type": "code",
   "execution_count": 5,
   "metadata": {},
   "outputs": [
    {
     "data": {
      "text/html": [
       "<div>\n",
       "<style scoped>\n",
       "    .dataframe tbody tr th:only-of-type {\n",
       "        vertical-align: middle;\n",
       "    }\n",
       "\n",
       "    .dataframe tbody tr th {\n",
       "        vertical-align: top;\n",
       "    }\n",
       "\n",
       "    .dataframe thead th {\n",
       "        text-align: right;\n",
       "    }\n",
       "</style>\n",
       "<table border=\"1\" class=\"dataframe\">\n",
       "  <thead>\n",
       "    <tr style=\"text-align: right;\">\n",
       "      <th></th>\n",
       "      <th>0</th>\n",
       "      <th>1</th>\n",
       "    </tr>\n",
       "  </thead>\n",
       "  <tbody>\n",
       "    <tr>\n",
       "      <th>0</th>\n",
       "      <td>Woke up feelin' dangerous</td>\n",
       "      <td>5</td>\n",
       "    </tr>\n",
       "    <tr>\n",
       "      <th>1</th>\n",
       "      <td>Got my mind on my money</td>\n",
       "      <td>5</td>\n",
       "    </tr>\n",
       "    <tr>\n",
       "      <th>2</th>\n",
       "      <td>Haha that was hilarious</td>\n",
       "      <td>1</td>\n",
       "    </tr>\n",
       "    <tr>\n",
       "      <th>3</th>\n",
       "      <td>Feeling like Uptown Funk</td>\n",
       "      <td>5</td>\n",
       "    </tr>\n",
       "    <tr>\n",
       "      <th>4</th>\n",
       "      <td>Congratulations for having a baby</td>\n",
       "      <td>2</td>\n",
       "    </tr>\n",
       "  </tbody>\n",
       "</table>\n",
       "</div>"
      ],
      "text/plain": [
       "                                   0  1\n",
       "0          Woke up feelin' dangerous  5\n",
       "1            Got my mind on my money  5\n",
       "2            Haha that was hilarious  1\n",
       "3           Feeling like Uptown Funk  5\n",
       "4  Congratulations for having a baby  2"
      ]
     },
     "execution_count": 5,
     "metadata": {},
     "output_type": "execute_result"
    }
   ],
   "source": [
    "data = pd.read_csv('data/emoji_data/emoji_data.csv', header=None)\n",
    "data.head()"
   ]
  },
  {
   "cell_type": "code",
   "execution_count": 6,
   "metadata": {},
   "outputs": [],
   "source": [
    "\n",
    "def label_to_emoji(label):\n",
    "    return emoji.emojize(emoji_dictionary[label])"
   ]
  },
  {
   "cell_type": "code",
   "execution_count": 7,
   "metadata": {},
   "outputs": [],
   "source": [
    "X = data[0].values\n",
    "Y = data[1].values\n"
   ]
  },
  {
   "cell_type": "markdown",
   "metadata": {},
   "source": [
    "Embeddings"
   ]
  },
  {
   "cell_type": "markdown",
   "metadata": {},
   "source": [
    "With glove dataset"
   ]
  },
  {
   "cell_type": "code",
   "execution_count": 8,
   "metadata": {
    "notebookRunGroups": {
     "groupValue": "1"
    }
   },
   "outputs": [],
   "source": [
    "# with open('data/glove_dataset/glove.6B.100d.txt','r', encoding='utf8') as file:\n",
    "#     content = file.readlines()"
   ]
  },
  {
   "cell_type": "code",
   "execution_count": 9,
   "metadata": {},
   "outputs": [],
   "source": [
    "# embeddings = {}\n",
    "\n",
    "# for line in content:\n",
    "#     line = line.split()\n",
    "#     embeddings[line[0]] = np.array(line[1:], dtype=float)"
   ]
  },
  {
   "cell_type": "markdown",
   "metadata": {},
   "source": [
    "With crawl dataset"
   ]
  },
  {
   "cell_type": "code",
   "execution_count": 10,
   "metadata": {},
   "outputs": [],
   "source": [
    "fasttext_model_path = \"data/fast_text/crawl_dataset/crawl-300d-2M-subword.vec\"\n",
    "fasttext_model = KeyedVectors.load_word2vec_format(fasttext_model_path)\n"
   ]
  },
  {
   "cell_type": "code",
   "execution_count": 11,
   "metadata": {},
   "outputs": [],
   "source": [
    "# Convert FastText embeddings to a dictionary\n",
    "embeddings = {}\n",
    "for word in fasttext_model.index_to_key:\n",
    "    embeddings[word] = fasttext_model.get_vector(word)\n",
    "    \n",
    "    "
   ]
  },
  {
   "cell_type": "markdown",
   "metadata": {},
   "source": [
    "Convert input text into tokens"
   ]
  },
  {
   "cell_type": "code",
   "execution_count": 12,
   "metadata": {},
   "outputs": [],
   "source": [
    "tokenizer = Tokenizer()\n",
    "tokenizer.fit_on_texts(X)\n",
    "word_to_index = tokenizer.word_index\n",
    "\n",
    "with open('tokenizer.pickle', 'wb') as handle:\n",
    "    pickle.dump(tokenizer, handle, protocol=pickle.HIGHEST_PROTOCOL)"
   ]
  },
  {
   "cell_type": "code",
   "execution_count": 13,
   "metadata": {},
   "outputs": [],
   "source": [
    "Xtokens = tokenizer.texts_to_sequences(X)\n"
   ]
  },
  {
   "cell_type": "code",
   "execution_count": 14,
   "metadata": {},
   "outputs": [],
   "source": [
    "def get_maxlen(data):\n",
    "    maxlen = 0\n",
    "    for sent in data:\n",
    "        maxlen = max(maxlen, len(sent))\n",
    "    \n",
    "    return maxlen\n",
    "maxlen = get_maxlen(Xtokens)\n",
    "\n"
   ]
  },
  {
   "cell_type": "code",
   "execution_count": 15,
   "metadata": {},
   "outputs": [],
   "source": [
    "Xtrain = pad_sequences(Xtokens, maxlen=maxlen, padding='post', truncating='post')\n"
   ]
  },
  {
   "cell_type": "code",
   "execution_count": 16,
   "metadata": {},
   "outputs": [],
   "source": [
    "Ytrain = to_categorical(Y)"
   ]
  },
  {
   "cell_type": "markdown",
   "metadata": {},
   "source": [
    "Split data into train and test set"
   ]
  },
  {
   "cell_type": "code",
   "execution_count": 17,
   "metadata": {},
   "outputs": [],
   "source": [
    "X_train, X_test, Y_train, Y_test = train_test_split(Xtrain, Ytrain, test_size=0.2, random_state=42)\n"
   ]
  },
  {
   "cell_type": "markdown",
   "metadata": {},
   "source": [
    "Model"
   ]
  },
  {
   "cell_type": "code",
   "execution_count": 18,
   "metadata": {},
   "outputs": [],
   "source": [
    "embed_size = 300"
   ]
  },
  {
   "cell_type": "code",
   "execution_count": 19,
   "metadata": {},
   "outputs": [],
   "source": [
    "embedding_matrix = np.zeros((len(word_to_index) + 1, embed_size))\n",
    "\n",
    "for word, i in word_to_index.items():\n",
    "    if word in embeddings:\n",
    "        embed_vector = embeddings[word]\n",
    "        embedding_matrix[i] = embed_vector\n",
    "    else:\n",
    "        # Handle out-of-vocabulary words or phrases by aggregating subword embeddings\n",
    "        phrase_embed_sum = None\n",
    "        clean_word = re.split(r'\\W+', word)\n",
    "        for subword in clean_word:\n",
    "            if subword in embeddings:\n",
    "                if phrase_embed_sum is None:\n",
    "                    phrase_embed_sum = embeddings[subword].copy()\n",
    "                else:\n",
    "                    phrase_embed_sum += embeddings[subword]\n",
    "        # Assign the aggregated embedding to a new array with the desired dtype\n",
    "        if phrase_embed_sum is not None:\n",
    "            embedding_matrix[i] = phrase_embed_sum / len(clean_word)\n",
    "            \n",
    "\n",
    "            "
   ]
  },
  {
   "cell_type": "markdown",
   "metadata": {},
   "source": [
    "In general more layers >>"
   ]
  },
  {
   "cell_type": "code",
   "execution_count": 63,
   "metadata": {
    "notebookRunGroups": {
     "groupValue": "2"
    }
   },
   "outputs": [],
   "source": [
    "\n",
    "epochs = 1000\n",
    "\n",
    "\n",
    "#units\n",
    "layers = [256, 16, 4, 2]\n",
    "\n",
    "num_layers = len(layers)\n",
    "\n",
    "\n",
    "num_classes = len(emoji_dictionary)"
   ]
  },
  {
   "cell_type": "markdown",
   "metadata": {},
   "source": [
    "Code to generate file name for saving model"
   ]
  },
  {
   "cell_type": "code",
   "execution_count": 64,
   "metadata": {
    "notebookRunGroups": {
     "groupValue": "2"
    }
   },
   "outputs": [],
   "source": [
    "def returnfilename():\n",
    "    layers_str = '_'.join(map(str, layers))  # Convert layers to string and join them with '_'\n",
    "    return f\"epochs_{epochs}_layers_{layers_str}\"\n"
   ]
  },
  {
   "cell_type": "code",
   "execution_count": 65,
   "metadata": {
    "notebookRunGroups": {
     "groupValue": "2"
    }
   },
   "outputs": [],
   "source": [
    "model = Sequential()\n",
    "\n",
    "# Add Embedding layer\n",
    "model.add(Embedding(input_dim=len(word_to_index) + 1,\n",
    "                    output_dim=embed_size,\n",
    "                    input_length=maxlen,\n",
    "                    weights=[embedding_matrix],\n",
    "                    trainable=False))\n",
    "\n",
    "\n",
    "# Add LSTM layers\n",
    "for i in range(num_layers):\n",
    "    # For the last layer, return_sequences=False\n",
    "    if i == num_layers - 1:\n",
    "        model.add(LSTM(units=layers[i]))\n",
    "    else:\n",
    "        model.add(LSTM(units=layers[i], return_sequences=True))\n",
    "\n",
    "# Add output Dense layer\n",
    "model.add(Dense(num_classes, activation='softmax'))\n",
    "\n",
    "\n",
    "model.compile(optimizer='adam', loss='categorical_crossentropy', metrics=['accuracy'])\n"
   ]
  },
  {
   "cell_type": "code",
   "execution_count": 66,
   "metadata": {
    "notebookRunGroups": {
     "groupValue": "2"
    }
   },
   "outputs": [
    {
     "name": "stdout",
     "output_type": "stream",
     "text": [
      "Epoch 1/1000\n"
     ]
    }
   ],
   "source": [
    "model.fit(Xtrain, Ytrain, epochs=epochs,  verbose = 1)"
   ]
  },
  {
   "cell_type": "code",
   "execution_count": null,
   "metadata": {
    "notebookRunGroups": {
     "groupValue": "2"
    }
   },
   "outputs": [],
   "source": [
    "filename = returnfilename()"
   ]
  },
  {
   "cell_type": "code",
   "execution_count": null,
   "metadata": {
    "notebookRunGroups": {
     "groupValue": "2"
    }
   },
   "outputs": [],
   "source": [
    "model_save_path = \"models/training set v.3.0/\""
   ]
  },
  {
   "cell_type": "code",
   "execution_count": null,
   "metadata": {
    "notebookRunGroups": {
     "groupValue": "2"
    }
   },
   "outputs": [],
   "source": [
    "\n",
    "model_json = model.to_json()\n",
    "with open(f\"{model_save_path}/json/{filename}.json\", \"w\") as json_file:\n",
    "    json_file.write(model_json)\n",
    "    \n",
    "# serialize weights to HDF5\n",
    "model.save_weights(f\"{model_save_path}/weights/{filename}.h5\")\n",
    "\n"
   ]
  },
  {
   "cell_type": "code",
   "execution_count": null,
   "metadata": {
    "notebookRunGroups": {
     "groupValue": "2"
    }
   },
   "outputs": [],
   "source": [
    "metrics_folder = f\"{model_save_path}/metrics\""
   ]
  },
  {
   "cell_type": "code",
   "execution_count": null,
   "metadata": {
    "notebookRunGroups": {
     "groupValue": "2"
    }
   },
   "outputs": [
    {
     "name": "stdout",
     "output_type": "stream",
     "text": [
      "5/5 [==============================] - 1s 8ms/step - loss: 1.2837 - accuracy: 0.5163\n",
      "Test Loss: 1.2836791276931763\n",
      "Test Accuracy: 0.516339898109436\n"
     ]
    }
   ],
   "source": [
    "# Evaluate the model on the test set\n",
    "loss, accuracy = model.evaluate(X_test, Y_test)\n",
    "print(\"Test Loss:\", loss)\n",
    "print(\"Test Accuracy:\", accuracy)\n",
    "current_datetime = datetime.now()\n",
    "formatted_datetime = current_datetime.strftime('%d %B, %Y')\n",
    "\n",
    "# Write model architecture and details to file\n",
    "with open(f\"{metrics_folder}/{filename}.md\", \"w\", encoding=\"utf-8\") as file:\n",
    "    file.write(\"# Model description:<br>\\n\")\n",
    "    file.write(f\"Date generated: {formatted_datetime}<br>\\n\")\n",
    "    file.write(f\"Number of classes: {num_classes}<br>\\n\")\n",
    "    file.write(f\"Number of samples: {len(X)}<br>\\n\")\n",
    "    file.write(f\"Training set size: {len(X_train)}<br>\\n\")\n",
    "    file.write(f\"Test set size: {len(X_test)}<br>\\n\")\n",
    "    file.write(f\"Epochs used: {epochs}<br>\\n\")\n",
    "    file.write(f\"Number of layers: {num_layers}<br>\\n\")\n",
    "    file.write(f\"Layers used: {layers}<br>\\n\")\n",
    "    file.write(\"Optimizer: Adam<br>\\n\")\n",
    "    file.write(\"Loss function: Categorical Crossentropy<br>\\n\")\n",
    "    file.write(\"# Evaluation Results<br>\\n\")\n",
    "    file.write(f\"Test Loss: {loss:.4f}<br>\\n\")\n",
    "    file.write(f\"Test Accuracy: {accuracy:.4f}<br><br>\\n\")\n"
   ]
  },
  {
   "cell_type": "code",
   "execution_count": null,
   "metadata": {
    "notebookRunGroups": {
     "groupValue": "2"
    }
   },
   "outputs": [
    {
     "name": "stdout",
     "output_type": "stream",
     "text": [
      "5/5 [==============================] - 1s 8ms/step\n",
      "Accuracy: 0.5163398692810458\n",
      "Predicted: 😭 Actual: 🔥\n",
      "Predicted: ❤️ Actual: 👍\n",
      "Predicted: 😭 Actual: 🙏\n",
      "Predicted: 😭 Actual: 🙏\n",
      "Predicted: 😭 Actual: 🙏\n",
      "Predicted: 🤔 Actual: 😠\n",
      "Predicted: ❤️ Actual: 😃\n",
      "Predicted: 😭 Actual: 🔥\n",
      "Predicted: 😭 Actual: 🙏\n",
      "Predicted: ❤️ Actual: 😍\n",
      "Predicted: ❤️ Actual: 😍\n",
      "Predicted: 🤔 Actual: 😠\n",
      "Predicted: ❤️ Actual: 🙏\n",
      "Predicted: 🤔 Actual: 🙏\n",
      "Predicted: ❤️ Actual: 😍\n",
      "Predicted: 😭 Actual: 🔥\n",
      "Predicted: 😭 Actual: 🙏\n",
      "Predicted: 😭 Actual: 🔥\n",
      "Predicted: 😭 Actual: 🔥\n",
      "Predicted: ❤️ Actual: 😍\n",
      "Predicted: ❤️ Actual: 😃\n",
      "Predicted: 😭 Actual: 🔥\n",
      "Predicted: 😭 Actual: 🙏\n",
      "Predicted: 🤔 Actual: 😠\n",
      "Predicted: ❤️ Actual: 🙏\n",
      "Predicted: 😭 Actual: 🙏\n",
      "Predicted: 😭 Actual: 🔥\n",
      "Predicted: ❤️ Actual: 🔥\n",
      "Predicted: 🤔 Actual: 😠\n",
      "Predicted: ❤️ Actual: 👍\n",
      "Predicted: ❤️ Actual: 👍\n",
      "Predicted: 😭 Actual: ❤️\n",
      "Predicted: ❤️ Actual: 😍\n",
      "Predicted: ❤️ Actual: 😍\n",
      "Predicted: 🤔 Actual: 😠\n",
      "Predicted: 😭 Actual: 🙏\n",
      "Predicted: 🤔 Actual: 😠\n",
      "Predicted: 😭 Actual: 🙏\n",
      "Predicted: 🤔 Actual: 😠\n",
      "Predicted: 😭 Actual: 🔥\n",
      "Predicted: ❤️ Actual: 👍\n",
      "Predicted: ❤️ Actual: 👍\n",
      "Predicted: 😭 Actual: 🙏\n",
      "Predicted: 😭 Actual: 🔥\n",
      "Predicted: ❤️ Actual: 😃\n",
      "Predicted: 🤔 Actual: 😠\n",
      "Predicted: 🤔 Actual: 😠\n",
      "Predicted: 😃 Actual: 😂\n",
      "Predicted: 😭 Actual: 🙏\n",
      "Predicted: 😭 Actual: 🔥\n",
      "Predicted: 🤔 Actual: 😠\n",
      "Predicted: 🤔 Actual: 😠\n",
      "Predicted: 😭 Actual: 🔥\n",
      "Predicted: 🤔 Actual: 😠\n",
      "Predicted: 😭 Actual: 🙏\n",
      "Predicted: ❤️ Actual: 👍\n",
      "Predicted: ❤️ Actual: 😍\n",
      "Predicted: 😭 Actual: 🙏\n",
      "Predicted: ❤️ Actual: 🙏\n",
      "Predicted: 😂 Actual: ❤️\n",
      "Predicted: 🤔 Actual: 😠\n",
      "Predicted: ❤️ Actual: 😍\n",
      "Predicted: 😭 Actual: 🔥\n",
      "Predicted: ❤️ Actual: 😍\n",
      "Predicted: 😭 Actual: 🔥\n",
      "Predicted: 🤔 Actual: 😂\n",
      "Predicted: 😭 Actual: 🔥\n",
      "Predicted: 😭 Actual: 🔥\n",
      "Predicted: 😭 Actual: 😠\n",
      "Predicted: ❤️ Actual: 😃\n",
      "Predicted: ❤️ Actual: 😍\n",
      "Predicted: 😭 Actual: 🔥\n",
      "Predicted: ❤️ Actual: 😍\n",
      "Predicted: 🤔 Actual: 😠\n"
     ]
    }
   ],
   "source": [
    "# Make predictions on the test set\n",
    "y_pred = model.predict(X_test)\n",
    "\n",
    "# Convert predicted and actual labels from one-hot encoded format to integer labels\n",
    "Y_pred_labels = np.argmax(y_pred, axis=1)\n",
    "Y_test_labels = np.argmax(Y_test, axis=1)\n",
    "\n",
    "# Compare predicted labels with actual labels\n",
    "correct_predictions = np.sum(Y_pred_labels == Y_test_labels)\n",
    "total_predictions = len(Y_test_labels)\n",
    "accuracy = correct_predictions / total_predictions\n",
    "\n",
    "# Print accuracy\n",
    "print(\"Accuracy:\", accuracy)\n",
    "# Write accuracy to file\n",
    "with open(f\"{metrics_folder}/{filename}.md\", \"a\", encoding=\"utf-8\") as file:\n",
    "    file.write(\"Accuracy: {:.4f}\\n\\n\".format(accuracy))\n",
    "\n",
    "\n",
    "# Write misclassified samples to file\n",
    "with open(f\"{metrics_folder}/{filename}.md\", \"a\", encoding=\"utf-8\") as file:\n",
    "    file.write(\"## Misclassified samples:<br>\\n\")\n",
    "    for i in range(len(Y_pred_labels)):\n",
    "        if Y_pred_labels[i] != Y_test_labels[i]:\n",
    "            file.write(\n",
    "                f\"Predicted: {label_to_emoji(Y_pred_labels[i])} Actual: {label_to_emoji(Y_test_labels[i])}<br>\\n\"\n",
    "            )\n",
    "\n",
    "\n",
    "\n",
    "for i in range(len(Y_pred_labels)):\n",
    "    if Y_pred_labels[i]!=Y_test_labels[i]:\n",
    "        print(\"Predicted:\", label_to_emoji(Y_pred_labels[i]), \"Actual:\", label_to_emoji(Y_test_labels[i]))\n"
   ]
  },
  {
   "cell_type": "code",
   "execution_count": null,
   "metadata": {
    "notebookRunGroups": {
     "groupValue": "21"
    }
   },
   "outputs": [
    {
     "name": "stdout",
     "output_type": "stream",
     "text": [
      "1/1 [==============================] - 0s 25ms/step\n"
     ]
    }
   ],
   "source": [
    "test = [\"I am trying\", \"I want to cry\", \"This is just sad\"]\n",
    "actual_outputs = np.array([3,3,3])\n",
    "\n",
    "test_seq = tokenizer.texts_to_sequences(test)\n",
    "Xtest = pad_sequences(test_seq, maxlen=maxlen, padding='post', truncating='post')\n",
    "y_pred = model.predict(Xtest)\n",
    "y_pred = np.argmax(y_pred, axis=1)\n",
    "\n",
    "# Write predictions to file\n",
    "with open(f\"{metrics_folder}/{filename}.md\", \"a\", encoding=\"utf-8\") as file:\n",
    "    file.write(\"\\n## Random test predictions: (accuracy based on discussion)<br>\\n\")\n",
    "    for i in range(len(test)):\n",
    "        file.write(f\"{test[i]} {label_to_emoji(y_pred[i])}<br>\\n\")"
   ]
  },
  {
   "cell_type": "code",
   "execution_count": null,
   "metadata": {
    "notebookRunGroups": {
     "groupValue": "21"
    }
   },
   "outputs": [
    {
     "name": "stdout",
     "output_type": "stream",
     "text": [
      "I am trying 😭\n",
      "I want to cry 😭\n",
      "This is just sad 😭\n"
     ]
    }
   ],
   "source": [
    "for i in range(len(test)):\n",
    "    print(test[i], label_to_emoji(y_pred[i]))"
   ]
  },
  {
   "cell_type": "code",
   "execution_count": null,
   "metadata": {
    "notebookRunGroups": {
     "groupValue": "2"
    }
   },
   "outputs": [
    {
     "data": {
      "text/plain": [
       "['❤️', '😂', '😃', '😭', '😍', '🔥', '👍', '🙏', '😠', '🤔']"
      ]
     },
     "execution_count": 32,
     "metadata": {},
     "output_type": "execute_result"
    }
   ],
   "source": [
    "class_names = []\n",
    "\n",
    "for i in range(len(emoji_dictionary)):\n",
    "    class_names.append(label_to_emoji(i))\n",
    "    "
   ]
  },
  {
   "cell_type": "code",
   "execution_count": null,
   "metadata": {
    "notebookRunGroups": {
     "groupValue": "2"
    }
   },
   "outputs": [
    {
     "name": "stderr",
     "output_type": "stream",
     "text": [
      "c:\\Users\\nawsh\\miniconda3\\envs\\myenv\\lib\\site-packages\\mlxtend\\plotting\\plot_confusion_matrix.py:102: RuntimeWarning: invalid value encountered in divide\n",
      "  normed_conf_mat = conf_mat.astype(\"float\") / total_samples\n"
     ]
    },
    {
     "data": {
      "image/png": "[encoded data removed]",
      "text/plain": [
       "<Figure size 640x480 with 2 Axes>"
      ]
     },
     "metadata": {},
     "output_type": "display_data"
    }
   ],
   "source": [
    "\n",
    "color = \"Purples\"\n",
    "\n",
    "plt.rcParams['font.family'] = 'Segoe UI Emoji'\n",
    "\n",
    "\n",
    "cf_matrix = confusion_matrix(Y_pred_labels, Y_test_labels)\n",
    "\n",
    "# Plot confusion matrix\n",
    "fig, ax = plot_confusion_matrix(conf_mat=cf_matrix,\n",
    "                                colorbar=True,\n",
    "                                show_absolute=True,\n",
    "                                show_normed=False,\n",
    "                                class_names=class_names,\n",
    "                                cmap=color)\n",
    "\n",
    "# Add border around the entire matrix\n",
    "ax.add_patch(plt.Rectangle((-0.5, -0.5), len(cf_matrix[0]), len(cf_matrix), color='black', fill=False, linewidth=1))\n",
    "\n",
    "# Set custom axis labels\n",
    "plt.ylabel('Predicted label', fontsize=14)  # Change the label for the x-axis\n",
    "plt.xlabel('True label', fontsize=14)       # Change the label for the y-axis\n",
    "\n",
    "\n",
    "# Draw outline around each cell\n",
    "for i in range(len(cf_matrix)):\n",
    "    for j in range(len(cf_matrix[i])):\n",
    "        ax.add_patch(plt.Rectangle((j - 0.5, i - 0.5), 1, 1, color='black', fill=False, linewidth=0.1))\n",
    "\n",
    "# Adjust font size of the confusion matrix cells\n",
    "for text in ax.texts:\n",
    "    text.set_fontsize(8)  \n",
    "    \n",
    "plt.savefig(f\"{model_save_path}/confusion_matrices/{filename}.png\")\n",
    "\n",
    "plt.show()\n"
   ]
  },
  {
   "cell_type": "code",
   "execution_count": null,
   "metadata": {
    "notebookRunGroups": {
     "groupValue": "2"
    }
   },
   "outputs": [
    {
     "data": {
      "image/png": "[encoded data removed]",
      "text/plain": [
       "<Figure size 1000x600 with 1 Axes>"
      ]
     },
     "metadata": {},
     "output_type": "display_data"
    }
   ],
   "source": [
    "import matplotlib.pyplot as plt\n",
    "\n",
    "# Extract accuracy for each class\n",
    "class_accuracy = {class_label: report[str(class_label)]['precision'] for class_label in range(num_classes)}\n",
    "\n",
    "# Sort class_accuracy dictionary by class label\n",
    "sorted_class_accuracy = dict(sorted(class_accuracy.items()))\n",
    "\n",
    "# Plot class accuracy\n",
    "plt.figure(figsize=(10, 6))\n",
    "plt.bar(sorted_class_accuracy.keys(), sorted_class_accuracy.values(), color='skyblue')\n",
    "plt.xlabel('Class Label')\n",
    "plt.ylabel('Precision (Accuracy)')\n",
    "plt.title('Class Accuracy')\n",
    "plt.xticks(range(num_classes))\n",
    "plt.grid(axis='y', linestyle='--', alpha=0.7)\n",
    "plt.savefig(f\"{model_save_path}/class_accuracy/{filename}.png\")\n",
    "plt.show()\n"
   ]
  }
 ],
 "metadata": {
  "kernelspec": {
   "display_name": "Python 3",
   "language": "python",
   "name": "python3"
  },
  "language_info": {
   "codemirror_mode": {
    "name": "ipython",
    "version": 3
   },
   "file_extension": ".py",
   "mimetype": "text/x-python",
   "name": "python",
   "nbconvert_exporter": "python",
   "pygments_lexer": "ipython3",
   "version": "3.10.13"
  }
 },
 "nbformat": 4,
 "nbformat_minor": 2
}
